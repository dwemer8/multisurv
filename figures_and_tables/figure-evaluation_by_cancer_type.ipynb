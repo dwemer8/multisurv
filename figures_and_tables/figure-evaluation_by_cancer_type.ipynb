{
 "cells": [
  {
   "cell_type": "markdown",
   "metadata": {},
   "source": [
    "<a id='Top'></a>\n",
    "\n",
    "# MultiSurv results by cancer type<a class='tocSkip'></a>\n",
    "\n",
    "C-index value results for each cancer type of the best MultiSurv model trained on all-cancer data."
   ]
  },
  {
   "cell_type": "code",
   "execution_count": 1,
   "metadata": {
    "code_folding": []
   },
   "outputs": [],
   "source": [
    "%load_ext autoreload\n",
    "%autoreload 2\n",
    "\n",
    "%load_ext watermark\n",
    "\n",
    "import sys\n",
    "import os\n",
    "\n",
    "import numpy as np\n",
    "import pandas as pd\n",
    "import matplotlib\n",
    "import matplotlib.pyplot as plt\n",
    "import torch\n",
    "\n",
    "# Make modules in \"src\" dir visible\n",
    "project_dir = os.path.split(os.getcwd())[0]\n",
    "if project_dir not in sys.path:\n",
    "    sys.path.append(os.path.join(project_dir, 'src'))\n",
    "\n",
    "import dataset\n",
    "from model import Model\n",
    "import utils\n",
    "\n",
    "matplotlib.style.use('multisurv.mplstyle')"
   ]
  },
  {
   "cell_type": "markdown",
   "metadata": {
    "toc": true
   },
   "source": [
    "<h1>Table of Contents<span class=\"tocSkip\"></span></h1>\n",
    "<div class=\"toc\"><ul class=\"toc-item\"><li><span><a href=\"#Load-model\" data-toc-modified-id=\"Load-model-1\"><span class=\"toc-item-num\">1&nbsp;&nbsp;</span>Load model</a></span></li><li><span><a href=\"#Evaluate\" data-toc-modified-id=\"Evaluate-2\"><span class=\"toc-item-num\">2&nbsp;&nbsp;</span>Evaluate</a></span></li><li><span><a href=\"#Result-graph\" data-toc-modified-id=\"Result-graph-3\"><span class=\"toc-item-num\">3&nbsp;&nbsp;</span>Result graph</a></span><ul class=\"toc-item\"><li><span><a href=\"#Save-to-files\" data-toc-modified-id=\"Save-to-files-3.1\"><span class=\"toc-item-num\">3.1&nbsp;&nbsp;</span>Save to files</a></span></li></ul></li><li><span><a href=\"#Metric-correlation-with-other-attributes\" data-toc-modified-id=\"Metric-correlation-with-other-attributes-4\"><span class=\"toc-item-num\">4&nbsp;&nbsp;</span>Metric correlation with other attributes</a></span><ul class=\"toc-item\"><li><span><a href=\"#Collect-feature-representations\" data-toc-modified-id=\"Collect-feature-representations-4.1\"><span class=\"toc-item-num\">4.1&nbsp;&nbsp;</span>Collect feature representations</a></span></li><li><span><a href=\"#Compute-dispersion-and-add-to-selected-metric-table\" data-toc-modified-id=\"Compute-dispersion-and-add-to-selected-metric-table-4.2\"><span class=\"toc-item-num\">4.2&nbsp;&nbsp;</span>Compute dispersion and add to selected metric table</a></span></li><li><span><a href=\"#Plot\" data-toc-modified-id=\"Plot-4.3\"><span class=\"toc-item-num\">4.3&nbsp;&nbsp;</span>Plot</a></span></li></ul></li></ul></div>"
   ]
  },
  {
   "cell_type": "code",
   "execution_count": 2,
   "metadata": {},
   "outputs": [],
   "source": [
    "DATA = utils.INPUT_DATA_DIR\n",
    "MODELS = utils.TRAINED_MODEL_DIR\n",
    "\n",
    "device = torch.device('cuda:0' if torch.cuda.is_available() else 'cpu')"
   ]
  },
  {
   "cell_type": "markdown",
   "metadata": {},
   "source": [
    "# Load model"
   ]
  },
  {
   "cell_type": "code",
   "execution_count": 3,
   "metadata": {},
   "outputs": [
    {
     "name": "stdout",
     "output_type": "stream",
     "text": [
      "Data modalities:\n",
      "   clinical\n",
      "   mRNA\n",
      "\n",
      "Dataset sizes (# patients):\n",
      "   train: 8880\n",
      "   val: 1109\n",
      "   test: 1092\n",
      "\n",
      "Batch size: 128\n"
     ]
    }
   ],
   "source": [
    "dataloaders = utils.get_dataloaders(\n",
    "    data_location=DATA,\n",
    "    labels_file='../data/labels.tsv',\n",
    "    modalities=['clinical', 'mRNA'],\n",
    "#     exclude_patients=exclude_cancers,\n",
    "    return_patient_id=True\n",
    ")"
   ]
  },
  {
   "cell_type": "code",
   "execution_count": 4,
   "metadata": {},
   "outputs": [
    {
     "name": "stdout",
     "output_type": "stream",
     "text": [
      "Instantiating MultiSurv model...\n",
      "Load model weights:\n",
      "/mnt/dataA/multisurv_models/clinical_mRNA_lr0.005_epoch43_acc0.81.pth\n"
     ]
    }
   ],
   "source": [
    "multisurv = Model(dataloaders=dataloaders, device=device)\n",
    "multisurv.load_weights(os.path.join(MODELS, 'clinical_mRNA_lr0.005_epoch43_acc0.81.pth'))"
   ]
  },
  {
   "cell_type": "markdown",
   "metadata": {},
   "source": [
    "# Evaluate"
   ]
  },
  {
   "cell_type": "code",
   "execution_count": 5,
   "metadata": {},
   "outputs": [],
   "source": [
    "def get_patients_with(cancer_type, split_group='test'):\n",
    "    labels = pd.read_csv('../data/labels.tsv', sep='\\t')\n",
    "    cancer_labels = labels[labels['project_id'] == cancer_type]\n",
    "    group_cancer_labels = cancer_labels[cancer_labels['group'] == split_group]\n",
    "\n",
    "    return list(group_cancer_labels['submitter_id'])"
   ]
  },
  {
   "cell_type": "code",
   "execution_count": 6,
   "metadata": {
    "scrolled": true
   },
   "outputs": [
    {
     "name": "stdout",
     "output_type": "stream",
     "text": [
      "--------------------------------------------\n",
      "                  1. SARC\n",
      "--------------------------------------------\n",
      "Keeping 8880 patient(s) not in exclude list.\n",
      "Keeping 1109 patient(s) not in exclude list.\n",
      "Keeping 26 patient(s) not in exclude list.\n",
      "Data modalities:\n",
      "   clinical\n",
      "   mRNA\n",
      "\n",
      "Dataset sizes (# patients):\n",
      "   train: 8880\n",
      "   val: 1109\n",
      "   test: 26\n",
      "\n",
      "Batch size: 128\n",
      "Collect patient predictions: 26/26\n",
      "\n",
      "Bootstrap\n",
      "---------\n",
      "1000/1000\n",
      "\n",
      "--------------------------------------------\n",
      "                  2. MESO\n",
      "--------------------------------------------\n",
      "Keeping 8880 patient(s) not in exclude list.\n",
      "Keeping 1109 patient(s) not in exclude list.\n",
      "Keeping 8 patient(s) not in exclude list.\n",
      "Data modalities:\n",
      "   clinical\n",
      "   mRNA\n",
      "\n",
      "Dataset sizes (# patients):\n",
      "   train: 8880\n",
      "   val: 1109\n",
      "   test: 8\n",
      "\n",
      "Batch size: 128\n",
      "Collect patient predictions: 8/8\n",
      "\n",
      "Bootstrap\n",
      "---------\n",
      "1000/1000\n",
      "\n",
      "--------------------------------------------\n",
      "                  3. ACC\n",
      "--------------------------------------------\n",
      "Keeping 8880 patient(s) not in exclude list.\n",
      "Keeping 1109 patient(s) not in exclude list.\n",
      "Keeping 9 patient(s) not in exclude list.\n",
      "Data modalities:\n",
      "   clinical\n",
      "   mRNA\n",
      "\n",
      "Dataset sizes (# patients):\n",
      "   train: 8880\n",
      "   val: 1109\n",
      "   test: 9\n",
      "\n",
      "Batch size: 128\n",
      "Collect patient predictions: 9/9\n",
      "\n",
      "Bootstrap\n",
      "---------\n",
      "1000/1000\n",
      "\n",
      "--------------------------------------------\n",
      "                  4. READ\n",
      "--------------------------------------------\n",
      "Keeping 8880 patient(s) not in exclude list.\n",
      "Keeping 1109 patient(s) not in exclude list.\n"
     ]
    },
    {
     "name": "stderr",
     "output_type": "stream",
     "text": [
      "/home/luis/Documents/Work/2018_Postdoc_BioQuant/Projects/multisurv/src/evaluation.py:332: UserWarning: Skipped 105 bootstraps (No admissable pairs in the dataset.).\n",
      "  f'Skipped {skipped} bootstraps ({err}).')\n"
     ]
    },
    {
     "name": "stdout",
     "output_type": "stream",
     "text": [
      "Keeping 17 patient(s) not in exclude list.\n",
      "Data modalities:\n",
      "   clinical\n",
      "   mRNA\n",
      "\n",
      "Dataset sizes (# patients):\n",
      "   train: 8880\n",
      "   val: 1109\n",
      "   test: 17\n",
      "\n",
      "Batch size: 128\n",
      "Collect patient predictions: 17/17\n",
      "\n",
      "Bootstrap\n",
      "---------\n",
      "1000/1000\n",
      "\n",
      "--------------------------------------------\n",
      "                  5. LGG\n",
      "--------------------------------------------\n"
     ]
    },
    {
     "name": "stderr",
     "output_type": "stream",
     "text": [
      "/home/luis/Documents/Work/2018_Postdoc_BioQuant/Projects/multisurv/src/evaluation.py:332: UserWarning: Skipped 71 bootstraps (No admissable pairs in the dataset.).\n",
      "  f'Skipped {skipped} bootstraps ({err}).')\n"
     ]
    },
    {
     "name": "stdout",
     "output_type": "stream",
     "text": [
      "Keeping 8880 patient(s) not in exclude list.\n",
      "Keeping 1109 patient(s) not in exclude list.\n",
      "Keeping 50 patient(s) not in exclude list.\n",
      "Data modalities:\n",
      "   clinical\n",
      "   mRNA\n",
      "\n",
      "Dataset sizes (# patients):\n",
      "   train: 8880\n",
      "   val: 1109\n",
      "   test: 50\n",
      "\n",
      "Batch size: 128\n",
      "Collect patient predictions: 50/50\n",
      "\n",
      "Bootstrap\n",
      "---------\n",
      "1000/1000\n",
      "\n",
      "--------------------------------------------\n",
      "                  6. THCA\n",
      "--------------------------------------------\n",
      "Keeping 8880 patient(s) not in exclude list.\n",
      "Keeping 1109 patient(s) not in exclude list.\n",
      "Keeping 50 patient(s) not in exclude list.\n",
      "Data modalities:\n",
      "   clinical\n",
      "   mRNA\n",
      "\n",
      "Dataset sizes (# patients):\n",
      "   train: 8880\n",
      "   val: 1109\n",
      "   test: 50\n",
      "\n",
      "Batch size: 128\n",
      "Collect patient predictions: 50/50\n",
      "\n",
      "Bootstrap\n",
      "---------\n",
      "1000/1000\n",
      "\n",
      "--------------------------------------------\n",
      "                  7. CHOL\n",
      "--------------------------------------------\n"
     ]
    },
    {
     "name": "stderr",
     "output_type": "stream",
     "text": [
      "/home/luis/Documents/Work/2018_Postdoc_BioQuant/Projects/multisurv/src/evaluation.py:332: UserWarning: Skipped 37 bootstraps (No admissable pairs in the dataset.).\n",
      "  f'Skipped {skipped} bootstraps ({err}).')\n"
     ]
    },
    {
     "name": "stdout",
     "output_type": "stream",
     "text": [
      "Keeping 8880 patient(s) not in exclude list.\n",
      "Keeping 1109 patient(s) not in exclude list.\n",
      "Keeping 5 patient(s) not in exclude list.\n",
      "Data modalities:\n",
      "   clinical\n",
      "   mRNA\n",
      "\n",
      "Dataset sizes (# patients):\n",
      "   train: 8880\n",
      "   val: 1109\n",
      "   test: 5\n",
      "\n",
      "Batch size: 128\n",
      "Collect patient predictions: 5/5\n",
      "\n",
      "Bootstrap\n",
      "---------\n",
      "1000/1000\n",
      "\n",
      "--------------------------------------------\n",
      "                  8. KIRC\n",
      "--------------------------------------------\n",
      "Keeping 8880 patient(s) not in exclude list.\n",
      "Keeping 1109 patient(s) not in exclude list.\n"
     ]
    },
    {
     "name": "stderr",
     "output_type": "stream",
     "text": [
      "/home/luis/Documents/Work/2018_Postdoc_BioQuant/Projects/multisurv/src/evaluation.py:332: UserWarning: Skipped 2 bootstraps (No admissable pairs in the dataset.).\n",
      "  f'Skipped {skipped} bootstraps ({err}).')\n"
     ]
    },
    {
     "name": "stdout",
     "output_type": "stream",
     "text": [
      "Keeping 53 patient(s) not in exclude list.\n",
      "Data modalities:\n",
      "   clinical\n",
      "   mRNA\n",
      "\n",
      "Dataset sizes (# patients):\n",
      "   train: 8880\n",
      "   val: 1109\n",
      "   test: 53\n",
      "\n",
      "Batch size: 128\n",
      "Collect patient predictions: 53/53\n",
      "\n",
      "Bootstrap\n",
      "---------\n",
      "1000/1000\n",
      "\n",
      "--------------------------------------------\n",
      "                  9. BRCA\n",
      "--------------------------------------------\n",
      "Keeping 8880 patient(s) not in exclude list.\n",
      "Keeping 1109 patient(s) not in exclude list.\n",
      "Keeping 108 patient(s) not in exclude list.\n",
      "Data modalities:\n",
      "   clinical\n",
      "   mRNA\n",
      "\n",
      "Dataset sizes (# patients):\n",
      "   train: 8880\n",
      "   val: 1109\n",
      "   test: 108\n",
      "\n",
      "Batch size: 128\n",
      "Collect patient predictions: 108/108\n",
      "\n",
      "Bootstrap\n",
      "---------\n",
      "1000/1000\n",
      "\n",
      "--------------------------------------------\n",
      "                  10. OV\n",
      "--------------------------------------------\n",
      "Keeping 8880 patient(s) not in exclude list.\n",
      "Keeping 1109 patient(s) not in exclude list.\n",
      "Keeping 57 patient(s) not in exclude list.\n",
      "Data modalities:\n",
      "   clinical\n",
      "   mRNA\n",
      "\n",
      "Dataset sizes (# patients):\n",
      "   train: 8880\n",
      "   val: 1109\n",
      "   test: 57\n",
      "\n",
      "Batch size: 128\n",
      "Collect patient predictions: 57/57\n",
      "\n",
      "Bootstrap\n",
      "---------\n",
      "1000/1000\n",
      "\n",
      "--------------------------------------------\n",
      "                  11. GBM\n",
      "--------------------------------------------\n",
      "Keeping 8880 patient(s) not in exclude list.\n",
      "Keeping 1109 patient(s) not in exclude list.\n",
      "Keeping 58 patient(s) not in exclude list.\n",
      "Data modalities:\n",
      "   clinical\n",
      "   mRNA\n",
      "\n",
      "Dataset sizes (# patients):\n",
      "   train: 8880\n",
      "   val: 1109\n",
      "   test: 58\n",
      "\n",
      "Batch size: 128\n",
      "Collect patient predictions: 58/58\n",
      "\n",
      "Bootstrap\n",
      "---------\n",
      "1000/1000\n",
      "\n",
      "--------------------------------------------\n",
      "                  12. SKCM\n",
      "--------------------------------------------\n",
      "Keeping 8880 patient(s) not in exclude list.\n",
      "Keeping 1109 patient(s) not in exclude list.\n",
      "Keeping 45 patient(s) not in exclude list.\n",
      "Data modalities:\n",
      "   clinical\n",
      "   mRNA\n",
      "\n",
      "Dataset sizes (# patients):\n",
      "   train: 8880\n",
      "   val: 1109\n",
      "   test: 45\n",
      "\n",
      "Batch size: 128\n",
      "Collect patient predictions: 45/45\n",
      "\n",
      "Bootstrap\n",
      "---------\n",
      "1000/1000\n",
      "\n",
      "--------------------------------------------\n",
      "                  13. DLBC\n",
      "--------------------------------------------\n",
      "Keeping 8880 patient(s) not in exclude list.\n",
      "Keeping 1109 patient(s) not in exclude list.\n",
      "Keeping 5 patient(s) not in exclude list.\n",
      "Data modalities:\n",
      "   clinical\n",
      "   mRNA\n",
      "\n",
      "Dataset sizes (# patients):\n",
      "   train: 8880\n",
      "   val: 1109\n",
      "   test: 5\n",
      "\n",
      "Batch size: 128\n",
      "Collect patient predictions: 5/5\n",
      "\n",
      "\n",
      "--------------------------------------------\n",
      "                  14. KICH\n",
      "--------------------------------------------\n",
      "Keeping 8880 patient(s) not in exclude list.\n",
      "Keeping 1109 patient(s) not in exclude list.\n",
      "Keeping 11 patient(s) not in exclude list.\n",
      "Data modalities:\n",
      "   clinical\n",
      "   mRNA\n",
      "\n",
      "Dataset sizes (# patients):\n",
      "   train: 8880\n",
      "   val: 1109\n",
      "   test: 11\n",
      "\n",
      "Batch size: 128\n",
      "Collect patient predictions: 11/11\n",
      "\n",
      "Bootstrap\n",
      "---------\n",
      "1000/1000\n",
      "\n",
      "--------------------------------------------\n",
      "                  15. UVM\n",
      "--------------------------------------------\n"
     ]
    },
    {
     "name": "stderr",
     "output_type": "stream",
     "text": [
      "/home/luis/Documents/Work/2018_Postdoc_BioQuant/Projects/multisurv/src/evaluation.py:332: UserWarning: Skipped 117 bootstraps (No admissable pairs in the dataset.).\n",
      "  f'Skipped {skipped} bootstraps ({err}).')\n"
     ]
    },
    {
     "name": "stdout",
     "output_type": "stream",
     "text": [
      "Keeping 8880 patient(s) not in exclude list.\n",
      "Keeping 1109 patient(s) not in exclude list.\n",
      "Keeping 8 patient(s) not in exclude list.\n",
      "Data modalities:\n",
      "   clinical\n",
      "   mRNA\n",
      "\n",
      "Dataset sizes (# patients):\n",
      "   train: 8880\n",
      "   val: 1109\n",
      "   test: 8\n",
      "\n",
      "Batch size: 128\n",
      "Collect patient predictions: 8/8\n",
      "\n",
      "Bootstrap\n",
      "---------\n",
      "1000/1000\n",
      "\n",
      "--------------------------------------------\n",
      "                  16. THYM\n",
      "--------------------------------------------\n"
     ]
    },
    {
     "name": "stderr",
     "output_type": "stream",
     "text": [
      "/home/luis/Documents/Work/2018_Postdoc_BioQuant/Projects/multisurv/src/evaluation.py:332: UserWarning: Skipped 88 bootstraps (No admissable pairs in the dataset.).\n",
      "  f'Skipped {skipped} bootstraps ({err}).')\n"
     ]
    },
    {
     "name": "stdout",
     "output_type": "stream",
     "text": [
      "Keeping 8880 patient(s) not in exclude list.\n",
      "Keeping 1109 patient(s) not in exclude list.\n",
      "Keeping 12 patient(s) not in exclude list.\n",
      "Data modalities:\n",
      "   clinical\n",
      "   mRNA\n",
      "\n",
      "Dataset sizes (# patients):\n",
      "   train: 8880\n",
      "   val: 1109\n",
      "   test: 12\n",
      "\n",
      "Batch size: 128\n",
      "Collect patient predictions: 12/12\n",
      "\n",
      "\n",
      "--------------------------------------------\n",
      "                  17. TGCT\n",
      "--------------------------------------------\n",
      "Keeping 8880 patient(s) not in exclude list.\n",
      "Keeping 1109 patient(s) not in exclude list.\n",
      "Keeping 13 patient(s) not in exclude list.\n",
      "Data modalities:\n",
      "   clinical\n",
      "   mRNA\n",
      "\n",
      "Dataset sizes (# patients):\n",
      "   train: 8880\n",
      "   val: 1109\n",
      "   test: 13\n",
      "\n",
      "Batch size: 128\n",
      "Collect patient predictions: 13/13\n",
      "\n",
      "\n",
      "--------------------------------------------\n",
      "                  18. LUSC\n",
      "--------------------------------------------\n",
      "Keeping 8880 patient(s) not in exclude list.\n",
      "Keeping 1109 patient(s) not in exclude list.\n",
      "Keeping 49 patient(s) not in exclude list.\n",
      "Data modalities:\n",
      "   clinical\n",
      "   mRNA\n",
      "\n",
      "Dataset sizes (# patients):\n",
      "   train: 8880\n",
      "   val: 1109\n",
      "   test: 49\n",
      "\n",
      "Batch size: 128\n",
      "Collect patient predictions: 49/49\n",
      "\n",
      "Bootstrap\n",
      "---------\n",
      "1000/1000\n",
      "\n",
      "--------------------------------------------\n",
      "                  19. PRAD\n",
      "--------------------------------------------\n",
      "Keeping 8880 patient(s) not in exclude list.\n",
      "Keeping 1109 patient(s) not in exclude list.\n",
      "Keeping 49 patient(s) not in exclude list.\n",
      "Data modalities:\n",
      "   clinical\n",
      "   mRNA\n",
      "\n",
      "Dataset sizes (# patients):\n",
      "   train: 8880\n",
      "   val: 1109\n",
      "   test: 49\n",
      "\n",
      "Batch size: 128\n",
      "Collect patient predictions: 49/49\n",
      "\n",
      "Bootstrap\n",
      "---------\n",
      "1000/1000\n",
      "\n",
      "--------------------------------------------\n",
      "                  20. UCEC\n",
      "--------------------------------------------\n"
     ]
    },
    {
     "name": "stderr",
     "output_type": "stream",
     "text": [
      "/home/luis/Documents/Work/2018_Postdoc_BioQuant/Projects/multisurv/src/evaluation.py:332: UserWarning: Skipped 161 bootstraps (No admissable pairs in the dataset.).\n",
      "  f'Skipped {skipped} bootstraps ({err}).')\n"
     ]
    },
    {
     "name": "stdout",
     "output_type": "stream",
     "text": [
      "Keeping 8880 patient(s) not in exclude list.\n",
      "Keeping 1109 patient(s) not in exclude list.\n",
      "Keeping 54 patient(s) not in exclude list.\n",
      "Data modalities:\n",
      "   clinical\n",
      "   mRNA\n",
      "\n",
      "Dataset sizes (# patients):\n",
      "   train: 8880\n",
      "   val: 1109\n",
      "   test: 54\n",
      "\n",
      "Batch size: 128\n",
      "Collect patient predictions: 54/54\n",
      "\n",
      "Bootstrap\n",
      "---------\n",
      "1000/1000\n",
      "\n",
      "--------------------------------------------\n",
      "                  21. LAML\n",
      "--------------------------------------------\n"
     ]
    },
    {
     "name": "stderr",
     "output_type": "stream",
     "text": [
      "/home/luis/Documents/Work/2018_Postdoc_BioQuant/Projects/multisurv/src/evaluation.py:332: UserWarning: Skipped 3 bootstraps (No admissable pairs in the dataset.).\n",
      "  f'Skipped {skipped} bootstraps ({err}).')\n"
     ]
    },
    {
     "name": "stdout",
     "output_type": "stream",
     "text": [
      "Keeping 8880 patient(s) not in exclude list.\n",
      "Keeping 1109 patient(s) not in exclude list.\n",
      "Keeping 18 patient(s) not in exclude list.\n",
      "Data modalities:\n",
      "   clinical\n",
      "   mRNA\n",
      "\n",
      "Dataset sizes (# patients):\n",
      "   train: 8880\n",
      "   val: 1109\n",
      "   test: 18\n",
      "\n",
      "Batch size: 128\n",
      "Collect patient predictions: 18/18\n",
      "\n",
      "Bootstrap\n",
      "---------\n",
      "1000/1000\n",
      "\n",
      "--------------------------------------------\n",
      "                  22. STAD\n",
      "--------------------------------------------\n",
      "Keeping 8880 patient(s) not in exclude list.\n",
      "Keeping 1109 patient(s) not in exclude list.\n",
      "Keeping 43 patient(s) not in exclude list.\n",
      "Data modalities:\n",
      "   clinical\n",
      "   mRNA\n",
      "\n",
      "Dataset sizes (# patients):\n",
      "   train: 8880\n",
      "   val: 1109\n",
      "   test: 43\n",
      "\n",
      "Batch size: 128\n",
      "Collect patient predictions: 43/43\n",
      "\n",
      "Bootstrap\n",
      "---------\n",
      "1000/1000\n",
      "\n",
      "--------------------------------------------\n",
      "                  23. ESCA\n",
      "--------------------------------------------\n",
      "Keeping 8880 patient(s) not in exclude list.\n",
      "Keeping 1109 patient(s) not in exclude list.\n",
      "Keeping 18 patient(s) not in exclude list.\n",
      "Data modalities:\n",
      "   clinical\n",
      "   mRNA\n",
      "\n",
      "Dataset sizes (# patients):\n",
      "   train: 8880\n",
      "   val: 1109\n",
      "   test: 18\n",
      "\n",
      "Batch size: 128\n",
      "Collect patient predictions: 18/18\n",
      "\n",
      "Bootstrap\n",
      "---------\n",
      "1000/1000\n",
      "\n",
      "--------------------------------------------\n",
      "                  24. HNSC\n",
      "--------------------------------------------\n"
     ]
    },
    {
     "name": "stderr",
     "output_type": "stream",
     "text": [
      "/home/luis/Documents/Work/2018_Postdoc_BioQuant/Projects/multisurv/src/evaluation.py:332: UserWarning: Skipped 7 bootstraps (No admissable pairs in the dataset.).\n",
      "  f'Skipped {skipped} bootstraps ({err}).')\n"
     ]
    },
    {
     "name": "stdout",
     "output_type": "stream",
     "text": [
      "Keeping 8880 patient(s) not in exclude list.\n",
      "Keeping 1109 patient(s) not in exclude list.\n",
      "Keeping 52 patient(s) not in exclude list.\n",
      "Data modalities:\n",
      "   clinical\n",
      "   mRNA\n",
      "\n",
      "Dataset sizes (# patients):\n",
      "   train: 8880\n",
      "   val: 1109\n",
      "   test: 52\n",
      "\n",
      "Batch size: 128\n",
      "Collect patient predictions: 52/52\n",
      "\n",
      "Bootstrap\n",
      "---------\n",
      "1000/1000\n",
      "\n",
      "--------------------------------------------\n",
      "                  25. LIHC\n",
      "--------------------------------------------\n",
      "Keeping 8880 patient(s) not in exclude list.\n",
      "Keeping 1109 patient(s) not in exclude list.\n",
      "Keeping 37 patient(s) not in exclude list.\n",
      "Data modalities:\n",
      "   clinical\n",
      "   mRNA\n",
      "\n",
      "Dataset sizes (# patients):\n",
      "   train: 8880\n",
      "   val: 1109\n",
      "   test: 37\n",
      "\n",
      "Batch size: 128\n",
      "Collect patient predictions: 37/37\n",
      "\n",
      "Bootstrap\n",
      "---------\n",
      "1000/1000\n",
      "\n",
      "--------------------------------------------\n",
      "                  26. COAD\n",
      "--------------------------------------------\n",
      "Keeping 8880 patient(s) not in exclude list.\n",
      "Keeping 1109 patient(s) not in exclude list.\n",
      "Keeping 45 patient(s) not in exclude list.\n",
      "Data modalities:\n",
      "   clinical\n",
      "   mRNA\n",
      "\n",
      "Dataset sizes (# patients):\n",
      "   train: 8880\n",
      "   val: 1109\n",
      "   test: 45\n",
      "\n",
      "Batch size: 128\n",
      "Collect patient predictions: 45/45\n",
      "\n",
      "Bootstrap\n",
      "---------\n",
      "1000/1000\n",
      "\n",
      "--------------------------------------------\n",
      "                  27. LUAD\n",
      "--------------------------------------------\n",
      "Keeping 8880 patient(s) not in exclude list.\n",
      "Keeping 1109 patient(s) not in exclude list.\n",
      "Keeping 51 patient(s) not in exclude list.\n",
      "Data modalities:\n",
      "   clinical\n",
      "   mRNA\n",
      "\n",
      "Dataset sizes (# patients):\n",
      "   train: 8880\n",
      "   val: 1109\n",
      "   test: 51\n",
      "\n",
      "Batch size: 128\n",
      "Collect patient predictions: 51/51\n",
      "\n",
      "Bootstrap\n",
      "---------\n",
      "1000/1000\n",
      "\n",
      "--------------------------------------------\n",
      "                  28. CESC\n",
      "--------------------------------------------\n",
      "Keeping 8880 patient(s) not in exclude list.\n",
      "Keeping 1109 patient(s) not in exclude list.\n",
      "Keeping 30 patient(s) not in exclude list.\n",
      "Data modalities:\n",
      "   clinical\n",
      "   mRNA\n",
      "\n",
      "Dataset sizes (# patients):\n",
      "   train: 8880\n",
      "   val: 1109\n",
      "   test: 30\n",
      "\n",
      "Batch size: 128\n",
      "Collect patient predictions: 30/30\n",
      "\n",
      "Bootstrap\n",
      "---------\n",
      "1000/1000\n",
      "\n",
      "--------------------------------------------\n",
      "                  29. PAAD\n",
      "--------------------------------------------\n",
      "Keeping 8880 patient(s) not in exclude list.\n",
      "Keeping 1109 patient(s) not in exclude list.\n",
      "Keeping 18 patient(s) not in exclude list.\n",
      "Data modalities:\n",
      "   clinical\n",
      "   mRNA\n",
      "\n",
      "Dataset sizes (# patients):\n",
      "   train: 8880\n",
      "   val: 1109\n",
      "   test: 18\n",
      "\n",
      "Batch size: 128\n",
      "Collect patient predictions: 18/18\n",
      "\n",
      "Bootstrap\n",
      "---------\n",
      "1000/1000\n",
      "\n",
      "--------------------------------------------\n",
      "                  30. UCS\n",
      "--------------------------------------------\n",
      "Keeping 8880 patient(s) not in exclude list.\n",
      "Keeping 1109 patient(s) not in exclude list.\n",
      "Keeping 6 patient(s) not in exclude list.\n",
      "Data modalities:\n",
      "   clinical\n",
      "   mRNA\n",
      "\n",
      "Dataset sizes (# patients):\n",
      "   train: 8880\n",
      "   val: 1109\n",
      "   test: 6\n",
      "\n",
      "Batch size: 128\n",
      "Collect patient predictions: 6/6\n",
      "\n",
      "Bootstrap\n",
      "---------\n",
      "1000/1000\n",
      "\n",
      "--------------------------------------------\n",
      "                  31. KIRP\n",
      "--------------------------------------------\n",
      "Keeping 8880 patient(s) not in exclude list.\n",
      "Keeping 1109 patient(s) not in exclude list.\n"
     ]
    },
    {
     "name": "stderr",
     "output_type": "stream",
     "text": [
      "/home/luis/Documents/Work/2018_Postdoc_BioQuant/Projects/multisurv/src/evaluation.py:332: UserWarning: Skipped 81 bootstraps (No admissable pairs in the dataset.).\n",
      "  f'Skipped {skipped} bootstraps ({err}).')\n"
     ]
    },
    {
     "name": "stdout",
     "output_type": "stream",
     "text": [
      "Keeping 29 patient(s) not in exclude list.\n",
      "Data modalities:\n",
      "   clinical\n",
      "   mRNA\n",
      "\n",
      "Dataset sizes (# patients):\n",
      "   train: 8880\n",
      "   val: 1109\n",
      "   test: 29\n",
      "\n",
      "Batch size: 128\n",
      "Collect patient predictions: 29/29\n",
      "\n",
      "Bootstrap\n",
      "---------\n",
      "1000/1000\n",
      "\n",
      "--------------------------------------------\n",
      "                  32. PCPG\n",
      "--------------------------------------------\n",
      "Keeping 8880 patient(s) not in exclude list.\n",
      "Keeping 1109 patient(s) not in exclude list.\n",
      "Keeping 18 patient(s) not in exclude list.\n",
      "Data modalities:\n",
      "   clinical\n",
      "   mRNA\n",
      "\n",
      "Dataset sizes (# patients):\n",
      "   train: 8880\n",
      "   val: 1109\n",
      "   test: 18\n",
      "\n",
      "Batch size: 128\n",
      "Collect patient predictions: 18/18\n",
      "\n",
      "Bootstrap\n",
      "---------\n",
      "1000/1000\n",
      "\n",
      "--------------------------------------------\n",
      "                  33. BLCA\n",
      "--------------------------------------------\n",
      "Keeping 8880 patient(s) not in exclude list.\n"
     ]
    },
    {
     "name": "stderr",
     "output_type": "stream",
     "text": [
      "/home/luis/Documents/Work/2018_Postdoc_BioQuant/Projects/multisurv/src/evaluation.py:332: UserWarning: Skipped 116 bootstraps (No admissable pairs in the dataset.).\n",
      "  f'Skipped {skipped} bootstraps ({err}).')\n"
     ]
    },
    {
     "name": "stdout",
     "output_type": "stream",
     "text": [
      "Keeping 1109 patient(s) not in exclude list.\n",
      "Keeping 40 patient(s) not in exclude list.\n",
      "Data modalities:\n",
      "   clinical\n",
      "   mRNA\n",
      "\n",
      "Dataset sizes (# patients):\n",
      "   train: 8880\n",
      "   val: 1109\n",
      "   test: 40\n",
      "\n",
      "Batch size: 128\n",
      "Collect patient predictions: 40/40\n",
      "\n",
      "Bootstrap\n",
      "---------\n",
      "1000/1000\n",
      "\n",
      "\n",
      "\n",
      "CPU times: user 6min 55s, sys: 19.5 s, total: 7min 14s\n",
      "Wall time: 6min 42s\n"
     ]
    }
   ],
   "source": [
    "%%time\n",
    "\n",
    "results = {}\n",
    "minimum_n_patients = 0\n",
    "\n",
    "cancer_types = pd.read_csv('../data/labels.tsv', sep='\\t').project_id.unique()\n",
    "\n",
    "for i, cancer_type in enumerate(cancer_types):\n",
    "    print('-' * 44)\n",
    "    print(' ' * 17, f'{i + 1}.', cancer_type)\n",
    "    print('-' * 44)\n",
    "\n",
    "    patients = get_patients_with(cancer_type)\n",
    "    if len(patients) < minimum_n_patients:\n",
    "        continue\n",
    "    \n",
    "    exclude_patients = [p for p in dataloaders['test'].dataset.patient_ids\n",
    "                        if not p in patients]\n",
    "\n",
    "    data = utils.get_dataloaders(\n",
    "        data_location=DATA,\n",
    "        labels_file='../data/labels.tsv',\n",
    "        modalities=['clinical', 'mRNA'],\n",
    "        exclude_patients=exclude_patients,\n",
    "        return_patient_id=True\n",
    "    )['test'].dataset\n",
    "\n",
    "    results[cancer_type] = utils.Evaluation(model=multisurv, dataset=data, device=device)\n",
    "    results[cancer_type].run_bootstrap()\n",
    "    print()\n",
    "print()\n",
    "print()"
   ]
  },
  {
   "cell_type": "code",
   "execution_count": 7,
   "metadata": {},
   "outputs": [
    {
     "name": "stdout",
     "output_type": "stream",
     "text": [
      "Data modalities:\n",
      "   clinical\n",
      "   mRNA\n",
      "\n",
      "Dataset sizes (# patients):\n",
      "   train: 8880\n",
      "   val: 1109\n",
      "   test: 1092\n",
      "\n",
      "Batch size: 128\n",
      "Collect patient predictions: 1092/1092\n",
      "\n",
      "Bootstrap\n",
      "---------\n",
      "1000/1000\n",
      "\n",
      "CPU times: user 4min 3s, sys: 8.33 s, total: 4min 11s\n",
      "Wall time: 5min 4s\n"
     ]
    }
   ],
   "source": [
    "%%time\n",
    "\n",
    "data = utils.get_dataloaders(\n",
    "    data_location=DATA,\n",
    "    labels_file='../data/labels.tsv',\n",
    "    modalities=['clinical', 'mRNA'],\n",
    "    return_patient_id=True\n",
    ")['test'].dataset\n",
    "\n",
    "results['All'] = utils.Evaluation(model=multisurv, dataset=data, device=device)\n",
    "results['All'].run_bootstrap()\n",
    "print()"
   ]
  },
  {
   "cell_type": "markdown",
   "metadata": {},
   "source": [
    "In order to avoid very __noisy values__, establish a __minimum threshold__ for the number of patients in each given cancer type."
   ]
  },
  {
   "cell_type": "code",
   "execution_count": 8,
   "metadata": {},
   "outputs": [],
   "source": [
    "minimum_n_patients = 20"
   ]
  },
  {
   "cell_type": "code",
   "execution_count": 9,
   "metadata": {},
   "outputs": [
    {
     "name": "stdout",
     "output_type": "stream",
     "text": [
      "----------------------------------------\n",
      " Cancer     Ctd      IBS     # patients\n",
      "----------------------------------------\n",
      "  BLCA     0.784    0.17        40\n",
      "  BRCA     0.847    0.109       108\n",
      "  CESC     0.86     0.15        30\n",
      "  COAD     0.953    0.161       45\n",
      "  GBM      0.65     0.109       58\n",
      "  HNSC     0.715    0.225       52\n",
      "  KIRC     0.78     0.146       53\n",
      "  KIRP     0.959    0.066       29\n",
      "  LGG      0.741    0.142       50\n",
      "  LIHC     0.847    0.161       37\n",
      "  LUAD     0.686    0.165       51\n",
      "  LUSC     0.554    0.224       49\n",
      "  OV       0.644    0.166       57\n",
      "  PRAD     0.848    0.079       49\n",
      "  SARC     0.589    0.265       26\n",
      "  SKCM     0.773    0.142       45\n",
      "  STAD     0.774    0.191       43\n",
      "  THCA     0.988    0.045       50\n",
      "  UCEC     0.658    0.088       54\n"
     ]
    }
   ],
   "source": [
    "cancer_types = pd.read_csv('../data/labels.tsv', sep='\\t').project_id.unique()\n",
    "selected_cancer_types = ['All']\n",
    "\n",
    "print('-' * 40)\n",
    "print(' Cancer     Ctd      IBS     # patients')\n",
    "print('-' * 40)\n",
    "for cancer_type in sorted(list(cancer_types)):\n",
    "    patients = get_patients_with(cancer_type)\n",
    "    if len(patients) > minimum_n_patients:\n",
    "        selected_cancer_types.append(cancer_type)\n",
    "        ctd = str(round(results[cancer_type].c_index_td, 3))\n",
    "        ibs = str(round(results[cancer_type].ibs, 3))\n",
    "\n",
    "        message = '  ' + cancer_type\n",
    "        message += ' ' * (11 - len(message)) + ctd\n",
    "        message += ' ' * (20 - len(message)) + ibs\n",
    "        message += ' ' * (32 - len(message)) + str(len(patients))\n",
    "        print(message)\n",
    "#         print(' ' + cancer_type + ' ' * (10 - len(cancer_type)) + \\\n",
    "#               ctd + ' ' * (10 - len(ibs)) + ibs + ' ' * (13 - len(ctd)) \\\n",
    "#               + str(len(patients)))"
   ]
  },
  {
   "cell_type": "code",
   "execution_count": 10,
   "metadata": {},
   "outputs": [],
   "source": [
    "def format_bootstrap_output(evaluator):\n",
    "    results = evaluator.format_results()\n",
    "    \n",
    "    for metric in results:\n",
    "        results[metric] = results[metric].split(' ')\n",
    "        val = results[metric][0]\n",
    "        ci_low, ci_high = results[metric][1].split('(')[1].split(')')[0].split('-')\n",
    "        results[metric] = val, ci_low, ci_high\n",
    "        results[metric] = [float(x) for x in results[metric]]\n",
    "    \n",
    "    return results"
   ]
  },
  {
   "cell_type": "code",
   "execution_count": 11,
   "metadata": {},
   "outputs": [],
   "source": [
    "formatted_results = {}\n",
    "\n",
    "# for cancer_type in results:\n",
    "for cancer_type in sorted(selected_cancer_types):\n",
    "    formatted_results[cancer_type] = format_bootstrap_output(results[cancer_type])"
   ]
  },
  {
   "cell_type": "code",
   "execution_count": 12,
   "metadata": {},
   "outputs": [
    {
     "data": {
      "text/plain": [
       "{'All': {'C-index': [0.818, 0.8, 0.835],\n",
       "  'Ctd': [0.822, 0.805, 0.839],\n",
       "  'IBS': [0.138, 0.127, 0.151],\n",
       "  'INBLL': [0.425, 0.396, 0.463]},\n",
       " 'BLCA': {'C-index': [0.776, 0.682, 0.88],\n",
       "  'Ctd': [0.784, 0.691, 0.893],\n",
       "  'IBS': [0.17, 0.134, 0.203],\n",
       "  'INBLL': [0.513, 0.425, 0.589]},\n",
       " 'BRCA': {'C-index': [0.845, 0.733, 0.937],\n",
       "  'Ctd': [0.847, 0.735, 0.94],\n",
       "  'IBS': [0.109, 0.066, 0.135],\n",
       "  'INBLL': [0.35, 0.226, 0.421]},\n",
       " 'CESC': {'C-index': [0.86, 0.721, 0.987],\n",
       "  'Ctd': [0.86, 0.721, 0.983],\n",
       "  'IBS': [0.15, 0.069, 0.205],\n",
       "  'INBLL': [0.459, 0.256, 0.586]},\n",
       " 'COAD': {'C-index': [0.944, 0.897, 0.983],\n",
       "  'Ctd': [0.953, 0.917, 0.988],\n",
       "  'IBS': [0.161, 0.066, 0.192],\n",
       "  'INBLL': [0.51, 0.235, 0.626]},\n",
       " 'GBM': {'C-index': [0.65, 0.572, 0.723],\n",
       "  'Ctd': [0.65, 0.572, 0.723],\n",
       "  'IBS': [0.109, 0.101, 0.205],\n",
       "  'INBLL': [0.353, 0.328, 0.595]},\n",
       " 'HNSC': {'C-index': [0.71, 0.599, 0.829],\n",
       "  'Ctd': [0.715, 0.604, 0.835],\n",
       "  'IBS': [0.225, 0.186, 0.262],\n",
       "  'INBLL': [0.641, 0.552, 0.729]},\n",
       " 'KIRC': {'C-index': [0.777, 0.695, 0.864],\n",
       "  'Ctd': [0.78, 0.694, 0.871],\n",
       "  'IBS': [0.146, 0.111, 0.183],\n",
       "  'INBLL': [0.447, 0.356, 0.539]},\n",
       " 'KIRP': {'C-index': [0.918, 0.667, 1.0],\n",
       "  'Ctd': [0.959, 0.833, 1.0],\n",
       "  'IBS': [0.066, 0.027, 0.091],\n",
       "  'INBLL': [0.215, 0.11, 0.281]},\n",
       " 'LGG': {'C-index': [0.74, 0.545, 0.952],\n",
       "  'Ctd': [0.741, 0.545, 0.952],\n",
       "  'IBS': [0.142, 0.07, 0.176],\n",
       "  'INBLL': [0.453, 0.264, 0.557]},\n",
       " 'LIHC': {'C-index': [0.839, 0.725, 0.92],\n",
       "  'Ctd': [0.847, 0.737, 0.927],\n",
       "  'IBS': [0.161, 0.107, 0.209],\n",
       "  'INBLL': [0.481, 0.353, 0.589]},\n",
       " 'LUAD': {'C-index': [0.69, 0.515, 0.897],\n",
       "  'Ctd': [0.686, 0.51, 0.893],\n",
       "  'IBS': [0.165, 0.102, 0.191],\n",
       "  'INBLL': [0.508, 0.352, 0.575]},\n",
       " 'LUSC': {'C-index': [0.545, 0.404, 0.714],\n",
       "  'Ctd': [0.554, 0.408, 0.731],\n",
       "  'IBS': [0.224, 0.162, 0.249],\n",
       "  'INBLL': [0.639, 0.504, 0.696]},\n",
       " 'OV': {'C-index': [0.648, 0.551, 0.735],\n",
       "  'Ctd': [0.644, 0.55, 0.737],\n",
       "  'IBS': [0.166, 0.151, 0.19],\n",
       "  'INBLL': [0.499, 0.465, 0.557]},\n",
       " 'PRAD': {'C-index': [0.788, 0.25, 1.0],\n",
       "  'Ctd': [0.848, 0.5, 1.0],\n",
       "  'IBS': [0.079, 0.01, 0.145],\n",
       "  'INBLL': [0.369, 0.055, 0.664]},\n",
       " 'SARC': {'C-index': [0.595, 0.34, 0.794],\n",
       "  'Ctd': [0.589, 0.333, 0.786],\n",
       "  'IBS': [0.265, 0.154, 0.338],\n",
       "  'INBLL': [0.765, 0.47, 0.955]},\n",
       " 'SKCM': {'C-index': [0.783, 0.72, 0.848],\n",
       "  'Ctd': [0.773, 0.707, 0.836],\n",
       "  'IBS': [0.142, 0.123, 0.172],\n",
       "  'INBLL': [0.437, 0.393, 0.503]},\n",
       " 'STAD': {'C-index': [0.788, 0.699, 0.887],\n",
       "  'Ctd': [0.774, 0.68, 0.877],\n",
       "  'IBS': [0.191, 0.156, 0.22],\n",
       "  'INBLL': [0.561, 0.48, 0.625]},\n",
       " 'THCA': {'C-index': [0.988, 0.947, 1.0],\n",
       "  'Ctd': [0.988, 0.947, 1.0],\n",
       "  'IBS': [0.045, 0.005, 0.082],\n",
       "  'INBLL': [0.141, 0.018, 0.254]},\n",
       " 'UCEC': {'C-index': [0.626, 0.431, 0.919],\n",
       "  'Ctd': [0.658, 0.451, 0.985],\n",
       "  'IBS': [0.088, 0.045, 0.125],\n",
       "  'INBLL': [0.311, 0.188, 0.417]}}"
      ]
     },
     "execution_count": 12,
     "metadata": {},
     "output_type": "execute_result"
    }
   ],
   "source": [
    "formatted_results"
   ]
  },
  {
   "cell_type": "markdown",
   "metadata": {},
   "source": [
    "# Result graph\n",
    "\n",
    "Exclude cancer types with less than a chosen minimum number of patients, to avoid extremely noisy results."
   ]
  },
  {
   "cell_type": "code",
   "execution_count": 13,
   "metadata": {},
   "outputs": [
    {
     "data": {
      "image/png": "[encoded data removed]",
      "text/plain": [
       "<Figure size 432x72 with 1 Axes>"
      ]
     },
     "metadata": {
      "needs_background": "light"
     },
     "output_type": "display_data"
    }
   ],
   "source": [
    "utils.plot.show_default_colors()"
   ]
  },
  {
   "cell_type": "code",
   "execution_count": 14,
   "metadata": {},
   "outputs": [],
   "source": [
    "PLOT_SIZE = (15, 4)\n",
    "default_colors = plt.rcParams['axes.prop_cycle'].by_key()['color']"
   ]
  },
  {
   "cell_type": "code",
   "execution_count": 15,
   "metadata": {},
   "outputs": [],
   "source": [
    "def get_metric_results(metric, data):\n",
    "    df = pd.DataFrame()\n",
    "    df['Cancer type'] = data.keys()\n",
    "\n",
    "    val, err = [], []\n",
    "    \n",
    "    for cancer in formatted_results:\n",
    "        values = formatted_results[cancer][metric]\n",
    "        val.append(values[0])\n",
    "        err.append((values[0] - values[1], values[2] - values[0]))\n",
    "\n",
    "    df[metric] = val\n",
    "    err = np.swapaxes(np.array(err), 1, 0)\n",
    "\n",
    "    return df, err"
   ]
  },
  {
   "cell_type": "code",
   "execution_count": 16,
   "metadata": {},
   "outputs": [],
   "source": [
    "def plot_results(metric, data, ci, y_lim=None, y_label=None, h_lines=[1, 0.5]):\n",
    "    fig = plt.figure(figsize=PLOT_SIZE)\n",
    "    ax = fig.add_subplot(1, 1, 1)\n",
    "    for y in h_lines:\n",
    "        ax.axhline(y, linestyle='--', color='grey')\n",
    "\n",
    "    ax.bar(df['Cancer type'][:1], df[metric][:1], yerr=err[:, :1],\n",
    "           align='center', ecolor=default_colors[0],\n",
    "           alpha=0.5, capsize=5)\n",
    "    ax.bar(df['Cancer type'][1:], df[metric][1:], yerr=err[:, 1:],\n",
    "           align='center', color=default_colors[6], ecolor=default_colors[6],\n",
    "           alpha=0.5, capsize=5)\n",
    "    if y_lim is None:\n",
    "        y_lim = (0, 1)\n",
    "        \n",
    "    ax.set_ylim(y_lim)\n",
    "    ax.set_title('')\n",
    "    ax.set_xlabel('Cancer types')\n",
    "    if y_label is None:\n",
    "        ax.set_ylabel(metric + ' (95% CI)')\n",
    "    else:\n",
    "        ax.set_ylabel(y_label)\n",
    "\n",
    "    return fig"
   ]
  },
  {
   "cell_type": "code",
   "execution_count": 17,
   "metadata": {},
   "outputs": [
    {
     "data": {
      "image/png": "[encoded data removed]",
      "text/plain": [
       "<Figure size 1080x288 with 1 Axes>"
      ]
     },
     "metadata": {
      "needs_background": "light"
     },
     "output_type": "display_data"
    }
   ],
   "source": [
    "metric='Ctd'\n",
    "\n",
    "df, err = get_metric_results(metric, formatted_results)\n",
    "fig_ctd = plot_results(metric, df, err, y_label='$C^{td}$ (95% CI)')"
   ]
  },
  {
   "cell_type": "code",
   "execution_count": 18,
   "metadata": {},
   "outputs": [
    {
     "data": {
      "image/png": "[encoded data removed]",
      "text/plain": [
       "<Figure size 1080x288 with 1 Axes>"
      ]
     },
     "metadata": {
      "needs_background": "light"
     },
     "output_type": "display_data"
    }
   ],
   "source": [
    "metric='IBS'\n",
    "\n",
    "df, err = get_metric_results(metric, formatted_results)\n",
    "fig_ibs = plot_results(metric, df, err, y_lim=(0, 0.35), y_label=None, h_lines=[0.25])"
   ]
  },
  {
   "cell_type": "markdown",
   "metadata": {},
   "source": [
    "## Save to files"
   ]
  },
  {
   "cell_type": "code",
   "execution_count": 182,
   "metadata": {},
   "outputs": [
    {
     "data": {
      "application/javascript": [
       "\n",
       "IPython.notebook.kernel.execute('nb_name = \"' + IPython.notebook.notebook_name + '\"')\n"
      ],
      "text/plain": [
       "<IPython.core.display.Javascript object>"
      ]
     },
     "metadata": {},
     "output_type": "display_data"
    }
   ],
   "source": [
    "%%javascript\n",
    "\n",
    "IPython.notebook.kernel.execute('nb_name = \"' + IPython.notebook.notebook_name + '\"')"
   ]
  },
  {
   "cell_type": "code",
   "execution_count": 183,
   "metadata": {},
   "outputs": [],
   "source": [
    "pdf_file = nb_name.split('.ipynb')[0] + '_Ctd'\n",
    "utils.plot.save_plot_for_figure(figure=fig_ctd, file_name=pdf_file) "
   ]
  },
  {
   "cell_type": "code",
   "execution_count": 184,
   "metadata": {},
   "outputs": [],
   "source": [
    "pdf_file = nb_name.split('.ipynb')[0] + '_IBS'\n",
    "utils.plot.save_plot_for_figure(figure=fig_ibs, file_name=pdf_file) "
   ]
  },
  {
   "cell_type": "code",
   "execution_count": 185,
   "metadata": {},
   "outputs": [],
   "source": [
    "pdf_file = nb_name.split('.ipynb')[0] + '_INBLL'\n",
    "utils.plot.save_plot_for_figure(figure=fig_inbll, file_name=pdf_file) "
   ]
  },
  {
   "cell_type": "markdown",
   "metadata": {},
   "source": [
    "# Watermark<a class='tocSkip'></a>"
   ]
  },
  {
   "cell_type": "code",
   "execution_count": 19,
   "metadata": {},
   "outputs": [
    {
     "name": "stdout",
     "output_type": "stream",
     "text": [
      "pandas     1.0.1\n",
      "torch      1.4.0\n",
      "numpy      1.18.1\n",
      "matplotlib 3.1.2\n",
      "\n",
      "CPython 3.6.7\n",
      "IPython 7.11.1\n",
      "\n",
      "last updated: Tue Jul 28 2020\n"
     ]
    }
   ],
   "source": [
    "%watermark --iversions\n",
    "%watermark -v\n",
    "print()\n",
    "%watermark -u -n"
   ]
  },
  {
   "cell_type": "markdown",
   "metadata": {},
   "source": [
    "[Top of the page](#Top)"
   ]
  }
 ],
 "metadata": {
  "kernelspec": {
   "display_name": "Python 3",
   "language": "python",
   "name": "python3"
  },
  "language_info": {
   "codemirror_mode": {
    "name": "ipython",
    "version": 3
   },
   "file_extension": ".py",
   "mimetype": "text/x-python",
   "name": "python",
   "nbconvert_exporter": "python",
   "pygments_lexer": "ipython3",
   "version": "3.6.7"
  },
  "toc": {
   "base_numbering": 1,
   "nav_menu": {
    "height": "197px",
    "width": "372px"
   },
   "number_sections": true,
   "sideBar": true,
   "skip_h1_title": false,
   "title_cell": "Table of Contents",
   "title_sidebar": "Contents",
   "toc_cell": true,
   "toc_position": {
    "height": "calc(100% - 180px)",
    "left": "10px",
    "top": "150px",
    "width": "180px"
   },
   "toc_section_display": true,
   "toc_window_display": true
  }
 },
 "nbformat": 4,
 "nbformat_minor": 2
}

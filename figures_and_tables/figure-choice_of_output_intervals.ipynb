{
 "cells": [
  {
   "cell_type": "markdown",
   "metadata": {},
   "source": [
    "<a id='Top'></a>\n",
    "\n",
    "# Choice of output intervals<a class='tocSkip'></a>\n",
    "\n",
    "Length and number of output intervals does not influence accuracy."
   ]
  },
  {
   "cell_type": "code",
   "execution_count": 1,
   "metadata": {
    "code_folding": []
   },
   "outputs": [],
   "source": [
    "%load_ext autoreload\n",
    "%autoreload 2\n",
    "\n",
    "%load_ext watermark\n",
    "\n",
    "import sys\n",
    "import os\n",
    "\n",
    "import numpy as np\n",
    "import pandas as pd\n",
    "import matplotlib\n",
    "import matplotlib.pyplot as plt\n",
    "import torch\n",
    "from lifelines import KaplanMeierFitter\n",
    "\n",
    "# Make modules in \"src\" dir visible`\n",
    "project_dir = os.path.split(os.getcwd())[0]\n",
    "if project_dir not in sys.path:\n",
    "    sys.path.append(os.path.join(project_dir, 'src'))\n",
    "\n",
    "import dataset\n",
    "from model import Model\n",
    "import utils\n",
    "\n",
    "matplotlib.style.use('multisurv.mplstyle')"
   ]
  },
  {
   "cell_type": "markdown",
   "metadata": {
    "toc": true
   },
   "source": [
    "<h1>Table of Contents<span class=\"tocSkip\"></span></h1>\n",
    "<div class=\"toc\"><ul class=\"toc-item\"><li><span><a href=\"#DataLoader\" data-toc-modified-id=\"DataLoader-1\"><span class=\"toc-item-num\">1&nbsp;&nbsp;</span><code>DataLoader</code></a></span></li><li><span><a href=\"#Model\" data-toc-modified-id=\"Model-2\"><span class=\"toc-item-num\">2&nbsp;&nbsp;</span>Model</a></span><ul class=\"toc-item\"><li><span><a href=\"#Evaluate\" data-toc-modified-id=\"Evaluate-2.1\"><span class=\"toc-item-num\">2.1&nbsp;&nbsp;</span>Evaluate</a></span></li></ul></li><li><span><a href=\"#Plot\" data-toc-modified-id=\"Plot-3\"><span class=\"toc-item-num\">3&nbsp;&nbsp;</span>Plot</a></span><ul class=\"toc-item\"><li><span><a href=\"#Save-to-file\" data-toc-modified-id=\"Save-to-file-3.1\"><span class=\"toc-item-num\">3.1&nbsp;&nbsp;</span>Save to file</a></span></li></ul></li></ul></div>"
   ]
  },
  {
   "cell_type": "code",
   "execution_count": 2,
   "metadata": {},
   "outputs": [],
   "source": [
    "DATA = utils.INPUT_DATA_DIR\n",
    "MODELS = utils.TRAINED_MODEL_DIR\n",
    "\n",
    "device = torch.device('cuda:0' if torch.cuda.is_available() else 'cpu')"
   ]
  },
  {
   "cell_type": "markdown",
   "metadata": {},
   "source": [
    "# `DataLoader`"
   ]
  },
  {
   "cell_type": "code",
   "execution_count": 3,
   "metadata": {},
   "outputs": [
    {
     "name": "stdout",
     "output_type": "stream",
     "text": [
      "Data modalities:\n",
      "   clinical\n",
      "   mRNA\n",
      "\n",
      "Dataset sizes (# patients):\n",
      "   train: 8880\n",
      "   val: 1109\n",
      "   test: 1092\n",
      "\n",
      "Batch size: 128\n"
     ]
    }
   ],
   "source": [
    "dataloaders = utils.get_dataloaders(\n",
    "    data_location=DATA,\n",
    "    labels_file='../data/labels.tsv',\n",
    "    modalities=['clinical', 'mRNA'],\n",
    "#     wsi_patch_size=299,\n",
    "#     n_wsi_patches=5,\n",
    "#     exclude_patients=exclude_cancers,\n",
    "    return_patient_id=True\n",
    ")"
   ]
  },
  {
   "cell_type": "markdown",
   "metadata": {},
   "source": [
    "# Model\n",
    "\n",
    "\n",
    "Try several different discretization schemes of the continuous time scale with two different approaches: equidistant times (several variations) or equidistant survival probabilities (propsed by [Kvamme and Borgan, 2019](https://arxiv.org/abs/1910.06724)).\n",
    "\n",
    "The survival probability scheme is based on the distribution of the event times. Estimate the survival function using the Kaplan-Meier estimator and make a grid of equidistant estimates (corresponding to quantiles of the input times). The result is a more dense grid in intervals with more events."
   ]
  },
  {
   "cell_type": "code",
   "execution_count": 4,
   "metadata": {},
   "outputs": [],
   "source": [
    "labels = [(t, e) for t, e in dataloaders['train'].dataset.label_map.values()]\n",
    "durations = [t for t, _ in labels]\n",
    "events = [e for _, e in labels]\n",
    "\n",
    "survival_prob_interval_cuts = utils.discretize_time_by_duration_quantiles(durations, events, 20)\n",
    "survival_prob_interval_cuts = torch.from_numpy(survival_prob_interval_cuts)"
   ]
  },
  {
   "cell_type": "code",
   "execution_count": 5,
   "metadata": {},
   "outputs": [],
   "source": [
    "# Interval - saved weight pairs\n",
    "int_and_weights = {\n",
    "    '30 one-year intervals':\n",
    "    {'intervals': torch.arange(0., 365 * 31, 365),\n",
    "     'weights': os.path.join(MODELS, 'clinical_mRNA_lr0.005_epoch43_acc0.81.pth')},\n",
    "    '20 one-year intervals':\n",
    "    {'intervals': torch.arange(0., 365 * 21, 365),\n",
    "     'weights': os.path.join(MODELS, 'clinical_mRNA_lr0.005_20_1year_intervals_epoch35_acc0.80.pth')},\n",
    "    '10 one-year intervals':\n",
    "    {'intervals': torch.arange(0., 365 * 11, 365),\n",
    "     'weights': os.path.join(MODELS, 'clinical_mRNA_lr0.005_10_1year_intervals_epoch37_acc0.80.pth')},\n",
    "    '20 half-year intervals':\n",
    "    {'intervals': torch.arange(0., 365 * 10.1, 365 / 2),\n",
    "     'weights': os.path.join(MODELS, 'clinical_mRNA_lr0.005_20_half-year_intervals_epoch47_acc0.80.pth')},\n",
    "    '5 one-year intervals':\n",
    "    {'intervals': torch.arange(0., 365 * 6, 365),\n",
    "     'weights': os.path.join(MODELS, 'clinical_mRNA_lr0.005_5_1year_intervals_epoch39_acc0.80.pth')},\n",
    "    '10 half-year intervals':\n",
    "    {'intervals': torch.arange(0., 365 * 5.1, 365 / 2),\n",
    "     'weights': os.path.join(MODELS, 'clinical_mRNA_lr0.005_10_half-year_intervals_epoch35_acc0.79.pth')},\n",
    "    '20 variable intervals':\n",
    "    {'intervals': survival_prob_interval_cuts,\n",
    "     'weights': os.path.join(MODELS, 'clinical_mRNA_lr0.005_discretized_by_duration_quantiles_epoch50_acc0.79.pth')}\n",
    "}"
   ]
  },
  {
   "cell_type": "code",
   "execution_count": 6,
   "metadata": {},
   "outputs": [
    {
     "name": "stdout",
     "output_type": "stream",
     "text": [
      "Instantiating MultiSurv model...\n",
      "Load model weights:\n",
      "/mnt/dataA/multisurv_models/clinical_mRNA_lr0.005_epoch43_acc0.81.pth\n",
      "\n",
      "Instantiating MultiSurv model...\n",
      "Load model weights:\n",
      "/mnt/dataA/multisurv_models/clinical_mRNA_lr0.005_20_1year_intervals_epoch35_acc0.80.pth\n",
      "\n",
      "Instantiating MultiSurv model...\n",
      "Load model weights:\n",
      "/mnt/dataA/multisurv_models/clinical_mRNA_lr0.005_10_1year_intervals_epoch37_acc0.80.pth\n",
      "\n",
      "Instantiating MultiSurv model...\n",
      "Load model weights:\n",
      "/mnt/dataA/multisurv_models/clinical_mRNA_lr0.005_20_half-year_intervals_epoch47_acc0.80.pth\n",
      "\n",
      "Instantiating MultiSurv model...\n",
      "Load model weights:\n",
      "/mnt/dataA/multisurv_models/clinical_mRNA_lr0.005_5_1year_intervals_epoch39_acc0.80.pth\n",
      "\n",
      "Instantiating MultiSurv model...\n",
      "Load model weights:\n",
      "/mnt/dataA/multisurv_models/clinical_mRNA_lr0.005_10_half-year_intervals_epoch35_acc0.79.pth\n",
      "\n",
      "Instantiating MultiSurv model...\n",
      "Load model weights:\n",
      "/mnt/dataA/multisurv_models/clinical_mRNA_lr0.005_discretized_by_duration_quantiles_epoch50_acc0.79.pth\n",
      "\n"
     ]
    }
   ],
   "source": [
    "models = {}\n",
    "\n",
    "for x in int_and_weights:\n",
    "    models[x] = Model(\n",
    "        dataloaders=dataloaders,\n",
    "        output_intervals=int_and_weights[x]['intervals'],\n",
    "        device=device)\n",
    "\n",
    "    models[x].load_weights(int_and_weights[x]['weights'])\n",
    "    print()"
   ]
  },
  {
   "cell_type": "markdown",
   "metadata": {},
   "source": [
    "## Evaluate\n",
    "\n",
    "$\\text{C}^{\\text{td}}$ values were obtained using the Jupyter notebook used to evaluate trained models ([table-multisurv_cindices](table-multisurv_evaluation.ipynb))."
   ]
  },
  {
   "cell_type": "code",
   "execution_count": 7,
   "metadata": {},
   "outputs": [],
   "source": [
    "c_td = {\n",
    "    '30 one-year intervals': '0.822 (0.806-0.839)',\n",
    "    '20 one-year intervals': '0.809 (0.792-0.826)',\n",
    "    '10 one-year intervals': '0.810 (0.794-0.828)',\n",
    "    '20 half-year intervals': '0.816 (0.800-0.832)',\n",
    "    '5 one-year intervals': '0.816 (0.800-0.833)',\n",
    "    '10 half-year intervals': '0.817 (0.801-0.834)',\n",
    "    '20 variable intervals': '0.810 (0.793-0.828)',\n",
    "}"
   ]
  },
  {
   "cell_type": "code",
   "execution_count": 8,
   "metadata": {},
   "outputs": [
    {
     "name": "stdout",
     "output_type": "stream",
     "text": [
      "   30 one-year intervals - Analyzing patients\n",
      "1092/1092\n",
      "\n",
      "   20 one-year intervals - Analyzing patients\n",
      "1092/1092\n",
      "\n",
      "   10 one-year intervals - Analyzing patients\n",
      "1092/1092\n",
      "\n",
      "   20 half-year intervals - Analyzing patients\n",
      "1092/1092\n",
      "\n",
      "   5 one-year intervals - Analyzing patients\n",
      "1092/1092\n",
      "\n",
      "   10 half-year intervals - Analyzing patients\n",
      "1092/1092\n",
      "\n",
      "   20 variable intervals - Analyzing patients\n",
      "1092/1092\n",
      "\n",
      "CPU times: user 3min 4s, sys: 39 s, total: 3min 43s\n",
      "Wall time: 5min 16s\n"
     ]
    }
   ],
   "source": [
    "%%time\n",
    "\n",
    "results = {}\n",
    "\n",
    "for model in models:\n",
    "    print(f'   {model} -', end=' ')\n",
    "    results[model] = models[model].predict_dataset(dataloaders['test'].dataset)\n",
    "    print()\n",
    "    print()"
   ]
  },
  {
   "cell_type": "markdown",
   "metadata": {},
   "source": [
    "# Plot"
   ]
  },
  {
   "cell_type": "code",
   "execution_count": 9,
   "metadata": {},
   "outputs": [
    {
     "data": {
      "image/png": "[encoded data removed]",
      "text/plain": [
       "<Figure size 432x72 with 1 Axes>"
      ]
     },
     "metadata": {
      "needs_background": "light"
     },
     "output_type": "display_data"
    }
   ],
   "source": [
    "utils.plot.show_default_colors()"
   ]
  },
  {
   "cell_type": "code",
   "execution_count": 10,
   "metadata": {},
   "outputs": [],
   "source": [
    "def predictions_to_pandas(data):\n",
    "    labels = pd.read_csv('../data/labels.tsv', sep='\\t')\n",
    "    predictions = np.stack([x[0] for x in data['patient_data'].values()])    \n",
    "    # Add prediction 1 at time 0 (patients still alive)\n",
    "    ones = np.ones((predictions.shape[0], 1))\n",
    "    predictions = np.concatenate((ones, predictions), axis=1)\n",
    "    \n",
    "    predictions = pd.DataFrame(predictions, columns=[str(i) for i in range(predictions.shape[-1])])\n",
    "    patient_ids = list(data['patient_data'].keys())\n",
    "    predictions['submitter_id'] = patient_ids\n",
    "    \n",
    "    predictions = predictions.merge(labels.iloc[:, :-1])\n",
    "    predictions.set_index('submitter_id', inplace=True)\n",
    "    \n",
    "    return predictions"
   ]
  },
  {
   "cell_type": "code",
   "execution_count": 11,
   "metadata": {},
   "outputs": [],
   "source": [
    "def get_KM_estimates(data, return_kmfitter=False):\n",
    "    kmf = KaplanMeierFitter()\n",
    "    kmf.fit(durations=data['time'].values,\n",
    "            event_observed=data['event'].values)\n",
    "\n",
    "    if return_kmfitter:\n",
    "        return kmf\n",
    "\n",
    "    x = kmf.survival_function_.index.values\n",
    "    y = kmf.survival_function_\n",
    "    \n",
    "    return x, y"
   ]
  },
  {
   "cell_type": "code",
   "execution_count": 12,
   "metadata": {},
   "outputs": [],
   "source": [
    "# Select and order six models\n",
    "models_to_use = ['30 one-year intervals', '10 one-year intervals', '5 one-year intervals',\n",
    "                 '20 half-year intervals', '10 half-year intervals', '20 variable intervals']"
   ]
  },
  {
   "cell_type": "code",
   "execution_count": 13,
   "metadata": {},
   "outputs": [
    {
     "data": {
      "image/png": "[encoded data removed]",
      "text/plain": [
       "<Figure size 1296x432 with 6 Axes>"
      ]
     },
     "metadata": {
      "needs_background": "light"
     },
     "output_type": "display_data"
    }
   ],
   "source": [
    "default_colors = plt.rcParams['axes.prop_cycle'].by_key()['color']\n",
    "\n",
    "fig, axs = plt.subplots(2, 3, figsize=(18, 6))\n",
    "# fig.suptitle('Pan-cancer patient survival')\n",
    "axs = axs.ravel()\n",
    "\n",
    "for i, model in enumerate(models_to_use):\n",
    "    predictions = predictions_to_pandas(data=results[model])\n",
    "    \n",
    "    x, y = get_KM_estimates(predictions)\n",
    "    axs[i].plot(x, y, '--', color=default_colors[-2], label='Kaplan-Meier')\n",
    "\n",
    "    time_points = utils.plot.format_output_intervals(models[model].output_intervals)\n",
    "    len(time_points)\n",
    "    mean_probabilities = predictions[[str(i) for i in range(len(time_points))]].mean(axis=0).values\n",
    "    axs[i].plot(time_points, mean_probabilities, 'o', color=default_colors[0],\n",
    "                markersize=5, label='MultiSurv')\n",
    "    axs[i].set_title(model + '\\n' + r'$\\mathrm{C}^{\\mathrm{td}}$' + f': {c_td[model]}')\n",
    "    axs[i].set_xlim(None, 31)\n",
    "    if i == len(models_to_use) - 1:\n",
    "        axs[i].legend()\n",
    "\n",
    "for ax in axs.flat:\n",
    "    ax.set(xlabel='Time (years)', ylabel='Survival probability')\n",
    "    ax.label_outer()\n",
    "\n",
    "plt.subplots_adjust(top=0.82, hspace=0.6, wspace=0.1)"
   ]
  },
  {
   "cell_type": "markdown",
   "metadata": {},
   "source": [
    "## Save to file"
   ]
  },
  {
   "cell_type": "raw",
   "metadata": {},
   "source": [
    "%%javascript\n",
    "IPython.notebook.kernel.execute('nb_name = \"' + IPython.notebook.notebook_name + '\"')"
   ]
  },
  {
   "cell_type": "raw",
   "metadata": {},
   "source": [
    "pdf_file = nb_name.split('.ipynb')[0]\n",
    "utils.plot.save_plot_for_figure(figure=fig, file_name=pdf_file)"
   ]
  },
  {
   "cell_type": "markdown",
   "metadata": {},
   "source": [
    "# Watermark<a class='tocSkip'></a>"
   ]
  },
  {
   "cell_type": "code",
   "execution_count": 14,
   "metadata": {},
   "outputs": [
    {
     "name": "stdout",
     "output_type": "stream",
     "text": [
      "torch      1.4.0\n",
      "pandas     1.0.1\n",
      "matplotlib 3.1.2\n",
      "numpy      1.18.1\n",
      "\n",
      "CPython 3.6.7\n",
      "IPython 7.11.1\n",
      "\n",
      "last updated: Tue Jul 28 2020\n"
     ]
    }
   ],
   "source": [
    "%watermark --iversions\n",
    "%watermark -v\n",
    "print()\n",
    "%watermark -u -n"
   ]
  },
  {
   "cell_type": "markdown",
   "metadata": {},
   "source": [
    "[Top of the page](#Top)"
   ]
  }
 ],
 "metadata": {
  "kernelspec": {
   "display_name": "Python 3",
   "language": "python",
   "name": "python3"
  },
  "language_info": {
   "codemirror_mode": {
    "name": "ipython",
    "version": 3
   },
   "file_extension": ".py",
   "mimetype": "text/x-python",
   "name": "python",
   "nbconvert_exporter": "python",
   "pygments_lexer": "ipython3",
   "version": "3.6.7"
  },
  "toc": {
   "base_numbering": 1,
   "nav_menu": {
    "height": "197px",
    "width": "372px"
   },
   "number_sections": true,
   "sideBar": true,
   "skip_h1_title": false,
   "title_cell": "Table of Contents",
   "title_sidebar": "Contents",
   "toc_cell": true,
   "toc_position": {
    "height": "calc(100% - 180px)",
    "left": "10px",
    "top": "150px",
    "width": "180px"
   },
   "toc_section_display": true,
   "toc_window_display": true
  }
 },
 "nbformat": 4,
 "nbformat_minor": 2
}

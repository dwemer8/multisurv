{
 "cells": [
  {
   "cell_type": "markdown",
   "metadata": {},
   "source": [
    "<a id='Top'></a>\n",
    "\n",
    "# Prepare clinical data <a class='tocSkip'></a>\n",
    "\n",
    "Preprocess clinical data for all patients, collect relevant survival labels and define train/validation/test split using the unique patient ID codes."
   ]
  },
  {
   "cell_type": "code",
   "execution_count": 1,
   "metadata": {
    "code_folding": [],
    "scrolled": false
   },
   "outputs": [],
   "source": [
    "%load_ext autoreload\n",
    "%autoreload 2\n",
    "\n",
    "%load_ext watermark\n",
    "\n",
    "import os\n",
    "\n",
    "import pandas as pd\n",
    "from sklearn.model_selection import train_test_split\n",
    "from sklearn.preprocessing import MinMaxScaler\n",
    "from sklearn.preprocessing import LabelEncoder\n",
    "from lifelines import KaplanMeierFitter"
   ]
  },
  {
   "cell_type": "code",
   "execution_count": 2,
   "metadata": {},
   "outputs": [],
   "source": [
    "DATA_LOCATION = '/mnt/data/d.kornilov/TCGA/processed/Clinical/'"
   ]
  },
  {
   "cell_type": "markdown",
   "metadata": {
    "toc": true
   },
   "source": [
    "<h1>Table of Contents<span class=\"tocSkip\"></span></h1>\n",
    "<div class=\"toc\"><ul class=\"toc-item\"><li><span><a href=\"#Load-and-explore-data\" data-toc-modified-id=\"Load-and-explore-data-1\"><span class=\"toc-item-num\">1&nbsp;&nbsp;</span>Load and explore data</a></span></li><li><span><a href=\"#Select-variables\" data-toc-modified-id=\"Select-variables-2\"><span class=\"toc-item-num\">2&nbsp;&nbsp;</span>Select variables</a></span></li><li><span><a href=\"#Clean-up-inconsistencies\" data-toc-modified-id=\"Clean-up-inconsistencies-3\"><span class=\"toc-item-num\">3&nbsp;&nbsp;</span>Clean up inconsistencies</a></span><ul class=\"toc-item\"><li><span><a href=\"#Consolidate-race-and-ethnicity\" data-toc-modified-id=\"Consolidate-race-and-ethnicity-3.1\"><span class=\"toc-item-num\">3.1&nbsp;&nbsp;</span>Consolidate <code>race</code> and <code>ethnicity</code></a></span></li><li><span><a href=\"#Missing-label-data\" data-toc-modified-id=\"Missing-label-data-3.2\"><span class=\"toc-item-num\">3.2&nbsp;&nbsp;</span>Missing label data</a></span><ul class=\"toc-item\"><li><span><a href=\"#vital_status\" data-toc-modified-id=\"vital_status-3.2.1\"><span class=\"toc-item-num\">3.2.1&nbsp;&nbsp;</span><code>vital_status</code></a></span></li><li><span><a href=\"#Both-duration-values\" data-toc-modified-id=\"Both-duration-values-3.2.2\"><span class=\"toc-item-num\">3.2.2&nbsp;&nbsp;</span>Both duration values</a></span></li><li><span><a href=\"#Required-duration-value\" data-toc-modified-id=\"Required-duration-value-3.2.3\"><span class=\"toc-item-num\">3.2.3&nbsp;&nbsp;</span>Required duration value</a></span></li></ul></li><li><span><a href=\"#Not-missing-days_to_last_follow_up-when-vital_status-is-&quot;Dead&quot;\" data-toc-modified-id=\"Not-missing-days_to_last_follow_up-when-vital_status-is-&quot;Dead&quot;-3.3\"><span class=\"toc-item-num\">3.3&nbsp;&nbsp;</span>Not missing <code>days_to_last_follow_up</code> when <code>vital_status</code> is \"Dead\"</a></span></li><li><span><a href=\"#Negative-durations\" data-toc-modified-id=\"Negative-durations-3.4\"><span class=\"toc-item-num\">3.4&nbsp;&nbsp;</span>Negative durations</a></span></li></ul></li><li><span><a href=\"#Label-data\" data-toc-modified-id=\"Label-data-4\"><span class=\"toc-item-num\">4&nbsp;&nbsp;</span>Label data</a></span></li><li><span><a href=\"#Train-val-test-split\" data-toc-modified-id=\"Train-val-test-split-5\"><span class=\"toc-item-num\">5&nbsp;&nbsp;</span>Train-val-test split</a></span><ul class=\"toc-item\"><li><span><a href=\"#Survival-curves\" data-toc-modified-id=\"Survival-curves-5.1\"><span class=\"toc-item-num\">5.1&nbsp;&nbsp;</span>Survival curves</a></span></li></ul></li><li><span><a href=\"#Save-clinical-data-to-file\" data-toc-modified-id=\"Save-clinical-data-to-file-6\"><span class=\"toc-item-num\">6&nbsp;&nbsp;</span>Save clinical data to file</a></span></li><li><span><a href=\"#Input-missing-values\" data-toc-modified-id=\"Input-missing-values-7\"><span class=\"toc-item-num\">7&nbsp;&nbsp;</span>Input missing values</a></span></li><li><span><a href=\"#Scale-continuous-variables\" data-toc-modified-id=\"Scale-continuous-variables-8\"><span class=\"toc-item-num\">8&nbsp;&nbsp;</span>Scale continuous variables</a></span></li><li><span><a href=\"#Encode-categorical-variables\" data-toc-modified-id=\"Encode-categorical-variables-9\"><span class=\"toc-item-num\">9&nbsp;&nbsp;</span>Encode categorical variables</a></span></li><li><span><a href=\"#Save-patient-data-to-files\" data-toc-modified-id=\"Save-patient-data-to-files-10\"><span class=\"toc-item-num\">10&nbsp;&nbsp;</span>Save patient data to files</a></span><ul class=\"toc-item\"><li><span><a href=\"#Survival-labels\" data-toc-modified-id=\"Survival-labels-10.1\"><span class=\"toc-item-num\">10.1&nbsp;&nbsp;</span>Survival labels</a></span></li><li><span><a href=\"#Clinical-data\" data-toc-modified-id=\"Clinical-data-10.2\"><span class=\"toc-item-num\">10.2&nbsp;&nbsp;</span>Clinical data</a></span></li></ul></li></ul></div>"
   ]
  },
  {
   "cell_type": "markdown",
   "metadata": {},
   "source": [
    "# Load and explore data\n",
    "\n",
    "General exploration of data to remove features:\n",
    "    * missing all data\n",
    "    * with as many levels as there are patients"
   ]
  },
  {
   "cell_type": "code",
   "execution_count": 3,
   "metadata": {},
   "outputs": [],
   "source": [
    "clinical = pd.read_csv('/mnt/dataA/TCGA/raw/clinical_data.tsv',\n",
    "                       sep='\\t', na_values=['not reported', 'Not Reported'],\n",
    "                       low_memory=False)"
   ]
  },
  {
   "cell_type": "code",
   "execution_count": 4,
   "metadata": {},
   "outputs": [
    {
     "data": {
      "text/plain": [
       "(11167, 157)"
      ]
     },
     "execution_count": 4,
     "metadata": {},
     "output_type": "execute_result"
    }
   ],
   "source": [
    "clinical.shape"
   ]
  },
  {
   "cell_type": "code",
   "execution_count": 5,
   "metadata": {},
   "outputs": [
    {
     "data": {
      "text/html": [
       "<div>\n",
       "<style scoped>\n",
       "    .dataframe tbody tr th:only-of-type {\n",
       "        vertical-align: middle;\n",
       "    }\n",
       "\n",
       "    .dataframe tbody tr th {\n",
       "        vertical-align: top;\n",
       "    }\n",
       "\n",
       "    .dataframe thead th {\n",
       "        text-align: right;\n",
       "    }\n",
       "</style>\n",
       "<table border=\"1\" class=\"dataframe\">\n",
       "  <thead>\n",
       "    <tr style=\"text-align: right;\">\n",
       "      <th></th>\n",
       "      <th>submitter_id</th>\n",
       "      <th>year_of_diagnosis</th>\n",
       "      <th>classification_of_tumor</th>\n",
       "      <th>last_known_disease_status</th>\n",
       "      <th>updated_datetime</th>\n",
       "      <th>primary_diagnosis</th>\n",
       "      <th>tumor_stage</th>\n",
       "      <th>age_at_diagnosis</th>\n",
       "      <th>morphology</th>\n",
       "      <th>days_to_last_known_disease_status</th>\n",
       "      <th>...</th>\n",
       "      <th>smoking_frequency</th>\n",
       "      <th>tobacco_smoking_quit_year</th>\n",
       "      <th>type_of_smoke_exposure</th>\n",
       "      <th>alcohol_days_per_week</th>\n",
       "      <th>time_between_waking_and_first_smoke</th>\n",
       "      <th>radon_exposure</th>\n",
       "      <th>alcohol_drinks_per_day</th>\n",
       "      <th>cause_of_death</th>\n",
       "      <th>weeks_gestation_at_birth</th>\n",
       "      <th>premature_at_birth</th>\n",
       "    </tr>\n",
       "  </thead>\n",
       "  <tbody>\n",
       "    <tr>\n",
       "      <th>0</th>\n",
       "      <td>TCGA-3B-A9HI</td>\n",
       "      <td>2009.0</td>\n",
       "      <td>NaN</td>\n",
       "      <td>NaN</td>\n",
       "      <td>2019-08-08T17:27:26.097672-05:00</td>\n",
       "      <td>Dedifferentiated liposarcoma</td>\n",
       "      <td>NaN</td>\n",
       "      <td>24984.0</td>\n",
       "      <td>8858/3</td>\n",
       "      <td>NaN</td>\n",
       "      <td>...</td>\n",
       "      <td>NaN</td>\n",
       "      <td>NaN</td>\n",
       "      <td>NaN</td>\n",
       "      <td>NaN</td>\n",
       "      <td>NaN</td>\n",
       "      <td>NaN</td>\n",
       "      <td>NaN</td>\n",
       "      <td>NaN</td>\n",
       "      <td>NaN</td>\n",
       "      <td>NaN</td>\n",
       "    </tr>\n",
       "    <tr>\n",
       "      <th>1</th>\n",
       "      <td>TCGA-3B-A9HJ</td>\n",
       "      <td>2011.0</td>\n",
       "      <td>NaN</td>\n",
       "      <td>NaN</td>\n",
       "      <td>2019-08-08T17:27:26.097672-05:00</td>\n",
       "      <td>Dedifferentiated liposarcoma</td>\n",
       "      <td>NaN</td>\n",
       "      <td>24962.0</td>\n",
       "      <td>8858/3</td>\n",
       "      <td>NaN</td>\n",
       "      <td>...</td>\n",
       "      <td>NaN</td>\n",
       "      <td>NaN</td>\n",
       "      <td>NaN</td>\n",
       "      <td>NaN</td>\n",
       "      <td>NaN</td>\n",
       "      <td>NaN</td>\n",
       "      <td>NaN</td>\n",
       "      <td>NaN</td>\n",
       "      <td>NaN</td>\n",
       "      <td>NaN</td>\n",
       "    </tr>\n",
       "    <tr>\n",
       "      <th>2</th>\n",
       "      <td>TCGA-3B-A9HL</td>\n",
       "      <td>2011.0</td>\n",
       "      <td>NaN</td>\n",
       "      <td>NaN</td>\n",
       "      <td>2019-08-08T17:27:26.097672-05:00</td>\n",
       "      <td>Dedifferentiated liposarcoma</td>\n",
       "      <td>NaN</td>\n",
       "      <td>24628.0</td>\n",
       "      <td>8858/3</td>\n",
       "      <td>NaN</td>\n",
       "      <td>...</td>\n",
       "      <td>NaN</td>\n",
       "      <td>NaN</td>\n",
       "      <td>NaN</td>\n",
       "      <td>NaN</td>\n",
       "      <td>NaN</td>\n",
       "      <td>NaN</td>\n",
       "      <td>NaN</td>\n",
       "      <td>NaN</td>\n",
       "      <td>NaN</td>\n",
       "      <td>NaN</td>\n",
       "    </tr>\n",
       "  </tbody>\n",
       "</table>\n",
       "<p>3 rows × 157 columns</p>\n",
       "</div>"
      ],
      "text/plain": [
       "   submitter_id  year_of_diagnosis  classification_of_tumor  \\\n",
       "0  TCGA-3B-A9HI             2009.0                      NaN   \n",
       "1  TCGA-3B-A9HJ             2011.0                      NaN   \n",
       "2  TCGA-3B-A9HL             2011.0                      NaN   \n",
       "\n",
       "   last_known_disease_status                  updated_datetime  \\\n",
       "0                        NaN  2019-08-08T17:27:26.097672-05:00   \n",
       "1                        NaN  2019-08-08T17:27:26.097672-05:00   \n",
       "2                        NaN  2019-08-08T17:27:26.097672-05:00   \n",
       "\n",
       "              primary_diagnosis tumor_stage  age_at_diagnosis morphology  \\\n",
       "0  Dedifferentiated liposarcoma         NaN           24984.0     8858/3   \n",
       "1  Dedifferentiated liposarcoma         NaN           24962.0     8858/3   \n",
       "2  Dedifferentiated liposarcoma         NaN           24628.0     8858/3   \n",
       "\n",
       "   days_to_last_known_disease_status  ... smoking_frequency  \\\n",
       "0                                NaN  ...               NaN   \n",
       "1                                NaN  ...               NaN   \n",
       "2                                NaN  ...               NaN   \n",
       "\n",
       "  tobacco_smoking_quit_year type_of_smoke_exposure  alcohol_days_per_week  \\\n",
       "0                       NaN                    NaN                    NaN   \n",
       "1                       NaN                    NaN                    NaN   \n",
       "2                       NaN                    NaN                    NaN   \n",
       "\n",
       "  time_between_waking_and_first_smoke  radon_exposure alcohol_drinks_per_day  \\\n",
       "0                                 NaN             NaN                    NaN   \n",
       "1                                 NaN             NaN                    NaN   \n",
       "2                                 NaN             NaN                    NaN   \n",
       "\n",
       "   cause_of_death weeks_gestation_at_birth  premature_at_birth  \n",
       "0             NaN                      NaN                 NaN  \n",
       "1             NaN                      NaN                 NaN  \n",
       "2             NaN                      NaN                 NaN  \n",
       "\n",
       "[3 rows x 157 columns]"
      ]
     },
     "execution_count": 5,
     "metadata": {},
     "output_type": "execute_result"
    }
   ],
   "source": [
    "clinical.head(3)"
   ]
  },
  {
   "cell_type": "code",
   "execution_count": 6,
   "metadata": {},
   "outputs": [
    {
     "name": "stdout",
     "output_type": "stream",
     "text": [
      "~~ MISSING DATA ~~\n",
      "\n",
      "year_of_diagnosis: 133 (1.19%)\n",
      "tumor_stage: 4206 (37.66%)\n",
      "age_at_diagnosis: 125 (1.12%)\n",
      "created_datetime: 11160 (99.94%)\n",
      "prior_treatment: 8 (0.07%)\n",
      "icd_10_code: 204 (1.83%)\n",
      "days_to_diagnosis: 128 (1.15%)\n",
      "prior_malignancy: 1146 (10.26%)\n",
      "synchronous_malignancy: 1927 (17.26%)\n",
      "days_to_last_follow_up: 2034 (18.21%)\n",
      "cigarettes_per_day: 9497 (85.05%)\n",
      "weight: 8355 (74.82%)\n",
      "alcohol_history: 10301 (92.25%)\n",
      "bmi: 8446 (75.63%)\n",
      "years_smoked: 10527 (94.27%)\n",
      "height: 8430 (75.49%)\n",
      "gender: 4 (0.04%)\n",
      "year_of_birth: 173 (1.55%)\n",
      "race: 999 (8.95%)\n",
      "days_to_birth: 125 (1.12%)\n",
      "ethnicity: 2371 (21.23%)\n",
      "vital_status: 16 (0.14%)\n",
      "age_at_index: 57 (0.51%)\n",
      "year_of_death: 8462 (75.78%)\n",
      "days_to_death: 7565 (67.74%)\n",
      "treatments_pharmaceutical_treatment_or_therapy: 1300 (11.64%)\n",
      "treatments_radiation_treatment_or_therapy: 1240 (11.1%)\n",
      "ajcc_pathologic_n: 3326 (29.78%)\n",
      "ajcc_pathologic_m: 4198 (37.59%)\n",
      "ajcc_staging_system_edition: 4770 (42.72%)\n",
      "ajcc_pathologic_stage: 4310 (38.6%)\n",
      "ajcc_pathologic_t: 3278 (29.35%)\n",
      "ajcc_clinical_m: 9430 (84.45%)\n",
      "igcccg_stage: 11124 (99.61%)\n",
      "ajcc_clinical_stage: 10184 (91.2%)\n",
      "ann_arbor_b_symptoms: 11121 (99.59%)\n",
      "figo_stage: 9680 (86.68%)\n",
      "secondary_gleason_grade: 10667 (95.52%)\n",
      "ann_arbor_clinical_stage: 11125 (99.62%)\n",
      "ajcc_clinical_t: 9599 (85.96%)\n",
      "ajcc_clinical_n: 10167 (91.05%)\n",
      "ann_arbor_extranodal_involvement: 11121 (99.59%)\n",
      "masaoka_stage: 11045 (98.91%)\n",
      "primary_gleason_grade: 10667 (95.52%)\n",
      "pack_years_smoked: 9497 (85.05%)\n"
     ]
    }
   ],
   "source": [
    "print('~~ MISSING DATA ~~')\n",
    "print()\n",
    "\n",
    "n = clinical.shape[0]\n",
    "\n",
    "for col in clinical.columns:\n",
    "    if col == 'submitter_id':\n",
    "        continue\n",
    "\n",
    "    n_levels = len(clinical[col].value_counts())\n",
    "    \n",
    "    if n_levels == n:\n",
    "        clinical = clinical.drop(columns=[col])\n",
    "    else:\n",
    "        n_missing = sum(clinical[col].isnull())\n",
    "        if n_missing > 0:\n",
    "            if n_missing == n:\n",
    "                clinical = clinical.drop(columns=[col])\n",
    "            else:\n",
    "                print(f'{col}: {n_missing} ({round(n_missing / n * 100, 2)}%)')"
   ]
  },
  {
   "cell_type": "code",
   "execution_count": 7,
   "metadata": {},
   "outputs": [
    {
     "data": {
      "text/plain": [
       "(11167, 55)"
      ]
     },
     "execution_count": 7,
     "metadata": {},
     "output_type": "execute_result"
    }
   ],
   "source": [
    "clinical.shape"
   ]
  },
  {
   "cell_type": "markdown",
   "metadata": {},
   "source": [
    "# Select variables\n",
    "\n",
    "Select a few variables to keep and drop the remaining ones."
   ]
  },
  {
   "cell_type": "code",
   "execution_count": 8,
   "metadata": {},
   "outputs": [
    {
     "data": {
      "text/plain": [
       "Index(['submitter_id', 'year_of_diagnosis', 'updated_datetime',\n",
       "       'primary_diagnosis', 'tumor_stage', 'age_at_diagnosis', 'morphology',\n",
       "       'created_datetime', 'prior_treatment', 'state', 'icd_10_code',\n",
       "       'days_to_diagnosis', 'tissue_or_organ_of_origin', 'prior_malignancy',\n",
       "       'synchronous_malignancy', 'site_of_resection_or_biopsy',\n",
       "       'days_to_last_follow_up', 'cigarettes_per_day', 'weight',\n",
       "       'alcohol_history', 'bmi', 'years_smoked', 'height', 'gender',\n",
       "       'year_of_birth', 'race', 'days_to_birth', 'ethnicity', 'vital_status',\n",
       "       'age_at_index', 'year_of_death', 'days_to_death',\n",
       "       'treatments_pharmaceutical_treatment_type',\n",
       "       'treatments_pharmaceutical_treatment_or_therapy',\n",
       "       'treatments_radiation_treatment_type',\n",
       "       'treatments_radiation_treatment_or_therapy', 'disease',\n",
       "       'ajcc_pathologic_n', 'ajcc_pathologic_m', 'ajcc_staging_system_edition',\n",
       "       'ajcc_pathologic_stage', 'ajcc_pathologic_t', 'ajcc_clinical_m',\n",
       "       'igcccg_stage', 'ajcc_clinical_stage', 'ann_arbor_b_symptoms',\n",
       "       'figo_stage', 'secondary_gleason_grade', 'ann_arbor_clinical_stage',\n",
       "       'ajcc_clinical_t', 'ajcc_clinical_n',\n",
       "       'ann_arbor_extranodal_involvement', 'masaoka_stage',\n",
       "       'primary_gleason_grade', 'pack_years_smoked'],\n",
       "      dtype='object')"
      ]
     },
     "execution_count": 8,
     "metadata": {},
     "output_type": "execute_result"
    }
   ],
   "source": [
    "clinical.columns"
   ]
  },
  {
   "cell_type": "code",
   "execution_count": 9,
   "metadata": {},
   "outputs": [],
   "source": [
    "label_cols = ['submitter_id', 'days_to_last_follow_up', 'vital_status', 'days_to_death']\n",
    "\n",
    "keep_cols = ['tumor_stage', 'age_at_diagnosis', 'prior_treatment', 'prior_malignancy',\n",
    "             'synchronous_malignancy', 'gender', 'race', 'ethnicity', 'disease',\n",
    "             'treatments_pharmaceutical_treatment_or_therapy',\n",
    "             'treatments_radiation_treatment_or_therapy']\n",
    "\n",
    "columns_to_drop = [col for col in clinical.columns if col not in label_cols + keep_cols]\n",
    "clinical = clinical.drop(columns=columns_to_drop)"
   ]
  },
  {
   "cell_type": "code",
   "execution_count": 10,
   "metadata": {},
   "outputs": [
    {
     "name": "stdout",
     "output_type": "stream",
     "text": [
      "~~ MISSING DATA ~~\n",
      "\n",
      "tumor_stage: 4206 (37.66%)\n",
      "age_at_diagnosis: 125 (1.12%)\n",
      "prior_treatment: 8 (0.07%)\n",
      "prior_malignancy: 1146 (10.26%)\n",
      "synchronous_malignancy: 1927 (17.26%)\n",
      "days_to_last_follow_up: 2034 (18.21%)\n",
      "gender: 4 (0.04%)\n",
      "race: 999 (8.95%)\n",
      "ethnicity: 2371 (21.23%)\n",
      "vital_status: 16 (0.14%)\n",
      "days_to_death: 7565 (67.74%)\n",
      "treatments_pharmaceutical_treatment_or_therapy: 1300 (11.64%)\n",
      "treatments_radiation_treatment_or_therapy: 1240 (11.1%)\n"
     ]
    }
   ],
   "source": [
    "print('~~ MISSING DATA ~~')\n",
    "print()\n",
    "\n",
    "n = clinical.shape[0]\n",
    "\n",
    "for v in clinical.columns:\n",
    "    n_missing = sum(clinical[v].isnull())\n",
    "    if n_missing > 0:\n",
    "        if n_missing == n:\n",
    "            clinical = clinical.drop(columns=[v])\n",
    "        else:\n",
    "            print(f'{v}: {n_missing} ({round(n_missing / n * 100, 2)}%)')"
   ]
  },
  {
   "cell_type": "code",
   "execution_count": 11,
   "metadata": {},
   "outputs": [
    {
     "data": {
      "text/plain": [
       "(11167, 15)"
      ]
     },
     "execution_count": 11,
     "metadata": {},
     "output_type": "execute_result"
    }
   ],
   "source": [
    "clinical.shape"
   ]
  },
  {
   "cell_type": "code",
   "execution_count": 12,
   "metadata": {},
   "outputs": [
    {
     "data": {
      "text/plain": [
       "Index(['submitter_id', 'tumor_stage', 'age_at_diagnosis', 'prior_treatment',\n",
       "       'prior_malignancy', 'synchronous_malignancy', 'days_to_last_follow_up',\n",
       "       'gender', 'race', 'ethnicity', 'vital_status', 'days_to_death',\n",
       "       'treatments_pharmaceutical_treatment_or_therapy',\n",
       "       'treatments_radiation_treatment_or_therapy', 'disease'],\n",
       "      dtype='object')"
      ]
     },
     "execution_count": 12,
     "metadata": {},
     "output_type": "execute_result"
    }
   ],
   "source": [
    "clinical.columns"
   ]
  },
  {
   "cell_type": "code",
   "execution_count": 13,
   "metadata": {},
   "outputs": [
    {
     "data": {
      "text/plain": [
       "female    5817\n",
       "male      5346\n",
       "Name: gender, dtype: int64"
      ]
     },
     "execution_count": 13,
     "metadata": {},
     "output_type": "execute_result"
    }
   ],
   "source": [
    "clinical['gender'].value_counts()"
   ]
  },
  {
   "cell_type": "code",
   "execution_count": 14,
   "metadata": {},
   "outputs": [
    {
     "data": {
      "text/plain": [
       "white                                        8457\n",
       "black or african american                     985\n",
       "asian                                         685\n",
       "american indian or alaska native               28\n",
       "native hawaiian or other pacific islander      13\n",
       "Name: race, dtype: int64"
      ]
     },
     "execution_count": 14,
     "metadata": {},
     "output_type": "execute_result"
    }
   ],
   "source": [
    "clinical['race'].value_counts()"
   ]
  },
  {
   "cell_type": "code",
   "execution_count": 15,
   "metadata": {},
   "outputs": [
    {
     "data": {
      "text/plain": [
       "not hispanic or latino    8412\n",
       "hispanic or latino         384\n",
       "Name: ethnicity, dtype: int64"
      ]
     },
     "execution_count": 15,
     "metadata": {},
     "output_type": "execute_result"
    }
   ],
   "source": [
    "clinical['ethnicity'].value_counts()"
   ]
  },
  {
   "cell_type": "code",
   "execution_count": 16,
   "metadata": {},
   "outputs": [
    {
     "data": {
      "text/plain": [
       "no     9092\n",
       "yes     929\n",
       "Name: prior_malignancy, dtype: int64"
      ]
     },
     "execution_count": 16,
     "metadata": {},
     "output_type": "execute_result"
    }
   ],
   "source": [
    "clinical['prior_malignancy'].value_counts()"
   ]
  },
  {
   "cell_type": "code",
   "execution_count": 17,
   "metadata": {},
   "outputs": [
    {
     "data": {
      "text/plain": [
       "Alive    7510\n",
       "Dead     3641\n",
       "Name: vital_status, dtype: int64"
      ]
     },
     "execution_count": 17,
     "metadata": {},
     "output_type": "execute_result"
    }
   ],
   "source": [
    "clinical['vital_status'].value_counts()"
   ]
  },
  {
   "cell_type": "code",
   "execution_count": 18,
   "metadata": {},
   "outputs": [
    {
     "data": {
      "text/plain": [
       "<matplotlib.axes._subplots.AxesSubplot at 0x7fd42a62f400>"
      ]
     },
     "execution_count": 18,
     "metadata": {},
     "output_type": "execute_result"
    },
    {
     "data": {
      "image/png": "[encoded data removed]",
      "text/plain": [
       "<Figure size 432x288 with 1 Axes>"
      ]
     },
     "metadata": {
      "needs_background": "light"
     },
     "output_type": "display_data"
    }
   ],
   "source": [
    "clinical['days_to_last_follow_up'].plot(kind='hist')"
   ]
  },
  {
   "cell_type": "code",
   "execution_count": 19,
   "metadata": {},
   "outputs": [
    {
     "data": {
      "text/plain": [
       "<matplotlib.axes._subplots.AxesSubplot at 0x7fd42a57d550>"
      ]
     },
     "execution_count": 19,
     "metadata": {},
     "output_type": "execute_result"
    },
    {
     "data": {
      "image/png": "[encoded data removed]",
      "text/plain": [
       "<Figure size 432x288 with 1 Axes>"
      ]
     },
     "metadata": {
      "needs_background": "light"
     },
     "output_type": "display_data"
    }
   ],
   "source": [
    "clinical['days_to_death'].plot(kind='box')"
   ]
  },
  {
   "cell_type": "code",
   "execution_count": 20,
   "metadata": {},
   "outputs": [
    {
     "data": {
      "text/plain": [
       "<matplotlib.axes._subplots.AxesSubplot at 0x7fd42a4e5278>"
      ]
     },
     "execution_count": 20,
     "metadata": {},
     "output_type": "execute_result"
    },
    {
     "data": {
      "image/png": "[encoded data removed]",
      "text/plain": [
       "<Figure size 432x288 with 1 Axes>"
      ]
     },
     "metadata": {
      "needs_background": "light"
     },
     "output_type": "display_data"
    }
   ],
   "source": [
    "clinical['days_to_death'].sort_values(ascending=False).plot(use_index=False)"
   ]
  },
  {
   "cell_type": "code",
   "execution_count": 21,
   "metadata": {},
   "outputs": [
    {
     "data": {
      "text/plain": [
       "<matplotlib.axes._subplots.AxesSubplot at 0x7fd42a45eba8>"
      ]
     },
     "execution_count": 21,
     "metadata": {},
     "output_type": "execute_result"
    },
    {
     "data": {
      "image/png": "[encoded data removed]",
      "text/plain": [
       "<Figure size 432x288 with 1 Axes>"
      ]
     },
     "metadata": {
      "needs_background": "light"
     },
     "output_type": "display_data"
    }
   ],
   "source": [
    "clinical['days_to_last_follow_up'].plot(kind='box')"
   ]
  },
  {
   "cell_type": "code",
   "execution_count": 22,
   "metadata": {},
   "outputs": [
    {
     "data": {
      "text/plain": [
       "<matplotlib.axes._subplots.AxesSubplot at 0x7fd42a429e48>"
      ]
     },
     "execution_count": 22,
     "metadata": {},
     "output_type": "execute_result"
    },
    {
     "data": {
      "image/png": "[encoded data removed]",
      "text/plain": [
       "<Figure size 432x288 with 1 Axes>"
      ]
     },
     "metadata": {
      "needs_background": "light"
     },
     "output_type": "display_data"
    }
   ],
   "source": [
    "clinical['age_at_diagnosis'].apply(lambda x: -x/365).plot(kind='box')"
   ]
  },
  {
   "cell_type": "code",
   "execution_count": 23,
   "metadata": {},
   "outputs": [
    {
     "data": {
      "text/plain": [
       "<matplotlib.axes._subplots.AxesSubplot at 0x7fd42a408d30>"
      ]
     },
     "execution_count": 23,
     "metadata": {},
     "output_type": "execute_result"
    },
    {
     "data": {
      "image/png": "[encoded data removed]",
      "text/plain": [
       "<Figure size 432x288 with 1 Axes>"
      ]
     },
     "metadata": {
      "needs_background": "light"
     },
     "output_type": "display_data"
    }
   ],
   "source": [
    "clinical['age_at_diagnosis'].sort_values(ascending=False).plot(use_index=False)"
   ]
  },
  {
   "cell_type": "code",
   "execution_count": 24,
   "metadata": {},
   "outputs": [
    {
     "data": {
      "text/html": [
       "<div>\n",
       "<style scoped>\n",
       "    .dataframe tbody tr th:only-of-type {\n",
       "        vertical-align: middle;\n",
       "    }\n",
       "\n",
       "    .dataframe tbody tr th {\n",
       "        vertical-align: top;\n",
       "    }\n",
       "\n",
       "    .dataframe thead th {\n",
       "        text-align: right;\n",
       "    }\n",
       "</style>\n",
       "<table border=\"1\" class=\"dataframe\">\n",
       "  <thead>\n",
       "    <tr style=\"text-align: right;\">\n",
       "      <th></th>\n",
       "      <th>age_at_diagnosis</th>\n",
       "      <th>days_to_last_follow_up</th>\n",
       "      <th>days_to_death</th>\n",
       "    </tr>\n",
       "  </thead>\n",
       "  <tbody>\n",
       "    <tr>\n",
       "      <th>count</th>\n",
       "      <td>11042.000000</td>\n",
       "      <td>9133.000000</td>\n",
       "      <td>3602.000000</td>\n",
       "    </tr>\n",
       "    <tr>\n",
       "      <th>mean</th>\n",
       "      <td>21763.424380</td>\n",
       "      <td>1034.453411</td>\n",
       "      <td>842.895614</td>\n",
       "    </tr>\n",
       "    <tr>\n",
       "      <th>std</th>\n",
       "      <td>5266.400415</td>\n",
       "      <td>1048.312617</td>\n",
       "      <td>943.257919</td>\n",
       "    </tr>\n",
       "    <tr>\n",
       "      <th>min</th>\n",
       "      <td>3982.000000</td>\n",
       "      <td>-64.000000</td>\n",
       "      <td>0.000000</td>\n",
       "    </tr>\n",
       "    <tr>\n",
       "      <th>25%</th>\n",
       "      <td>18516.250000</td>\n",
       "      <td>375.000000</td>\n",
       "      <td>273.000000</td>\n",
       "    </tr>\n",
       "    <tr>\n",
       "      <th>50%</th>\n",
       "      <td>22223.500000</td>\n",
       "      <td>717.000000</td>\n",
       "      <td>545.000000</td>\n",
       "    </tr>\n",
       "    <tr>\n",
       "      <th>75%</th>\n",
       "      <td>25611.250000</td>\n",
       "      <td>1373.000000</td>\n",
       "      <td>1088.000000</td>\n",
       "    </tr>\n",
       "    <tr>\n",
       "      <th>max</th>\n",
       "      <td>32872.000000</td>\n",
       "      <td>11252.000000</td>\n",
       "      <td>10870.000000</td>\n",
       "    </tr>\n",
       "  </tbody>\n",
       "</table>\n",
       "</div>"
      ],
      "text/plain": [
       "       age_at_diagnosis  days_to_last_follow_up  days_to_death\n",
       "count      11042.000000             9133.000000    3602.000000\n",
       "mean       21763.424380             1034.453411     842.895614\n",
       "std         5266.400415             1048.312617     943.257919\n",
       "min         3982.000000              -64.000000       0.000000\n",
       "25%        18516.250000              375.000000     273.000000\n",
       "50%        22223.500000              717.000000     545.000000\n",
       "75%        25611.250000             1373.000000    1088.000000\n",
       "max        32872.000000            11252.000000   10870.000000"
      ]
     },
     "execution_count": 24,
     "metadata": {},
     "output_type": "execute_result"
    }
   ],
   "source": [
    "clinical.describe()"
   ]
  },
  {
   "cell_type": "code",
   "execution_count": 25,
   "metadata": {},
   "outputs": [
    {
     "name": "stdout",
     "output_type": "stream",
     "text": [
      "<class 'pandas.core.frame.DataFrame'>\n",
      "RangeIndex: 11167 entries, 0 to 11166\n",
      "Data columns (total 15 columns):\n",
      " #   Column                                          Non-Null Count  Dtype  \n",
      "---  ------                                          --------------  -----  \n",
      " 0   submitter_id                                    11167 non-null  object \n",
      " 1   tumor_stage                                     6961 non-null   object \n",
      " 2   age_at_diagnosis                                11042 non-null  float64\n",
      " 3   prior_treatment                                 11159 non-null  object \n",
      " 4   prior_malignancy                                10021 non-null  object \n",
      " 5   synchronous_malignancy                          9240 non-null   object \n",
      " 6   days_to_last_follow_up                          9133 non-null   float64\n",
      " 7   gender                                          11163 non-null  object \n",
      " 8   race                                            10168 non-null  object \n",
      " 9   ethnicity                                       8796 non-null   object \n",
      " 10  vital_status                                    11151 non-null  object \n",
      " 11  days_to_death                                   3602 non-null   float64\n",
      " 12  treatments_pharmaceutical_treatment_or_therapy  9867 non-null   object \n",
      " 13  treatments_radiation_treatment_or_therapy       9927 non-null   object \n",
      " 14  disease                                         11167 non-null  object \n",
      "dtypes: float64(3), object(12)\n",
      "memory usage: 1.3+ MB\n"
     ]
    }
   ],
   "source": [
    "clinical.info()"
   ]
  },
  {
   "cell_type": "markdown",
   "metadata": {},
   "source": [
    "Rename `disease` column as `project_id` and set it as table index."
   ]
  },
  {
   "cell_type": "code",
   "execution_count": 26,
   "metadata": {},
   "outputs": [],
   "source": [
    "clinical = clinical.rename(columns={'disease': 'project_id'})"
   ]
  },
  {
   "cell_type": "code",
   "execution_count": 27,
   "metadata": {},
   "outputs": [],
   "source": [
    "clinical = clinical.set_index('submitter_id')"
   ]
  },
  {
   "cell_type": "markdown",
   "metadata": {},
   "source": [
    "# Clean up inconsistencies"
   ]
  },
  {
   "cell_type": "markdown",
   "metadata": {},
   "source": [
    "## Consolidate `race` and `ethnicity`\n",
    "\n",
    "Whenever `race` value is \"white\" or missing replace it by `ethnicity` value (if present). Then drop ethnicity column."
   ]
  },
  {
   "cell_type": "code",
   "execution_count": 28,
   "metadata": {},
   "outputs": [],
   "source": [
    "race_subset = clinical['race'].isnull()\n",
    "ethnicity_subset = ~clinical['ethnicity'].isnull()\n",
    "subset = race_subset & ethnicity_subset\n",
    "clinical.loc[subset, 'race'] = clinical.loc[subset, 'ethnicity']"
   ]
  },
  {
   "cell_type": "code",
   "execution_count": 29,
   "metadata": {},
   "outputs": [],
   "source": [
    "race_subset = (clinical['race'] == 'white')\n",
    "ethnicity_subset = (~clinical['ethnicity'].isnull() &\n",
    "                    (clinical['ethnicity'] == 'hispanic or latino'))\n",
    "subset = race_subset & ethnicity_subset\n",
    "clinical.loc[subset, 'race'] = clinical.loc[subset, 'ethnicity']"
   ]
  },
  {
   "cell_type": "code",
   "execution_count": 30,
   "metadata": {},
   "outputs": [
    {
     "data": {
      "text/plain": [
       "(8144, 14)"
      ]
     },
     "execution_count": 30,
     "metadata": {},
     "output_type": "execute_result"
    }
   ],
   "source": [
    "clinical.loc[clinical['race'] == 'white', ].shape"
   ]
  },
  {
   "cell_type": "code",
   "execution_count": 31,
   "metadata": {},
   "outputs": [],
   "source": [
    "clinical = clinical.drop('ethnicity', axis=1)"
   ]
  },
  {
   "cell_type": "markdown",
   "metadata": {},
   "source": [
    "## Missing label data\n",
    "\n",
    "The data show some inconsistencies, such as patients missing `vital_status` information, showing negative `days_to_last_follow_up` values, or missing `days_to_death` values. This is addressed in a few discussions under GitHub issues. [In one of them](https://github.com/BioinformaticsFMRP/TCGAbiolinks/issues/324) someone asked and got the following explanation from the GDC:\n",
    "\n",
    "> \"I have talked to our Clinical Data Scientist and she said that these values can seem strange due to how TCGA and third parties handled patient data. For the negative follow up dates, this can be caused by the pathology report being made at a secondary institution that does the surgery, even though the patient was diagnosed at a local hospital. The larger institution/center eventually reports back the pathologic findings from the surgery, but they never receive follow-up information about the patient. Thus, the days to diagnosis would have been the date the pathology report was signed out, which is always day 0, but the last time the patient was seen relative to that date could have been days or weeks prior to that report being signed out. Basically, we are aware that these negative dates exist, and they are caused by pathology report dates taking priority as day 0. For the patients without days_to_death, this is the case that they knew the patient was deceased, but they were uncertain of the exact date. Thus, when filling out the clinical information they left this intentionally blank..\"\n",
    "\n",
    "Here, I will simply drop these patients from data. I did manually check on the online database the negative values, which matched my downloaded data."
   ]
  },
  {
   "cell_type": "markdown",
   "metadata": {},
   "source": [
    "### `vital_status`"
   ]
  },
  {
   "cell_type": "code",
   "execution_count": 32,
   "metadata": {},
   "outputs": [
    {
     "name": "stdout",
     "output_type": "stream",
     "text": [
      "~~ MISSING DATA ~~\n",
      "\n",
      "tumor_stage: 4206 (37.66%)\n",
      "prior_treatment: 8 (0.07%)\n",
      "synchronous_malignancy: 1927 (17.26%)\n",
      "vital_status: 16 (0.14%)\n",
      "treatments_pharmaceutical_treatment_or_therapy: 1300 (11.64%)\n",
      "treatments_radiation_treatment_or_therapy: 1240 (11.1%)\n"
     ]
    }
   ],
   "source": [
    "print('~~ MISSING DATA ~~')\n",
    "print()\n",
    "skip = ['project_id', 'gender', 'race', 'ethnicity', 'prior_malignancy',\n",
    "        'age_at_diagnosis', 'days_to_death', 'days_to_last_follow_up']\n",
    "\n",
    "n = clinical.shape[0]\n",
    "\n",
    "for v in clinical.columns:\n",
    "    if v not in skip:\n",
    "        n_missing = sum(clinical[v].isnull())\n",
    "        print(f'{v}: {n_missing} ({round(n_missing / n * 100, 2)}%)')"
   ]
  },
  {
   "cell_type": "code",
   "execution_count": 33,
   "metadata": {},
   "outputs": [],
   "source": [
    "# Drop patients missing \"vital_status\" information\n",
    "subset = ~clinical.vital_status.isna()\n",
    "clinical = clinical.loc[subset]"
   ]
  },
  {
   "cell_type": "markdown",
   "metadata": {},
   "source": [
    "### Both duration values\n",
    "\n",
    "Patients missing both time to death and time to last follow up variables cannot be included in a survival study."
   ]
  },
  {
   "cell_type": "code",
   "execution_count": 34,
   "metadata": {},
   "outputs": [
    {
     "name": "stdout",
     "output_type": "stream",
     "text": [
      "# patients missing both duration columns: 53\n"
     ]
    }
   ],
   "source": [
    "missing_duration_data = clinical[\n",
    "    clinical['days_to_death'].isna() &\n",
    "    clinical['days_to_last_follow_up'].isna()]\n",
    "\n",
    "print('# patients missing both duration columns:', missing_duration_data.shape[0])"
   ]
  },
  {
   "cell_type": "code",
   "execution_count": 35,
   "metadata": {},
   "outputs": [
    {
     "data": {
      "text/html": [
       "<div>\n",
       "<style scoped>\n",
       "    .dataframe tbody tr th:only-of-type {\n",
       "        vertical-align: middle;\n",
       "    }\n",
       "\n",
       "    .dataframe tbody tr th {\n",
       "        vertical-align: top;\n",
       "    }\n",
       "\n",
       "    .dataframe thead th {\n",
       "        text-align: right;\n",
       "    }\n",
       "</style>\n",
       "<table border=\"1\" class=\"dataframe\">\n",
       "  <thead>\n",
       "    <tr style=\"text-align: right;\">\n",
       "      <th></th>\n",
       "      <th>tumor_stage</th>\n",
       "      <th>age_at_diagnosis</th>\n",
       "      <th>prior_treatment</th>\n",
       "      <th>prior_malignancy</th>\n",
       "      <th>synchronous_malignancy</th>\n",
       "      <th>days_to_last_follow_up</th>\n",
       "      <th>gender</th>\n",
       "      <th>race</th>\n",
       "      <th>vital_status</th>\n",
       "      <th>days_to_death</th>\n",
       "      <th>treatments_pharmaceutical_treatment_or_therapy</th>\n",
       "      <th>treatments_radiation_treatment_or_therapy</th>\n",
       "      <th>project_id</th>\n",
       "    </tr>\n",
       "    <tr>\n",
       "      <th>submitter_id</th>\n",
       "      <th></th>\n",
       "      <th></th>\n",
       "      <th></th>\n",
       "      <th></th>\n",
       "      <th></th>\n",
       "      <th></th>\n",
       "      <th></th>\n",
       "      <th></th>\n",
       "      <th></th>\n",
       "      <th></th>\n",
       "      <th></th>\n",
       "      <th></th>\n",
       "      <th></th>\n",
       "    </tr>\n",
       "  </thead>\n",
       "  <tbody>\n",
       "    <tr>\n",
       "      <th>TCGA-TS-A8AV</th>\n",
       "      <td>stage iii</td>\n",
       "      <td>20437.0</td>\n",
       "      <td>No</td>\n",
       "      <td>no</td>\n",
       "      <td>No</td>\n",
       "      <td>NaN</td>\n",
       "      <td>male</td>\n",
       "      <td>white</td>\n",
       "      <td>Dead</td>\n",
       "      <td>NaN</td>\n",
       "      <td>no</td>\n",
       "      <td>no</td>\n",
       "      <td>MESO</td>\n",
       "    </tr>\n",
       "    <tr>\n",
       "      <th>TCGA-CS-5390</th>\n",
       "      <td>NaN</td>\n",
       "      <td>17460.0</td>\n",
       "      <td>No</td>\n",
       "      <td>no</td>\n",
       "      <td>No</td>\n",
       "      <td>NaN</td>\n",
       "      <td>female</td>\n",
       "      <td>white</td>\n",
       "      <td>Dead</td>\n",
       "      <td>NaN</td>\n",
       "      <td>yes</td>\n",
       "      <td>yes</td>\n",
       "      <td>LGG</td>\n",
       "    </tr>\n",
       "    <tr>\n",
       "      <th>TCGA-04-1357</th>\n",
       "      <td>NaN</td>\n",
       "      <td>18999.0</td>\n",
       "      <td>No</td>\n",
       "      <td>NaN</td>\n",
       "      <td>NaN</td>\n",
       "      <td>NaN</td>\n",
       "      <td>female</td>\n",
       "      <td>NaN</td>\n",
       "      <td>Alive</td>\n",
       "      <td>NaN</td>\n",
       "      <td>yes</td>\n",
       "      <td>no</td>\n",
       "      <td>OV</td>\n",
       "    </tr>\n",
       "    <tr>\n",
       "      <th>TCGA-04-1360</th>\n",
       "      <td>NaN</td>\n",
       "      <td>23993.0</td>\n",
       "      <td>No</td>\n",
       "      <td>NaN</td>\n",
       "      <td>NaN</td>\n",
       "      <td>NaN</td>\n",
       "      <td>female</td>\n",
       "      <td>NaN</td>\n",
       "      <td>Alive</td>\n",
       "      <td>NaN</td>\n",
       "      <td>yes</td>\n",
       "      <td>no</td>\n",
       "      <td>OV</td>\n",
       "    </tr>\n",
       "    <tr>\n",
       "      <th>TCGA-D3-A3C1</th>\n",
       "      <td>i/ii nos</td>\n",
       "      <td>NaN</td>\n",
       "      <td>No</td>\n",
       "      <td>no</td>\n",
       "      <td>No</td>\n",
       "      <td>NaN</td>\n",
       "      <td>male</td>\n",
       "      <td>white</td>\n",
       "      <td>Alive</td>\n",
       "      <td>NaN</td>\n",
       "      <td>yes</td>\n",
       "      <td>yes</td>\n",
       "      <td>SKCM</td>\n",
       "    </tr>\n",
       "  </tbody>\n",
       "</table>\n",
       "</div>"
      ],
      "text/plain": [
       "             tumor_stage  age_at_diagnosis prior_treatment prior_malignancy  \\\n",
       "submitter_id                                                                  \n",
       "TCGA-TS-A8AV   stage iii           20437.0              No               no   \n",
       "TCGA-CS-5390         NaN           17460.0              No               no   \n",
       "TCGA-04-1357         NaN           18999.0              No              NaN   \n",
       "TCGA-04-1360         NaN           23993.0              No              NaN   \n",
       "TCGA-D3-A3C1    i/ii nos               NaN              No               no   \n",
       "\n",
       "             synchronous_malignancy  days_to_last_follow_up  gender   race  \\\n",
       "submitter_id                                                                 \n",
       "TCGA-TS-A8AV                     No                     NaN    male  white   \n",
       "TCGA-CS-5390                     No                     NaN  female  white   \n",
       "TCGA-04-1357                    NaN                     NaN  female    NaN   \n",
       "TCGA-04-1360                    NaN                     NaN  female    NaN   \n",
       "TCGA-D3-A3C1                     No                     NaN    male  white   \n",
       "\n",
       "             vital_status  days_to_death  \\\n",
       "submitter_id                               \n",
       "TCGA-TS-A8AV         Dead            NaN   \n",
       "TCGA-CS-5390         Dead            NaN   \n",
       "TCGA-04-1357        Alive            NaN   \n",
       "TCGA-04-1360        Alive            NaN   \n",
       "TCGA-D3-A3C1        Alive            NaN   \n",
       "\n",
       "             treatments_pharmaceutical_treatment_or_therapy  \\\n",
       "submitter_id                                                  \n",
       "TCGA-TS-A8AV                                             no   \n",
       "TCGA-CS-5390                                            yes   \n",
       "TCGA-04-1357                                            yes   \n",
       "TCGA-04-1360                                            yes   \n",
       "TCGA-D3-A3C1                                            yes   \n",
       "\n",
       "             treatments_radiation_treatment_or_therapy project_id  \n",
       "submitter_id                                                       \n",
       "TCGA-TS-A8AV                                        no       MESO  \n",
       "TCGA-CS-5390                                       yes        LGG  \n",
       "TCGA-04-1357                                        no         OV  \n",
       "TCGA-04-1360                                        no         OV  \n",
       "TCGA-D3-A3C1                                       yes       SKCM  "
      ]
     },
     "execution_count": 35,
     "metadata": {},
     "output_type": "execute_result"
    }
   ],
   "source": [
    "missing_duration_data.head()"
   ]
  },
  {
   "cell_type": "code",
   "execution_count": 36,
   "metadata": {},
   "outputs": [],
   "source": [
    "# Remove missing data\n",
    "subset = ~(clinical['days_to_death'].isna() &\n",
    "           clinical['days_to_last_follow_up'].isna())\n",
    "clinical = clinical.loc[subset]"
   ]
  },
  {
   "cell_type": "code",
   "execution_count": 37,
   "metadata": {},
   "outputs": [
    {
     "data": {
      "text/plain": [
       "(11098, 13)"
      ]
     },
     "execution_count": 37,
     "metadata": {},
     "output_type": "execute_result"
    }
   ],
   "source": [
    "clinical.shape"
   ]
  },
  {
   "cell_type": "markdown",
   "metadata": {},
   "source": [
    "### Required duration value\n",
    "\n",
    "Patients alive at the end of the study require time to last follow up information. Dead patients require time to death information."
   ]
  },
  {
   "cell_type": "code",
   "execution_count": 38,
   "metadata": {},
   "outputs": [
    {
     "name": "stdout",
     "output_type": "stream",
     "text": [
      "# patients missing \"days_to_last_follow_up\" when \"vital_status\" is \"Alive\": 0\n"
     ]
    }
   ],
   "source": [
    "print('# patients missing \"days_to_last_follow_up\" when \"vital_status\" is \"Alive\":',\n",
    "      clinical[(clinical.vital_status == 'Alive') &\n",
    "               clinical.days_to_last_follow_up.isna()].shape[0])"
   ]
  },
  {
   "cell_type": "code",
   "execution_count": 39,
   "metadata": {},
   "outputs": [
    {
     "name": "stdout",
     "output_type": "stream",
     "text": [
      "# patients missing \"days_to_death\" when \"vital_status\" is \"Dead\": 11\n"
     ]
    }
   ],
   "source": [
    "print('# patients missing \"days_to_death\" when \"vital_status\" is \"Dead\":',\n",
    "      clinical[(clinical.vital_status == 'Dead') &\n",
    "               clinical.days_to_death.isna()].shape[0])"
   ]
  },
  {
   "cell_type": "code",
   "execution_count": 40,
   "metadata": {},
   "outputs": [],
   "source": [
    "# Remove missing data\n",
    "subset = ~((clinical.vital_status == 'Dead') &\n",
    "           clinical.days_to_death.isna())\n",
    "clinical = clinical.loc[subset]"
   ]
  },
  {
   "cell_type": "markdown",
   "metadata": {},
   "source": [
    "## Not missing `days_to_last_follow_up` when `vital_status` is \"Dead\""
   ]
  },
  {
   "cell_type": "code",
   "execution_count": 41,
   "metadata": {},
   "outputs": [
    {
     "name": "stdout",
     "output_type": "stream",
     "text": [
      "\"Days to death\" variable missing for all patients still alive? True\n"
     ]
    }
   ],
   "source": [
    "print('\"Days to death\" variable missing for all patients still alive?',\n",
    "      all(clinical[clinical.vital_status == 'Alive'].days_to_death.isna()))"
   ]
  },
  {
   "cell_type": "code",
   "execution_count": 42,
   "metadata": {},
   "outputs": [
    {
     "name": "stdout",
     "output_type": "stream",
     "text": [
      "\"Days to last follow up\" variable missing for all dead patients? False\n"
     ]
    }
   ],
   "source": [
    "print('\"Days to last follow up\" variable missing for all dead patients?',\n",
    "      all(clinical[clinical.vital_status == 'Dead'].days_to_last_follow_up.isna()))"
   ]
  },
  {
   "cell_type": "code",
   "execution_count": 43,
   "metadata": {},
   "outputs": [],
   "source": [
    "# Insert \"NaN\" in \"days_to_last_follow_up\" when \"vital_status\" is \"Dead\" \n",
    "subset = clinical.vital_status == 'Dead'\n",
    "clinical.loc[subset, 'days_to_last_follow_up'] = None"
   ]
  },
  {
   "cell_type": "code",
   "execution_count": 44,
   "metadata": {},
   "outputs": [
    {
     "name": "stdout",
     "output_type": "stream",
     "text": [
      "\"Days to last follow up\" variable missing for all dead patients? True\n"
     ]
    }
   ],
   "source": [
    "print('\"Days to last follow up\" variable missing for all dead patients?',\n",
    "      all(clinical[clinical.vital_status == 'Dead'].days_to_last_follow_up.isna()))"
   ]
  },
  {
   "cell_type": "markdown",
   "metadata": {},
   "source": [
    "## Negative durations"
   ]
  },
  {
   "cell_type": "code",
   "execution_count": 45,
   "metadata": {},
   "outputs": [
    {
     "data": {
      "text/html": [
       "<div>\n",
       "<style scoped>\n",
       "    .dataframe tbody tr th:only-of-type {\n",
       "        vertical-align: middle;\n",
       "    }\n",
       "\n",
       "    .dataframe tbody tr th {\n",
       "        vertical-align: top;\n",
       "    }\n",
       "\n",
       "    .dataframe thead th {\n",
       "        text-align: right;\n",
       "    }\n",
       "</style>\n",
       "<table border=\"1\" class=\"dataframe\">\n",
       "  <thead>\n",
       "    <tr style=\"text-align: right;\">\n",
       "      <th></th>\n",
       "      <th>tumor_stage</th>\n",
       "      <th>age_at_diagnosis</th>\n",
       "      <th>prior_treatment</th>\n",
       "      <th>prior_malignancy</th>\n",
       "      <th>synchronous_malignancy</th>\n",
       "      <th>days_to_last_follow_up</th>\n",
       "      <th>gender</th>\n",
       "      <th>race</th>\n",
       "      <th>vital_status</th>\n",
       "      <th>days_to_death</th>\n",
       "      <th>treatments_pharmaceutical_treatment_or_therapy</th>\n",
       "      <th>treatments_radiation_treatment_or_therapy</th>\n",
       "      <th>project_id</th>\n",
       "    </tr>\n",
       "    <tr>\n",
       "      <th>submitter_id</th>\n",
       "      <th></th>\n",
       "      <th></th>\n",
       "      <th></th>\n",
       "      <th></th>\n",
       "      <th></th>\n",
       "      <th></th>\n",
       "      <th></th>\n",
       "      <th></th>\n",
       "      <th></th>\n",
       "      <th></th>\n",
       "      <th></th>\n",
       "      <th></th>\n",
       "      <th></th>\n",
       "    </tr>\n",
       "  </thead>\n",
       "  <tbody>\n",
       "    <tr>\n",
       "      <th>TCGA-NQ-A638</th>\n",
       "      <td>stage ii</td>\n",
       "      <td>24410.0</td>\n",
       "      <td>No</td>\n",
       "      <td>no</td>\n",
       "      <td>No</td>\n",
       "      <td>-8.0</td>\n",
       "      <td>male</td>\n",
       "      <td>white</td>\n",
       "      <td>Alive</td>\n",
       "      <td>NaN</td>\n",
       "      <td>NaN</td>\n",
       "      <td>NaN</td>\n",
       "      <td>MESO</td>\n",
       "    </tr>\n",
       "    <tr>\n",
       "      <th>TCGA-TQ-A7RS</th>\n",
       "      <td>NaN</td>\n",
       "      <td>9172.0</td>\n",
       "      <td>No</td>\n",
       "      <td>no</td>\n",
       "      <td>No</td>\n",
       "      <td>-1.0</td>\n",
       "      <td>female</td>\n",
       "      <td>hispanic or latino</td>\n",
       "      <td>Alive</td>\n",
       "      <td>NaN</td>\n",
       "      <td>no</td>\n",
       "      <td>no</td>\n",
       "      <td>LGG</td>\n",
       "    </tr>\n",
       "    <tr>\n",
       "      <th>TCGA-PL-A8LV</th>\n",
       "      <td>stage iiib</td>\n",
       "      <td>19746.0</td>\n",
       "      <td>No</td>\n",
       "      <td>no</td>\n",
       "      <td>No</td>\n",
       "      <td>-7.0</td>\n",
       "      <td>female</td>\n",
       "      <td>black or african american</td>\n",
       "      <td>Alive</td>\n",
       "      <td>NaN</td>\n",
       "      <td>NaN</td>\n",
       "      <td>no</td>\n",
       "      <td>BRCA</td>\n",
       "    </tr>\n",
       "    <tr>\n",
       "      <th>TCGA-EB-A430</th>\n",
       "      <td>stage iic</td>\n",
       "      <td>30344.0</td>\n",
       "      <td>No</td>\n",
       "      <td>no</td>\n",
       "      <td>No</td>\n",
       "      <td>-2.0</td>\n",
       "      <td>male</td>\n",
       "      <td>white</td>\n",
       "      <td>Alive</td>\n",
       "      <td>NaN</td>\n",
       "      <td>no</td>\n",
       "      <td>no</td>\n",
       "      <td>SKCM</td>\n",
       "    </tr>\n",
       "    <tr>\n",
       "      <th>TCGA-AX-A3FV</th>\n",
       "      <td>NaN</td>\n",
       "      <td>22752.0</td>\n",
       "      <td>No</td>\n",
       "      <td>no</td>\n",
       "      <td>No</td>\n",
       "      <td>-6.0</td>\n",
       "      <td>female</td>\n",
       "      <td>white</td>\n",
       "      <td>Alive</td>\n",
       "      <td>NaN</td>\n",
       "      <td>NaN</td>\n",
       "      <td>NaN</td>\n",
       "      <td>UCEC</td>\n",
       "    </tr>\n",
       "    <tr>\n",
       "      <th>TCGA-CF-A9FH</th>\n",
       "      <td>stage ii</td>\n",
       "      <td>31236.0</td>\n",
       "      <td>No</td>\n",
       "      <td>no</td>\n",
       "      <td>No</td>\n",
       "      <td>-64.0</td>\n",
       "      <td>male</td>\n",
       "      <td>asian</td>\n",
       "      <td>Alive</td>\n",
       "      <td>NaN</td>\n",
       "      <td>no</td>\n",
       "      <td>no</td>\n",
       "      <td>BLCA</td>\n",
       "    </tr>\n",
       "  </tbody>\n",
       "</table>\n",
       "</div>"
      ],
      "text/plain": [
       "             tumor_stage  age_at_diagnosis prior_treatment prior_malignancy  \\\n",
       "submitter_id                                                                  \n",
       "TCGA-NQ-A638    stage ii           24410.0              No               no   \n",
       "TCGA-TQ-A7RS         NaN            9172.0              No               no   \n",
       "TCGA-PL-A8LV  stage iiib           19746.0              No               no   \n",
       "TCGA-EB-A430   stage iic           30344.0              No               no   \n",
       "TCGA-AX-A3FV         NaN           22752.0              No               no   \n",
       "TCGA-CF-A9FH    stage ii           31236.0              No               no   \n",
       "\n",
       "             synchronous_malignancy  days_to_last_follow_up  gender  \\\n",
       "submitter_id                                                          \n",
       "TCGA-NQ-A638                     No                    -8.0    male   \n",
       "TCGA-TQ-A7RS                     No                    -1.0  female   \n",
       "TCGA-PL-A8LV                     No                    -7.0  female   \n",
       "TCGA-EB-A430                     No                    -2.0    male   \n",
       "TCGA-AX-A3FV                     No                    -6.0  female   \n",
       "TCGA-CF-A9FH                     No                   -64.0    male   \n",
       "\n",
       "                                   race vital_status  days_to_death  \\\n",
       "submitter_id                                                          \n",
       "TCGA-NQ-A638                      white        Alive            NaN   \n",
       "TCGA-TQ-A7RS         hispanic or latino        Alive            NaN   \n",
       "TCGA-PL-A8LV  black or african american        Alive            NaN   \n",
       "TCGA-EB-A430                      white        Alive            NaN   \n",
       "TCGA-AX-A3FV                      white        Alive            NaN   \n",
       "TCGA-CF-A9FH                      asian        Alive            NaN   \n",
       "\n",
       "             treatments_pharmaceutical_treatment_or_therapy  \\\n",
       "submitter_id                                                  \n",
       "TCGA-NQ-A638                                            NaN   \n",
       "TCGA-TQ-A7RS                                             no   \n",
       "TCGA-PL-A8LV                                            NaN   \n",
       "TCGA-EB-A430                                             no   \n",
       "TCGA-AX-A3FV                                            NaN   \n",
       "TCGA-CF-A9FH                                             no   \n",
       "\n",
       "             treatments_radiation_treatment_or_therapy project_id  \n",
       "submitter_id                                                       \n",
       "TCGA-NQ-A638                                       NaN       MESO  \n",
       "TCGA-TQ-A7RS                                        no        LGG  \n",
       "TCGA-PL-A8LV                                        no       BRCA  \n",
       "TCGA-EB-A430                                        no       SKCM  \n",
       "TCGA-AX-A3FV                                       NaN       UCEC  \n",
       "TCGA-CF-A9FH                                        no       BLCA  "
      ]
     },
     "execution_count": 45,
     "metadata": {},
     "output_type": "execute_result"
    }
   ],
   "source": [
    "clinical[clinical.days_to_last_follow_up < 0]"
   ]
  },
  {
   "cell_type": "code",
   "execution_count": 46,
   "metadata": {},
   "outputs": [],
   "source": [
    "# Remove data\n",
    "subset = ~((clinical.days_to_last_follow_up < 0) &\n",
    "           (clinical.vital_status == 'Alive'))\n",
    "clinical = clinical.loc[subset]"
   ]
  },
  {
   "cell_type": "code",
   "execution_count": 47,
   "metadata": {},
   "outputs": [
    {
     "data": {
      "text/plain": [
       "(11081, 13)"
      ]
     },
     "execution_count": 47,
     "metadata": {},
     "output_type": "execute_result"
    }
   ],
   "source": [
    "clinical.shape"
   ]
  },
  {
   "cell_type": "markdown",
   "metadata": {},
   "source": [
    "# Label data\n",
    "\n",
    "Collect duration label: `days_to_last_follow_up` and `days_to_death` for live and dead patients, respectively."
   ]
  },
  {
   "cell_type": "code",
   "execution_count": 48,
   "metadata": {},
   "outputs": [],
   "source": [
    "def get_duration(vital_status, days_to_death, days_to_last_follow_up):\n",
    "    if vital_status == 'Dead':\n",
    "        return days_to_death\n",
    "    elif vital_status == 'Alive':\n",
    "        return days_to_last_follow_up\n",
    "    else:\n",
    "        print('Found NaN in duration!')\n",
    "\n",
    "def get_events(vital_status):\n",
    "    if vital_status in ['1', 'Dead']:\n",
    "        return 1\n",
    "    elif vital_status in ['0', 'Alive']:\n",
    "        return 0\n",
    "    else:\n",
    "        print('Found NaN in vital status!')"
   ]
  },
  {
   "cell_type": "code",
   "execution_count": 49,
   "metadata": {},
   "outputs": [],
   "source": [
    "d = {'submitter_id': clinical.index,\n",
    "     'time': clinical.apply(\n",
    "         lambda x: get_duration(x['vital_status'], x['days_to_death'],\n",
    "                                x['days_to_last_follow_up']), axis=1).values,\n",
    "     'event': clinical.apply(\n",
    "         lambda x: get_events(x['vital_status']), axis=1).values}"
   ]
  },
  {
   "cell_type": "code",
   "execution_count": 50,
   "metadata": {},
   "outputs": [],
   "source": [
    "survival = pd.DataFrame.from_dict(d).astype(\n",
    "    {'submitter_id': 'object', 'time': 'int64', 'event': 'int64'})"
   ]
  },
  {
   "cell_type": "code",
   "execution_count": 51,
   "metadata": {},
   "outputs": [],
   "source": [
    "clinical = clinical.join(survival.set_index('submitter_id'))"
   ]
  },
  {
   "cell_type": "code",
   "execution_count": 52,
   "metadata": {},
   "outputs": [
    {
     "data": {
      "text/html": [
       "<div>\n",
       "<style scoped>\n",
       "    .dataframe tbody tr th:only-of-type {\n",
       "        vertical-align: middle;\n",
       "    }\n",
       "\n",
       "    .dataframe tbody tr th {\n",
       "        vertical-align: top;\n",
       "    }\n",
       "\n",
       "    .dataframe thead th {\n",
       "        text-align: right;\n",
       "    }\n",
       "</style>\n",
       "<table border=\"1\" class=\"dataframe\">\n",
       "  <thead>\n",
       "    <tr style=\"text-align: right;\">\n",
       "      <th></th>\n",
       "      <th>tumor_stage</th>\n",
       "      <th>age_at_diagnosis</th>\n",
       "      <th>prior_treatment</th>\n",
       "      <th>prior_malignancy</th>\n",
       "      <th>synchronous_malignancy</th>\n",
       "      <th>days_to_last_follow_up</th>\n",
       "      <th>gender</th>\n",
       "      <th>race</th>\n",
       "      <th>vital_status</th>\n",
       "      <th>days_to_death</th>\n",
       "      <th>treatments_pharmaceutical_treatment_or_therapy</th>\n",
       "      <th>treatments_radiation_treatment_or_therapy</th>\n",
       "      <th>project_id</th>\n",
       "      <th>time</th>\n",
       "      <th>event</th>\n",
       "    </tr>\n",
       "    <tr>\n",
       "      <th>submitter_id</th>\n",
       "      <th></th>\n",
       "      <th></th>\n",
       "      <th></th>\n",
       "      <th></th>\n",
       "      <th></th>\n",
       "      <th></th>\n",
       "      <th></th>\n",
       "      <th></th>\n",
       "      <th></th>\n",
       "      <th></th>\n",
       "      <th></th>\n",
       "      <th></th>\n",
       "      <th></th>\n",
       "      <th></th>\n",
       "      <th></th>\n",
       "    </tr>\n",
       "  </thead>\n",
       "  <tbody>\n",
       "    <tr>\n",
       "      <th>TCGA-3B-A9HI</th>\n",
       "      <td>NaN</td>\n",
       "      <td>24984.0</td>\n",
       "      <td>No</td>\n",
       "      <td>no</td>\n",
       "      <td>No</td>\n",
       "      <td>1521.0</td>\n",
       "      <td>male</td>\n",
       "      <td>white</td>\n",
       "      <td>Alive</td>\n",
       "      <td>NaN</td>\n",
       "      <td>yes</td>\n",
       "      <td>yes</td>\n",
       "      <td>SARC</td>\n",
       "      <td>1521</td>\n",
       "      <td>0</td>\n",
       "    </tr>\n",
       "    <tr>\n",
       "      <th>TCGA-3B-A9HJ</th>\n",
       "      <td>NaN</td>\n",
       "      <td>24962.0</td>\n",
       "      <td>No</td>\n",
       "      <td>yes</td>\n",
       "      <td>NaN</td>\n",
       "      <td>1104.0</td>\n",
       "      <td>male</td>\n",
       "      <td>white</td>\n",
       "      <td>Alive</td>\n",
       "      <td>NaN</td>\n",
       "      <td>no</td>\n",
       "      <td>yes</td>\n",
       "      <td>SARC</td>\n",
       "      <td>1104</td>\n",
       "      <td>0</td>\n",
       "    </tr>\n",
       "    <tr>\n",
       "      <th>TCGA-3B-A9HL</th>\n",
       "      <td>NaN</td>\n",
       "      <td>24628.0</td>\n",
       "      <td>No</td>\n",
       "      <td>no</td>\n",
       "      <td>No</td>\n",
       "      <td>NaN</td>\n",
       "      <td>male</td>\n",
       "      <td>white</td>\n",
       "      <td>Dead</td>\n",
       "      <td>599.0</td>\n",
       "      <td>yes</td>\n",
       "      <td>no</td>\n",
       "      <td>SARC</td>\n",
       "      <td>599</td>\n",
       "      <td>1</td>\n",
       "    </tr>\n",
       "    <tr>\n",
       "      <th>TCGA-3B-A9HO</th>\n",
       "      <td>NaN</td>\n",
       "      <td>27664.0</td>\n",
       "      <td>Yes</td>\n",
       "      <td>yes</td>\n",
       "      <td>NaN</td>\n",
       "      <td>959.0</td>\n",
       "      <td>male</td>\n",
       "      <td>white</td>\n",
       "      <td>Alive</td>\n",
       "      <td>NaN</td>\n",
       "      <td>no</td>\n",
       "      <td>no</td>\n",
       "      <td>SARC</td>\n",
       "      <td>959</td>\n",
       "      <td>0</td>\n",
       "    </tr>\n",
       "    <tr>\n",
       "      <th>TCGA-3B-A9HP</th>\n",
       "      <td>NaN</td>\n",
       "      <td>21094.0</td>\n",
       "      <td>No</td>\n",
       "      <td>no</td>\n",
       "      <td>No</td>\n",
       "      <td>NaN</td>\n",
       "      <td>female</td>\n",
       "      <td>white</td>\n",
       "      <td>Dead</td>\n",
       "      <td>1627.0</td>\n",
       "      <td>yes</td>\n",
       "      <td>yes</td>\n",
       "      <td>SARC</td>\n",
       "      <td>1627</td>\n",
       "      <td>1</td>\n",
       "    </tr>\n",
       "  </tbody>\n",
       "</table>\n",
       "</div>"
      ],
      "text/plain": [
       "             tumor_stage  age_at_diagnosis prior_treatment prior_malignancy  \\\n",
       "submitter_id                                                                  \n",
       "TCGA-3B-A9HI         NaN           24984.0              No               no   \n",
       "TCGA-3B-A9HJ         NaN           24962.0              No              yes   \n",
       "TCGA-3B-A9HL         NaN           24628.0              No               no   \n",
       "TCGA-3B-A9HO         NaN           27664.0             Yes              yes   \n",
       "TCGA-3B-A9HP         NaN           21094.0              No               no   \n",
       "\n",
       "             synchronous_malignancy  days_to_last_follow_up  gender   race  \\\n",
       "submitter_id                                                                 \n",
       "TCGA-3B-A9HI                     No                  1521.0    male  white   \n",
       "TCGA-3B-A9HJ                    NaN                  1104.0    male  white   \n",
       "TCGA-3B-A9HL                     No                     NaN    male  white   \n",
       "TCGA-3B-A9HO                    NaN                   959.0    male  white   \n",
       "TCGA-3B-A9HP                     No                     NaN  female  white   \n",
       "\n",
       "             vital_status  days_to_death  \\\n",
       "submitter_id                               \n",
       "TCGA-3B-A9HI        Alive            NaN   \n",
       "TCGA-3B-A9HJ        Alive            NaN   \n",
       "TCGA-3B-A9HL         Dead          599.0   \n",
       "TCGA-3B-A9HO        Alive            NaN   \n",
       "TCGA-3B-A9HP         Dead         1627.0   \n",
       "\n",
       "             treatments_pharmaceutical_treatment_or_therapy  \\\n",
       "submitter_id                                                  \n",
       "TCGA-3B-A9HI                                            yes   \n",
       "TCGA-3B-A9HJ                                             no   \n",
       "TCGA-3B-A9HL                                            yes   \n",
       "TCGA-3B-A9HO                                             no   \n",
       "TCGA-3B-A9HP                                            yes   \n",
       "\n",
       "             treatments_radiation_treatment_or_therapy project_id  time  event  \n",
       "submitter_id                                                                    \n",
       "TCGA-3B-A9HI                                       yes       SARC  1521      0  \n",
       "TCGA-3B-A9HJ                                       yes       SARC  1104      0  \n",
       "TCGA-3B-A9HL                                        no       SARC   599      1  \n",
       "TCGA-3B-A9HO                                        no       SARC   959      0  \n",
       "TCGA-3B-A9HP                                       yes       SARC  1627      1  "
      ]
     },
     "execution_count": 52,
     "metadata": {},
     "output_type": "execute_result"
    }
   ],
   "source": [
    "clinical.head()"
   ]
  },
  {
   "cell_type": "markdown",
   "metadata": {},
   "source": [
    "# Train-val-test split\n",
    "\n",
    "Split by patient and stratify by `project_id`."
   ]
  },
  {
   "cell_type": "code",
   "execution_count": 53,
   "metadata": {},
   "outputs": [
    {
     "data": {
      "text/plain": [
       "['TCGA-3B-A9HI', 'TCGA-3B-A9HJ', 'TCGA-3B-A9HL']"
      ]
     },
     "execution_count": 53,
     "metadata": {},
     "output_type": "execute_result"
    }
   ],
   "source": [
    "cases = list(clinical.index.unique())\n",
    "cases[:3]"
   ]
  },
  {
   "cell_type": "code",
   "execution_count": 54,
   "metadata": {},
   "outputs": [],
   "source": [
    "X = clinical\n",
    "y = clinical[['time']]\n",
    "\n",
    "X_train, X_val, _, _ = train_test_split(\n",
    "    X, y, test_size=0.1, random_state=42, stratify=clinical[['project_id']])\n",
    "\n",
    "X = X_train\n",
    "y = X_train[['time']]\n",
    "\n",
    "X_train, X_test, _, _ = train_test_split(\n",
    "    X, y, test_size=0.1095, random_state=42, stratify=X_train[['project_id']])"
   ]
  },
  {
   "cell_type": "code",
   "execution_count": 55,
   "metadata": {},
   "outputs": [],
   "source": [
    "def get_split_group(id_code):\n",
    "    if id_code in list(X_train.index):\n",
    "        return 'train'\n",
    "    elif id_code in X_val.index:\n",
    "        return 'val'\n",
    "    elif id_code in X_test.index:\n",
    "        return 'test'\n",
    "    else:\n",
    "        print('Found NaN!')"
   ]
  },
  {
   "cell_type": "code",
   "execution_count": 56,
   "metadata": {},
   "outputs": [],
   "source": [
    "clinical['group'] = 'Missing'\n",
    "clinical['group'] = [get_split_group(x) for x in list(clinical.index)]"
   ]
  },
  {
   "cell_type": "code",
   "execution_count": 57,
   "metadata": {},
   "outputs": [
    {
     "data": {
      "text/html": [
       "<div>\n",
       "<style scoped>\n",
       "    .dataframe tbody tr th:only-of-type {\n",
       "        vertical-align: middle;\n",
       "    }\n",
       "\n",
       "    .dataframe tbody tr th {\n",
       "        vertical-align: top;\n",
       "    }\n",
       "\n",
       "    .dataframe thead th {\n",
       "        text-align: right;\n",
       "    }\n",
       "</style>\n",
       "<table border=\"1\" class=\"dataframe\">\n",
       "  <thead>\n",
       "    <tr style=\"text-align: right;\">\n",
       "      <th></th>\n",
       "      <th>tumor_stage</th>\n",
       "      <th>age_at_diagnosis</th>\n",
       "      <th>prior_treatment</th>\n",
       "      <th>prior_malignancy</th>\n",
       "      <th>synchronous_malignancy</th>\n",
       "      <th>days_to_last_follow_up</th>\n",
       "      <th>gender</th>\n",
       "      <th>race</th>\n",
       "      <th>vital_status</th>\n",
       "      <th>days_to_death</th>\n",
       "      <th>treatments_pharmaceutical_treatment_or_therapy</th>\n",
       "      <th>treatments_radiation_treatment_or_therapy</th>\n",
       "      <th>project_id</th>\n",
       "      <th>time</th>\n",
       "      <th>event</th>\n",
       "      <th>group</th>\n",
       "    </tr>\n",
       "    <tr>\n",
       "      <th>submitter_id</th>\n",
       "      <th></th>\n",
       "      <th></th>\n",
       "      <th></th>\n",
       "      <th></th>\n",
       "      <th></th>\n",
       "      <th></th>\n",
       "      <th></th>\n",
       "      <th></th>\n",
       "      <th></th>\n",
       "      <th></th>\n",
       "      <th></th>\n",
       "      <th></th>\n",
       "      <th></th>\n",
       "      <th></th>\n",
       "      <th></th>\n",
       "      <th></th>\n",
       "    </tr>\n",
       "  </thead>\n",
       "  <tbody>\n",
       "    <tr>\n",
       "      <th>TCGA-3B-A9HI</th>\n",
       "      <td>NaN</td>\n",
       "      <td>24984.0</td>\n",
       "      <td>No</td>\n",
       "      <td>no</td>\n",
       "      <td>No</td>\n",
       "      <td>1521.0</td>\n",
       "      <td>male</td>\n",
       "      <td>white</td>\n",
       "      <td>Alive</td>\n",
       "      <td>NaN</td>\n",
       "      <td>yes</td>\n",
       "      <td>yes</td>\n",
       "      <td>SARC</td>\n",
       "      <td>1521</td>\n",
       "      <td>0</td>\n",
       "      <td>val</td>\n",
       "    </tr>\n",
       "    <tr>\n",
       "      <th>TCGA-3B-A9HJ</th>\n",
       "      <td>NaN</td>\n",
       "      <td>24962.0</td>\n",
       "      <td>No</td>\n",
       "      <td>yes</td>\n",
       "      <td>NaN</td>\n",
       "      <td>1104.0</td>\n",
       "      <td>male</td>\n",
       "      <td>white</td>\n",
       "      <td>Alive</td>\n",
       "      <td>NaN</td>\n",
       "      <td>no</td>\n",
       "      <td>yes</td>\n",
       "      <td>SARC</td>\n",
       "      <td>1104</td>\n",
       "      <td>0</td>\n",
       "      <td>train</td>\n",
       "    </tr>\n",
       "    <tr>\n",
       "      <th>TCGA-3B-A9HL</th>\n",
       "      <td>NaN</td>\n",
       "      <td>24628.0</td>\n",
       "      <td>No</td>\n",
       "      <td>no</td>\n",
       "      <td>No</td>\n",
       "      <td>NaN</td>\n",
       "      <td>male</td>\n",
       "      <td>white</td>\n",
       "      <td>Dead</td>\n",
       "      <td>599.0</td>\n",
       "      <td>yes</td>\n",
       "      <td>no</td>\n",
       "      <td>SARC</td>\n",
       "      <td>599</td>\n",
       "      <td>1</td>\n",
       "      <td>train</td>\n",
       "    </tr>\n",
       "    <tr>\n",
       "      <th>TCGA-3B-A9HO</th>\n",
       "      <td>NaN</td>\n",
       "      <td>27664.0</td>\n",
       "      <td>Yes</td>\n",
       "      <td>yes</td>\n",
       "      <td>NaN</td>\n",
       "      <td>959.0</td>\n",
       "      <td>male</td>\n",
       "      <td>white</td>\n",
       "      <td>Alive</td>\n",
       "      <td>NaN</td>\n",
       "      <td>no</td>\n",
       "      <td>no</td>\n",
       "      <td>SARC</td>\n",
       "      <td>959</td>\n",
       "      <td>0</td>\n",
       "      <td>train</td>\n",
       "    </tr>\n",
       "    <tr>\n",
       "      <th>TCGA-3B-A9HP</th>\n",
       "      <td>NaN</td>\n",
       "      <td>21094.0</td>\n",
       "      <td>No</td>\n",
       "      <td>no</td>\n",
       "      <td>No</td>\n",
       "      <td>NaN</td>\n",
       "      <td>female</td>\n",
       "      <td>white</td>\n",
       "      <td>Dead</td>\n",
       "      <td>1627.0</td>\n",
       "      <td>yes</td>\n",
       "      <td>yes</td>\n",
       "      <td>SARC</td>\n",
       "      <td>1627</td>\n",
       "      <td>1</td>\n",
       "      <td>val</td>\n",
       "    </tr>\n",
       "  </tbody>\n",
       "</table>\n",
       "</div>"
      ],
      "text/plain": [
       "             tumor_stage  age_at_diagnosis prior_treatment prior_malignancy  \\\n",
       "submitter_id                                                                  \n",
       "TCGA-3B-A9HI         NaN           24984.0              No               no   \n",
       "TCGA-3B-A9HJ         NaN           24962.0              No              yes   \n",
       "TCGA-3B-A9HL         NaN           24628.0              No               no   \n",
       "TCGA-3B-A9HO         NaN           27664.0             Yes              yes   \n",
       "TCGA-3B-A9HP         NaN           21094.0              No               no   \n",
       "\n",
       "             synchronous_malignancy  days_to_last_follow_up  gender   race  \\\n",
       "submitter_id                                                                 \n",
       "TCGA-3B-A9HI                     No                  1521.0    male  white   \n",
       "TCGA-3B-A9HJ                    NaN                  1104.0    male  white   \n",
       "TCGA-3B-A9HL                     No                     NaN    male  white   \n",
       "TCGA-3B-A9HO                    NaN                   959.0    male  white   \n",
       "TCGA-3B-A9HP                     No                     NaN  female  white   \n",
       "\n",
       "             vital_status  days_to_death  \\\n",
       "submitter_id                               \n",
       "TCGA-3B-A9HI        Alive            NaN   \n",
       "TCGA-3B-A9HJ        Alive            NaN   \n",
       "TCGA-3B-A9HL         Dead          599.0   \n",
       "TCGA-3B-A9HO        Alive            NaN   \n",
       "TCGA-3B-A9HP         Dead         1627.0   \n",
       "\n",
       "             treatments_pharmaceutical_treatment_or_therapy  \\\n",
       "submitter_id                                                  \n",
       "TCGA-3B-A9HI                                            yes   \n",
       "TCGA-3B-A9HJ                                             no   \n",
       "TCGA-3B-A9HL                                            yes   \n",
       "TCGA-3B-A9HO                                             no   \n",
       "TCGA-3B-A9HP                                            yes   \n",
       "\n",
       "             treatments_radiation_treatment_or_therapy project_id  time  \\\n",
       "submitter_id                                                              \n",
       "TCGA-3B-A9HI                                       yes       SARC  1521   \n",
       "TCGA-3B-A9HJ                                       yes       SARC  1104   \n",
       "TCGA-3B-A9HL                                        no       SARC   599   \n",
       "TCGA-3B-A9HO                                        no       SARC   959   \n",
       "TCGA-3B-A9HP                                       yes       SARC  1627   \n",
       "\n",
       "              event  group  \n",
       "submitter_id                \n",
       "TCGA-3B-A9HI      0    val  \n",
       "TCGA-3B-A9HJ      0  train  \n",
       "TCGA-3B-A9HL      1  train  \n",
       "TCGA-3B-A9HO      0  train  \n",
       "TCGA-3B-A9HP      1    val  "
      ]
     },
     "execution_count": 57,
     "metadata": {},
     "output_type": "execute_result"
    }
   ],
   "source": [
    "clinical.head()"
   ]
  },
  {
   "cell_type": "code",
   "execution_count": 58,
   "metadata": {},
   "outputs": [
    {
     "data": {
      "text/html": [
       "<div>\n",
       "<style scoped>\n",
       "    .dataframe tbody tr th:only-of-type {\n",
       "        vertical-align: middle;\n",
       "    }\n",
       "\n",
       "    .dataframe tbody tr th {\n",
       "        vertical-align: top;\n",
       "    }\n",
       "\n",
       "    .dataframe thead th {\n",
       "        text-align: right;\n",
       "    }\n",
       "</style>\n",
       "<table border=\"1\" class=\"dataframe\">\n",
       "  <thead>\n",
       "    <tr style=\"text-align: right;\">\n",
       "      <th></th>\n",
       "      <th>tumor_stage</th>\n",
       "      <th>age_at_diagnosis</th>\n",
       "      <th>prior_treatment</th>\n",
       "      <th>prior_malignancy</th>\n",
       "      <th>synchronous_malignancy</th>\n",
       "      <th>days_to_last_follow_up</th>\n",
       "      <th>gender</th>\n",
       "      <th>race</th>\n",
       "      <th>vital_status</th>\n",
       "      <th>days_to_death</th>\n",
       "      <th>treatments_pharmaceutical_treatment_or_therapy</th>\n",
       "      <th>treatments_radiation_treatment_or_therapy</th>\n",
       "      <th>project_id</th>\n",
       "      <th>time</th>\n",
       "      <th>event</th>\n",
       "      <th>group</th>\n",
       "    </tr>\n",
       "    <tr>\n",
       "      <th>submitter_id</th>\n",
       "      <th></th>\n",
       "      <th></th>\n",
       "      <th></th>\n",
       "      <th></th>\n",
       "      <th></th>\n",
       "      <th></th>\n",
       "      <th></th>\n",
       "      <th></th>\n",
       "      <th></th>\n",
       "      <th></th>\n",
       "      <th></th>\n",
       "      <th></th>\n",
       "      <th></th>\n",
       "      <th></th>\n",
       "      <th></th>\n",
       "      <th></th>\n",
       "    </tr>\n",
       "  </thead>\n",
       "  <tbody>\n",
       "    <tr>\n",
       "      <th>TCGA-3B-A9HI</th>\n",
       "      <td>NaN</td>\n",
       "      <td>24984.0</td>\n",
       "      <td>No</td>\n",
       "      <td>no</td>\n",
       "      <td>No</td>\n",
       "      <td>1521.0</td>\n",
       "      <td>male</td>\n",
       "      <td>white</td>\n",
       "      <td>Alive</td>\n",
       "      <td>NaN</td>\n",
       "      <td>yes</td>\n",
       "      <td>yes</td>\n",
       "      <td>SARC</td>\n",
       "      <td>4.167123</td>\n",
       "      <td>0</td>\n",
       "      <td>val</td>\n",
       "    </tr>\n",
       "    <tr>\n",
       "      <th>TCGA-3B-A9HJ</th>\n",
       "      <td>NaN</td>\n",
       "      <td>24962.0</td>\n",
       "      <td>No</td>\n",
       "      <td>yes</td>\n",
       "      <td>NaN</td>\n",
       "      <td>1104.0</td>\n",
       "      <td>male</td>\n",
       "      <td>white</td>\n",
       "      <td>Alive</td>\n",
       "      <td>NaN</td>\n",
       "      <td>no</td>\n",
       "      <td>yes</td>\n",
       "      <td>SARC</td>\n",
       "      <td>3.024658</td>\n",
       "      <td>0</td>\n",
       "      <td>train</td>\n",
       "    </tr>\n",
       "    <tr>\n",
       "      <th>TCGA-3B-A9HL</th>\n",
       "      <td>NaN</td>\n",
       "      <td>24628.0</td>\n",
       "      <td>No</td>\n",
       "      <td>no</td>\n",
       "      <td>No</td>\n",
       "      <td>NaN</td>\n",
       "      <td>male</td>\n",
       "      <td>white</td>\n",
       "      <td>Dead</td>\n",
       "      <td>599.0</td>\n",
       "      <td>yes</td>\n",
       "      <td>no</td>\n",
       "      <td>SARC</td>\n",
       "      <td>1.641096</td>\n",
       "      <td>1</td>\n",
       "      <td>train</td>\n",
       "    </tr>\n",
       "    <tr>\n",
       "      <th>TCGA-3B-A9HO</th>\n",
       "      <td>NaN</td>\n",
       "      <td>27664.0</td>\n",
       "      <td>Yes</td>\n",
       "      <td>yes</td>\n",
       "      <td>NaN</td>\n",
       "      <td>959.0</td>\n",
       "      <td>male</td>\n",
       "      <td>white</td>\n",
       "      <td>Alive</td>\n",
       "      <td>NaN</td>\n",
       "      <td>no</td>\n",
       "      <td>no</td>\n",
       "      <td>SARC</td>\n",
       "      <td>2.627397</td>\n",
       "      <td>0</td>\n",
       "      <td>train</td>\n",
       "    </tr>\n",
       "    <tr>\n",
       "      <th>TCGA-3B-A9HP</th>\n",
       "      <td>NaN</td>\n",
       "      <td>21094.0</td>\n",
       "      <td>No</td>\n",
       "      <td>no</td>\n",
       "      <td>No</td>\n",
       "      <td>NaN</td>\n",
       "      <td>female</td>\n",
       "      <td>white</td>\n",
       "      <td>Dead</td>\n",
       "      <td>1627.0</td>\n",
       "      <td>yes</td>\n",
       "      <td>yes</td>\n",
       "      <td>SARC</td>\n",
       "      <td>4.457534</td>\n",
       "      <td>1</td>\n",
       "      <td>val</td>\n",
       "    </tr>\n",
       "  </tbody>\n",
       "</table>\n",
       "</div>"
      ],
      "text/plain": [
       "             tumor_stage  age_at_diagnosis prior_treatment prior_malignancy  \\\n",
       "submitter_id                                                                  \n",
       "TCGA-3B-A9HI         NaN           24984.0              No               no   \n",
       "TCGA-3B-A9HJ         NaN           24962.0              No              yes   \n",
       "TCGA-3B-A9HL         NaN           24628.0              No               no   \n",
       "TCGA-3B-A9HO         NaN           27664.0             Yes              yes   \n",
       "TCGA-3B-A9HP         NaN           21094.0              No               no   \n",
       "\n",
       "             synchronous_malignancy  days_to_last_follow_up  gender   race  \\\n",
       "submitter_id                                                                 \n",
       "TCGA-3B-A9HI                     No                  1521.0    male  white   \n",
       "TCGA-3B-A9HJ                    NaN                  1104.0    male  white   \n",
       "TCGA-3B-A9HL                     No                     NaN    male  white   \n",
       "TCGA-3B-A9HO                    NaN                   959.0    male  white   \n",
       "TCGA-3B-A9HP                     No                     NaN  female  white   \n",
       "\n",
       "             vital_status  days_to_death  \\\n",
       "submitter_id                               \n",
       "TCGA-3B-A9HI        Alive            NaN   \n",
       "TCGA-3B-A9HJ        Alive            NaN   \n",
       "TCGA-3B-A9HL         Dead          599.0   \n",
       "TCGA-3B-A9HO        Alive            NaN   \n",
       "TCGA-3B-A9HP         Dead         1627.0   \n",
       "\n",
       "             treatments_pharmaceutical_treatment_or_therapy  \\\n",
       "submitter_id                                                  \n",
       "TCGA-3B-A9HI                                            yes   \n",
       "TCGA-3B-A9HJ                                             no   \n",
       "TCGA-3B-A9HL                                            yes   \n",
       "TCGA-3B-A9HO                                             no   \n",
       "TCGA-3B-A9HP                                            yes   \n",
       "\n",
       "             treatments_radiation_treatment_or_therapy project_id      time  \\\n",
       "submitter_id                                                                  \n",
       "TCGA-3B-A9HI                                       yes       SARC  4.167123   \n",
       "TCGA-3B-A9HJ                                       yes       SARC  3.024658   \n",
       "TCGA-3B-A9HL                                        no       SARC  1.641096   \n",
       "TCGA-3B-A9HO                                        no       SARC  2.627397   \n",
       "TCGA-3B-A9HP                                       yes       SARC  4.457534   \n",
       "\n",
       "              event  group  \n",
       "submitter_id                \n",
       "TCGA-3B-A9HI      0    val  \n",
       "TCGA-3B-A9HJ      0  train  \n",
       "TCGA-3B-A9HL      1  train  \n",
       "TCGA-3B-A9HO      0  train  \n",
       "TCGA-3B-A9HP      1    val  "
      ]
     },
     "execution_count": 58,
     "metadata": {},
     "output_type": "execute_result"
    }
   ],
   "source": [
    "# Convert duration to years\n",
    "clinical['time'] = clinical['time'] / 365\n",
    "clinical.head()"
   ]
  },
  {
   "cell_type": "code",
   "execution_count": 59,
   "metadata": {},
   "outputs": [],
   "source": [
    "def get_data_group(df, value='train'):\n",
    "    group = df.loc[df['group'] == value]\n",
    "    return group.drop(columns='group')\n",
    "\n",
    "train = get_data_group(clinical, 'train')\n",
    "val = get_data_group(clinical, 'val')\n",
    "test = get_data_group(clinical, 'test')"
   ]
  },
  {
   "cell_type": "code",
   "execution_count": 60,
   "metadata": {},
   "outputs": [
    {
     "name": "stdout",
     "output_type": "stream",
     "text": [
      "# patients in split groups:\n",
      "     train:      8880\n",
      "     validation: 1109\n",
      "     test:       1092\n"
     ]
    }
   ],
   "source": [
    "print('# patients in split groups:')\n",
    "print('     train:     ', len(train))\n",
    "print('     validation:', len(val))\n",
    "print('     test:      ', len(test))"
   ]
  },
  {
   "cell_type": "markdown",
   "metadata": {},
   "source": [
    "## Survival curves\n",
    "\n",
    "Plot Kaplan-Meier survival function."
   ]
  },
  {
   "cell_type": "code",
   "execution_count": 61,
   "metadata": {},
   "outputs": [
    {
     "data": {
      "text/plain": [
       "<matplotlib.axes._subplots.AxesSubplot at 0x7fd427a0ff60>"
      ]
     },
     "execution_count": 61,
     "metadata": {},
     "output_type": "execute_result"
    },
    {
     "data": {
      "image/png": "[encoded data removed]",
      "text/plain": [
       "<Figure size 432x288 with 1 Axes>"
      ]
     },
     "metadata": {
      "needs_background": "light"
     },
     "output_type": "display_data"
    }
   ],
   "source": [
    "kmf = KaplanMeierFitter()\n",
    "kmf.fit(train['time'], event_observed=train['event'])\n",
    "ax = kmf.plot(title='Training data')\n",
    "ax.set_xlabel('Time (years)')\n",
    "ax"
   ]
  },
  {
   "cell_type": "code",
   "execution_count": 62,
   "metadata": {},
   "outputs": [
    {
     "data": {
      "text/plain": [
       "<matplotlib.axes._subplots.AxesSubplot at 0x7fd42a3a5d68>"
      ]
     },
     "execution_count": 62,
     "metadata": {},
     "output_type": "execute_result"
    },
    {
     "data": {
      "image/png": "[encoded data removed]",
      "text/plain": [
       "<Figure size 432x288 with 1 Axes>"
      ]
     },
     "metadata": {
      "needs_background": "light"
     },
     "output_type": "display_data"
    }
   ],
   "source": [
    "kmf = KaplanMeierFitter()\n",
    "kmf.fit(val['time'], event_observed=val['event'])\n",
    "ax = kmf.plot(title='Validation data')\n",
    "ax.set_xlabel('Time (years)')\n",
    "ax"
   ]
  },
  {
   "cell_type": "code",
   "execution_count": 63,
   "metadata": {},
   "outputs": [
    {
     "data": {
      "text/plain": [
       "<matplotlib.axes._subplots.AxesSubplot at 0x7fd4279c9128>"
      ]
     },
     "execution_count": 63,
     "metadata": {},
     "output_type": "execute_result"
    },
    {
     "data": {
      "image/png": "[encoded data removed]",
      "text/plain": [
       "<Figure size 432x288 with 1 Axes>"
      ]
     },
     "metadata": {
      "needs_background": "light"
     },
     "output_type": "display_data"
    }
   ],
   "source": [
    "kmf = KaplanMeierFitter()\n",
    "kmf.fit(test['time'], event_observed=test['event'])\n",
    "ax = kmf.plot(title='Test data')\n",
    "ax.set_xlabel('Time (years)')\n",
    "ax"
   ]
  },
  {
   "cell_type": "markdown",
   "metadata": {},
   "source": [
    "# Save clinical data to file\n",
    "\n",
    "To use in the visualization of the features learned by the model."
   ]
  },
  {
   "cell_type": "code",
   "execution_count": 64,
   "metadata": {},
   "outputs": [
    {
     "data": {
      "text/html": [
       "<div>\n",
       "<style scoped>\n",
       "    .dataframe tbody tr th:only-of-type {\n",
       "        vertical-align: middle;\n",
       "    }\n",
       "\n",
       "    .dataframe tbody tr th {\n",
       "        vertical-align: top;\n",
       "    }\n",
       "\n",
       "    .dataframe thead th {\n",
       "        text-align: right;\n",
       "    }\n",
       "</style>\n",
       "<table border=\"1\" class=\"dataframe\">\n",
       "  <thead>\n",
       "    <tr style=\"text-align: right;\">\n",
       "      <th></th>\n",
       "      <th>tumor_stage</th>\n",
       "      <th>age_at_diagnosis</th>\n",
       "      <th>prior_treatment</th>\n",
       "      <th>prior_malignancy</th>\n",
       "      <th>synchronous_malignancy</th>\n",
       "      <th>days_to_last_follow_up</th>\n",
       "      <th>gender</th>\n",
       "      <th>race</th>\n",
       "      <th>vital_status</th>\n",
       "      <th>days_to_death</th>\n",
       "      <th>treatments_pharmaceutical_treatment_or_therapy</th>\n",
       "      <th>treatments_radiation_treatment_or_therapy</th>\n",
       "      <th>project_id</th>\n",
       "      <th>time</th>\n",
       "      <th>event</th>\n",
       "      <th>group</th>\n",
       "    </tr>\n",
       "    <tr>\n",
       "      <th>submitter_id</th>\n",
       "      <th></th>\n",
       "      <th></th>\n",
       "      <th></th>\n",
       "      <th></th>\n",
       "      <th></th>\n",
       "      <th></th>\n",
       "      <th></th>\n",
       "      <th></th>\n",
       "      <th></th>\n",
       "      <th></th>\n",
       "      <th></th>\n",
       "      <th></th>\n",
       "      <th></th>\n",
       "      <th></th>\n",
       "      <th></th>\n",
       "      <th></th>\n",
       "    </tr>\n",
       "  </thead>\n",
       "  <tbody>\n",
       "    <tr>\n",
       "      <th>TCGA-3B-A9HI</th>\n",
       "      <td>NaN</td>\n",
       "      <td>24984.0</td>\n",
       "      <td>No</td>\n",
       "      <td>no</td>\n",
       "      <td>No</td>\n",
       "      <td>1521.0</td>\n",
       "      <td>male</td>\n",
       "      <td>white</td>\n",
       "      <td>Alive</td>\n",
       "      <td>NaN</td>\n",
       "      <td>yes</td>\n",
       "      <td>yes</td>\n",
       "      <td>SARC</td>\n",
       "      <td>4.167123</td>\n",
       "      <td>0</td>\n",
       "      <td>val</td>\n",
       "    </tr>\n",
       "    <tr>\n",
       "      <th>TCGA-3B-A9HJ</th>\n",
       "      <td>NaN</td>\n",
       "      <td>24962.0</td>\n",
       "      <td>No</td>\n",
       "      <td>yes</td>\n",
       "      <td>NaN</td>\n",
       "      <td>1104.0</td>\n",
       "      <td>male</td>\n",
       "      <td>white</td>\n",
       "      <td>Alive</td>\n",
       "      <td>NaN</td>\n",
       "      <td>no</td>\n",
       "      <td>yes</td>\n",
       "      <td>SARC</td>\n",
       "      <td>3.024658</td>\n",
       "      <td>0</td>\n",
       "      <td>train</td>\n",
       "    </tr>\n",
       "    <tr>\n",
       "      <th>TCGA-3B-A9HL</th>\n",
       "      <td>NaN</td>\n",
       "      <td>24628.0</td>\n",
       "      <td>No</td>\n",
       "      <td>no</td>\n",
       "      <td>No</td>\n",
       "      <td>NaN</td>\n",
       "      <td>male</td>\n",
       "      <td>white</td>\n",
       "      <td>Dead</td>\n",
       "      <td>599.0</td>\n",
       "      <td>yes</td>\n",
       "      <td>no</td>\n",
       "      <td>SARC</td>\n",
       "      <td>1.641096</td>\n",
       "      <td>1</td>\n",
       "      <td>train</td>\n",
       "    </tr>\n",
       "    <tr>\n",
       "      <th>TCGA-3B-A9HO</th>\n",
       "      <td>NaN</td>\n",
       "      <td>27664.0</td>\n",
       "      <td>Yes</td>\n",
       "      <td>yes</td>\n",
       "      <td>NaN</td>\n",
       "      <td>959.0</td>\n",
       "      <td>male</td>\n",
       "      <td>white</td>\n",
       "      <td>Alive</td>\n",
       "      <td>NaN</td>\n",
       "      <td>no</td>\n",
       "      <td>no</td>\n",
       "      <td>SARC</td>\n",
       "      <td>2.627397</td>\n",
       "      <td>0</td>\n",
       "      <td>train</td>\n",
       "    </tr>\n",
       "    <tr>\n",
       "      <th>TCGA-3B-A9HP</th>\n",
       "      <td>NaN</td>\n",
       "      <td>21094.0</td>\n",
       "      <td>No</td>\n",
       "      <td>no</td>\n",
       "      <td>No</td>\n",
       "      <td>NaN</td>\n",
       "      <td>female</td>\n",
       "      <td>white</td>\n",
       "      <td>Dead</td>\n",
       "      <td>1627.0</td>\n",
       "      <td>yes</td>\n",
       "      <td>yes</td>\n",
       "      <td>SARC</td>\n",
       "      <td>4.457534</td>\n",
       "      <td>1</td>\n",
       "      <td>val</td>\n",
       "    </tr>\n",
       "  </tbody>\n",
       "</table>\n",
       "</div>"
      ],
      "text/plain": [
       "             tumor_stage  age_at_diagnosis prior_treatment prior_malignancy  \\\n",
       "submitter_id                                                                  \n",
       "TCGA-3B-A9HI         NaN           24984.0              No               no   \n",
       "TCGA-3B-A9HJ         NaN           24962.0              No              yes   \n",
       "TCGA-3B-A9HL         NaN           24628.0              No               no   \n",
       "TCGA-3B-A9HO         NaN           27664.0             Yes              yes   \n",
       "TCGA-3B-A9HP         NaN           21094.0              No               no   \n",
       "\n",
       "             synchronous_malignancy  days_to_last_follow_up  gender   race  \\\n",
       "submitter_id                                                                 \n",
       "TCGA-3B-A9HI                     No                  1521.0    male  white   \n",
       "TCGA-3B-A9HJ                    NaN                  1104.0    male  white   \n",
       "TCGA-3B-A9HL                     No                     NaN    male  white   \n",
       "TCGA-3B-A9HO                    NaN                   959.0    male  white   \n",
       "TCGA-3B-A9HP                     No                     NaN  female  white   \n",
       "\n",
       "             vital_status  days_to_death  \\\n",
       "submitter_id                               \n",
       "TCGA-3B-A9HI        Alive            NaN   \n",
       "TCGA-3B-A9HJ        Alive            NaN   \n",
       "TCGA-3B-A9HL         Dead          599.0   \n",
       "TCGA-3B-A9HO        Alive            NaN   \n",
       "TCGA-3B-A9HP         Dead         1627.0   \n",
       "\n",
       "             treatments_pharmaceutical_treatment_or_therapy  \\\n",
       "submitter_id                                                  \n",
       "TCGA-3B-A9HI                                            yes   \n",
       "TCGA-3B-A9HJ                                             no   \n",
       "TCGA-3B-A9HL                                            yes   \n",
       "TCGA-3B-A9HO                                             no   \n",
       "TCGA-3B-A9HP                                            yes   \n",
       "\n",
       "             treatments_radiation_treatment_or_therapy project_id      time  \\\n",
       "submitter_id                                                                  \n",
       "TCGA-3B-A9HI                                       yes       SARC  4.167123   \n",
       "TCGA-3B-A9HJ                                       yes       SARC  3.024658   \n",
       "TCGA-3B-A9HL                                        no       SARC  1.641096   \n",
       "TCGA-3B-A9HO                                        no       SARC  2.627397   \n",
       "TCGA-3B-A9HP                                       yes       SARC  4.457534   \n",
       "\n",
       "              event  group  \n",
       "submitter_id                \n",
       "TCGA-3B-A9HI      0    val  \n",
       "TCGA-3B-A9HJ      0  train  \n",
       "TCGA-3B-A9HL      1  train  \n",
       "TCGA-3B-A9HO      0  train  \n",
       "TCGA-3B-A9HP      1    val  "
      ]
     },
     "execution_count": 64,
     "metadata": {},
     "output_type": "execute_result"
    }
   ],
   "source": [
    "clinical.head()"
   ]
  },
  {
   "cell_type": "raw",
   "metadata": {},
   "source": [
    "clinical.to_csv('clinical_data.tsv', sep='\\t')"
   ]
  },
  {
   "cell_type": "markdown",
   "metadata": {},
   "source": [
    "# Load file with clinical data"
   ]
  },
  {
   "cell_type": "code",
   "execution_count": 25,
   "metadata": {},
   "outputs": [
    {
     "data": {
      "text/html": [
       "<div>\n",
       "<style scoped>\n",
       "    .dataframe tbody tr th:only-of-type {\n",
       "        vertical-align: middle;\n",
       "    }\n",
       "\n",
       "    .dataframe tbody tr th {\n",
       "        vertical-align: top;\n",
       "    }\n",
       "\n",
       "    .dataframe thead th {\n",
       "        text-align: right;\n",
       "    }\n",
       "</style>\n",
       "<table border=\"1\" class=\"dataframe\">\n",
       "  <thead>\n",
       "    <tr style=\"text-align: right;\">\n",
       "      <th></th>\n",
       "      <th>tumor_stage</th>\n",
       "      <th>age_at_diagnosis</th>\n",
       "      <th>prior_treatment</th>\n",
       "      <th>prior_malignancy</th>\n",
       "      <th>synchronous_malignancy</th>\n",
       "      <th>days_to_last_follow_up</th>\n",
       "      <th>gender</th>\n",
       "      <th>race</th>\n",
       "      <th>vital_status</th>\n",
       "      <th>days_to_death</th>\n",
       "      <th>treatments_pharmaceutical_treatment_or_therapy</th>\n",
       "      <th>treatments_radiation_treatment_or_therapy</th>\n",
       "      <th>project_id</th>\n",
       "      <th>time</th>\n",
       "      <th>event</th>\n",
       "      <th>group</th>\n",
       "    </tr>\n",
       "    <tr>\n",
       "      <th>submitter_id</th>\n",
       "      <th></th>\n",
       "      <th></th>\n",
       "      <th></th>\n",
       "      <th></th>\n",
       "      <th></th>\n",
       "      <th></th>\n",
       "      <th></th>\n",
       "      <th></th>\n",
       "      <th></th>\n",
       "      <th></th>\n",
       "      <th></th>\n",
       "      <th></th>\n",
       "      <th></th>\n",
       "      <th></th>\n",
       "      <th></th>\n",
       "      <th></th>\n",
       "    </tr>\n",
       "  </thead>\n",
       "  <tbody>\n",
       "    <tr>\n",
       "      <th>TCGA-3B-A9HI</th>\n",
       "      <td>NaN</td>\n",
       "      <td>24984.0</td>\n",
       "      <td>No</td>\n",
       "      <td>no</td>\n",
       "      <td>No</td>\n",
       "      <td>1521.0</td>\n",
       "      <td>male</td>\n",
       "      <td>white</td>\n",
       "      <td>Alive</td>\n",
       "      <td>NaN</td>\n",
       "      <td>yes</td>\n",
       "      <td>yes</td>\n",
       "      <td>SARC</td>\n",
       "      <td>4.167123</td>\n",
       "      <td>0</td>\n",
       "      <td>val</td>\n",
       "    </tr>\n",
       "    <tr>\n",
       "      <th>TCGA-3B-A9HJ</th>\n",
       "      <td>NaN</td>\n",
       "      <td>24962.0</td>\n",
       "      <td>No</td>\n",
       "      <td>yes</td>\n",
       "      <td>NaN</td>\n",
       "      <td>1104.0</td>\n",
       "      <td>male</td>\n",
       "      <td>white</td>\n",
       "      <td>Alive</td>\n",
       "      <td>NaN</td>\n",
       "      <td>no</td>\n",
       "      <td>yes</td>\n",
       "      <td>SARC</td>\n",
       "      <td>3.024658</td>\n",
       "      <td>0</td>\n",
       "      <td>train</td>\n",
       "    </tr>\n",
       "    <tr>\n",
       "      <th>TCGA-3B-A9HL</th>\n",
       "      <td>NaN</td>\n",
       "      <td>24628.0</td>\n",
       "      <td>No</td>\n",
       "      <td>no</td>\n",
       "      <td>No</td>\n",
       "      <td>NaN</td>\n",
       "      <td>male</td>\n",
       "      <td>white</td>\n",
       "      <td>Dead</td>\n",
       "      <td>599.0</td>\n",
       "      <td>yes</td>\n",
       "      <td>no</td>\n",
       "      <td>SARC</td>\n",
       "      <td>1.641096</td>\n",
       "      <td>1</td>\n",
       "      <td>train</td>\n",
       "    </tr>\n",
       "    <tr>\n",
       "      <th>TCGA-3B-A9HO</th>\n",
       "      <td>NaN</td>\n",
       "      <td>27664.0</td>\n",
       "      <td>Yes</td>\n",
       "      <td>yes</td>\n",
       "      <td>NaN</td>\n",
       "      <td>959.0</td>\n",
       "      <td>male</td>\n",
       "      <td>white</td>\n",
       "      <td>Alive</td>\n",
       "      <td>NaN</td>\n",
       "      <td>no</td>\n",
       "      <td>no</td>\n",
       "      <td>SARC</td>\n",
       "      <td>2.627397</td>\n",
       "      <td>0</td>\n",
       "      <td>train</td>\n",
       "    </tr>\n",
       "    <tr>\n",
       "      <th>TCGA-3B-A9HP</th>\n",
       "      <td>NaN</td>\n",
       "      <td>21094.0</td>\n",
       "      <td>No</td>\n",
       "      <td>no</td>\n",
       "      <td>No</td>\n",
       "      <td>NaN</td>\n",
       "      <td>female</td>\n",
       "      <td>white</td>\n",
       "      <td>Dead</td>\n",
       "      <td>1627.0</td>\n",
       "      <td>yes</td>\n",
       "      <td>yes</td>\n",
       "      <td>SARC</td>\n",
       "      <td>4.457534</td>\n",
       "      <td>1</td>\n",
       "      <td>val</td>\n",
       "    </tr>\n",
       "  </tbody>\n",
       "</table>\n",
       "</div>"
      ],
      "text/plain": [
       "             tumor_stage  age_at_diagnosis prior_treatment prior_malignancy  \\\n",
       "submitter_id                                                                  \n",
       "TCGA-3B-A9HI         NaN           24984.0              No               no   \n",
       "TCGA-3B-A9HJ         NaN           24962.0              No              yes   \n",
       "TCGA-3B-A9HL         NaN           24628.0              No               no   \n",
       "TCGA-3B-A9HO         NaN           27664.0             Yes              yes   \n",
       "TCGA-3B-A9HP         NaN           21094.0              No               no   \n",
       "\n",
       "             synchronous_malignancy  days_to_last_follow_up  gender   race  \\\n",
       "submitter_id                                                                 \n",
       "TCGA-3B-A9HI                     No                  1521.0    male  white   \n",
       "TCGA-3B-A9HJ                    NaN                  1104.0    male  white   \n",
       "TCGA-3B-A9HL                     No                     NaN    male  white   \n",
       "TCGA-3B-A9HO                    NaN                   959.0    male  white   \n",
       "TCGA-3B-A9HP                     No                     NaN  female  white   \n",
       "\n",
       "             vital_status  days_to_death  \\\n",
       "submitter_id                               \n",
       "TCGA-3B-A9HI        Alive            NaN   \n",
       "TCGA-3B-A9HJ        Alive            NaN   \n",
       "TCGA-3B-A9HL         Dead          599.0   \n",
       "TCGA-3B-A9HO        Alive            NaN   \n",
       "TCGA-3B-A9HP         Dead         1627.0   \n",
       "\n",
       "             treatments_pharmaceutical_treatment_or_therapy  \\\n",
       "submitter_id                                                  \n",
       "TCGA-3B-A9HI                                            yes   \n",
       "TCGA-3B-A9HJ                                             no   \n",
       "TCGA-3B-A9HL                                            yes   \n",
       "TCGA-3B-A9HO                                             no   \n",
       "TCGA-3B-A9HP                                            yes   \n",
       "\n",
       "             treatments_radiation_treatment_or_therapy project_id      time  \\\n",
       "submitter_id                                                                  \n",
       "TCGA-3B-A9HI                                       yes       SARC  4.167123   \n",
       "TCGA-3B-A9HJ                                       yes       SARC  3.024658   \n",
       "TCGA-3B-A9HL                                        no       SARC  1.641096   \n",
       "TCGA-3B-A9HO                                        no       SARC  2.627397   \n",
       "TCGA-3B-A9HP                                       yes       SARC  4.457534   \n",
       "\n",
       "              event  group  \n",
       "submitter_id                \n",
       "TCGA-3B-A9HI      0    val  \n",
       "TCGA-3B-A9HJ      0  train  \n",
       "TCGA-3B-A9HL      1  train  \n",
       "TCGA-3B-A9HO      0  train  \n",
       "TCGA-3B-A9HP      1    val  "
      ]
     },
     "execution_count": 25,
     "metadata": {},
     "output_type": "execute_result"
    }
   ],
   "source": [
    "clinical = pd.read_csv('clinical_data.tsv', sep='\\t').set_index(\"submitter_id\", drop=True)\n",
    "clinical.head()"
   ]
  },
  {
   "cell_type": "markdown",
   "metadata": {},
   "source": [
    "# Input missing values\n",
    "\n",
    "* Input missing continuous data with median value.\n",
    "* Leave categorical features unchanged, to treat missing data as its own category."
   ]
  },
  {
   "cell_type": "code",
   "execution_count": 26,
   "metadata": {},
   "outputs": [
    {
     "name": "stdout",
     "output_type": "stream",
     "text": [
      "~~ MISSING DATA ~~\n",
      "\n",
      "tumor_stage: 4167 (37.6%)\n",
      "age_at_diagnosis: 92 (0.83%)\n",
      "prior_treatment: 4 (0.04%)\n",
      "prior_malignancy: 1133 (10.22%)\n",
      "synchronous_malignancy: 1907 (17.21%)\n",
      "race: 892 (8.05%)\n",
      "treatments_pharmaceutical_treatment_or_therapy: 1270 (11.46%)\n",
      "treatments_radiation_treatment_or_therapy: 1211 (10.93%)\n"
     ]
    }
   ],
   "source": [
    "print('~~ MISSING DATA ~~')\n",
    "print()\n",
    "skip = ['project_id', 'days_to_death', 'days_to_last_follow_up']\n",
    "\n",
    "n = clinical.shape[0]\n",
    "\n",
    "for v in clinical.columns:\n",
    "    if v not in skip:\n",
    "        n_missing = sum(clinical[v].isnull())\n",
    "        if n_missing > 0:\n",
    "            print(f'{v}: {n_missing} ({round(n_missing / n * 100, 2)}%)')"
   ]
  },
  {
   "cell_type": "code",
   "execution_count": 27,
   "metadata": {},
   "outputs": [],
   "source": [
    "def input_missing_values(feature, df):\n",
    "    train_subset = df.loc[df['group'] == 'train', feature]\n",
    "    try:\n",
    "        input_value = train_subset.median()\n",
    "        print(f'Median \"{feature}\": {input_value}')\n",
    "    except TypeError:\n",
    "        input_value = train_subset.mode().iloc[0]\n",
    "        print(f'Mode \"{feature}\": {input_value}')\n",
    "\n",
    "    df[feature].fillna(input_value, inplace=True)\n",
    "    \n",
    "    return df"
   ]
  },
  {
   "cell_type": "code",
   "execution_count": 28,
   "metadata": {},
   "outputs": [
    {
     "name": "stdout",
     "output_type": "stream",
     "text": [
      "Median \"age_at_diagnosis\": 22252.0\n"
     ]
    }
   ],
   "source": [
    "clinical = input_missing_values(feature='age_at_diagnosis', df=clinical)"
   ]
  },
  {
   "cell_type": "code",
   "execution_count": 29,
   "metadata": {},
   "outputs": [
    {
     "name": "stdout",
     "output_type": "stream",
     "text": [
      "~~ MISSING DATA ~~\n",
      "\n",
      "tumor_stage: 4167 (37.6%)\n",
      "prior_treatment: 4 (0.04%)\n",
      "prior_malignancy: 1133 (10.22%)\n",
      "synchronous_malignancy: 1907 (17.21%)\n",
      "days_to_last_follow_up: 3602 (32.51%)\n",
      "race: 892 (8.05%)\n",
      "days_to_death: 7479 (67.49%)\n",
      "treatments_pharmaceutical_treatment_or_therapy: 1270 (11.46%)\n",
      "treatments_radiation_treatment_or_therapy: 1211 (10.93%)\n"
     ]
    }
   ],
   "source": [
    "print('~~ MISSING DATA ~~')\n",
    "print()\n",
    "n = clinical.shape[0]\n",
    "\n",
    "for v in clinical.columns:\n",
    "    n_missing = sum(clinical[v].isnull())\n",
    "    if n_missing > 0:\n",
    "        print(f'{v}: {n_missing} ({round(n_missing / n * 100, 2)}%)')"
   ]
  },
  {
   "cell_type": "markdown",
   "metadata": {},
   "source": [
    "# Scale continuous variables"
   ]
  },
  {
   "cell_type": "code",
   "execution_count": 30,
   "metadata": {},
   "outputs": [],
   "source": [
    "id_groups = {\n",
    "    'train': list(clinical.loc[clinical['group'] == 'train', ].index),\n",
    "    'val': list(clinical.loc[clinical['group'] == 'val', ].index),\n",
    "    'test': list(clinical.loc[clinical['group'] == 'test', ].index)}"
   ]
  },
  {
   "cell_type": "code",
   "execution_count": 31,
   "metadata": {},
   "outputs": [
    {
     "data": {
      "text/plain": [
       "Index(['tumor_stage', 'age_at_diagnosis', 'prior_treatment',\n",
       "       'prior_malignancy', 'synchronous_malignancy', 'days_to_last_follow_up',\n",
       "       'gender', 'race', 'vital_status', 'days_to_death',\n",
       "       'treatments_pharmaceutical_treatment_or_therapy',\n",
       "       'treatments_radiation_treatment_or_therapy', 'project_id', 'time',\n",
       "       'event', 'group'],\n",
       "      dtype='object')"
      ]
     },
     "execution_count": 31,
     "metadata": {},
     "output_type": "execute_result"
    }
   ],
   "source": [
    "clinical.columns"
   ]
  },
  {
   "cell_type": "code",
   "execution_count": 32,
   "metadata": {},
   "outputs": [
    {
     "data": {
      "text/plain": [
       "['project_id', 'days_to_death', 'days_to_last_follow_up']"
      ]
     },
     "execution_count": 32,
     "metadata": {},
     "output_type": "execute_result"
    }
   ],
   "source": [
    "skip"
   ]
  },
  {
   "cell_type": "code",
   "execution_count": 33,
   "metadata": {},
   "outputs": [],
   "source": [
    "continuous = ['age_at_diagnosis']"
   ]
  },
  {
   "cell_type": "code",
   "execution_count": 34,
   "metadata": {},
   "outputs": [],
   "source": [
    "def min_max_scale(data, features, groups):\n",
    "    train = data.loc[data.index.isin(groups['train']), features]\n",
    "\n",
    "    scaler = MinMaxScaler()\n",
    "    columns = train.columns\n",
    "    scaler = scaler.fit(train[columns])\n",
    "    \n",
    "    data.loc[data.index.isin(groups['train']), features] = scaler.transform(\n",
    "        train)\n",
    "    data.loc[data.index.isin(groups['val']), features] = scaler.transform(\n",
    "        data.loc[data.index.isin(groups['val']), features])\n",
    "    data.loc[data.index.isin(groups['test']), features] = scaler.transform(\n",
    "        data.loc[data.index.isin(groups['test']), features])\n",
    "    \n",
    "    return data"
   ]
  },
  {
   "cell_type": "code",
   "execution_count": 35,
   "metadata": {},
   "outputs": [],
   "source": [
    "clinical = min_max_scale(data=clinical, features=continuous, groups=id_groups)"
   ]
  },
  {
   "cell_type": "code",
   "execution_count": 36,
   "metadata": {},
   "outputs": [
    {
     "data": {
      "text/plain": [
       "count    11081.000000\n",
       "mean         0.615566\n",
       "std          0.181355\n",
       "min          0.000000\n",
       "25%          0.504915\n",
       "50%          0.632399\n",
       "75%          0.747490\n",
       "max          1.000000\n",
       "Name: age_at_diagnosis, dtype: float64"
      ]
     },
     "execution_count": 36,
     "metadata": {},
     "output_type": "execute_result"
    }
   ],
   "source": [
    "clinical.age_at_diagnosis.describe()"
   ]
  },
  {
   "cell_type": "code",
   "execution_count": 37,
   "metadata": {},
   "outputs": [
    {
     "data": {
      "text/html": [
       "<div>\n",
       "<style scoped>\n",
       "    .dataframe tbody tr th:only-of-type {\n",
       "        vertical-align: middle;\n",
       "    }\n",
       "\n",
       "    .dataframe tbody tr th {\n",
       "        vertical-align: top;\n",
       "    }\n",
       "\n",
       "    .dataframe thead th {\n",
       "        text-align: right;\n",
       "    }\n",
       "</style>\n",
       "<table border=\"1\" class=\"dataframe\">\n",
       "  <thead>\n",
       "    <tr style=\"text-align: right;\">\n",
       "      <th></th>\n",
       "      <th>tumor_stage</th>\n",
       "      <th>age_at_diagnosis</th>\n",
       "      <th>prior_treatment</th>\n",
       "      <th>prior_malignancy</th>\n",
       "      <th>synchronous_malignancy</th>\n",
       "      <th>days_to_last_follow_up</th>\n",
       "      <th>gender</th>\n",
       "      <th>race</th>\n",
       "      <th>vital_status</th>\n",
       "      <th>days_to_death</th>\n",
       "      <th>treatments_pharmaceutical_treatment_or_therapy</th>\n",
       "      <th>treatments_radiation_treatment_or_therapy</th>\n",
       "      <th>project_id</th>\n",
       "      <th>time</th>\n",
       "      <th>event</th>\n",
       "      <th>group</th>\n",
       "    </tr>\n",
       "    <tr>\n",
       "      <th>submitter_id</th>\n",
       "      <th></th>\n",
       "      <th></th>\n",
       "      <th></th>\n",
       "      <th></th>\n",
       "      <th></th>\n",
       "      <th></th>\n",
       "      <th></th>\n",
       "      <th></th>\n",
       "      <th></th>\n",
       "      <th></th>\n",
       "      <th></th>\n",
       "      <th></th>\n",
       "      <th></th>\n",
       "      <th></th>\n",
       "      <th></th>\n",
       "      <th></th>\n",
       "    </tr>\n",
       "  </thead>\n",
       "  <tbody>\n",
       "    <tr>\n",
       "      <th>TCGA-3B-A9HI</th>\n",
       "      <td>NaN</td>\n",
       "      <td>0.726964</td>\n",
       "      <td>No</td>\n",
       "      <td>no</td>\n",
       "      <td>No</td>\n",
       "      <td>1521.0</td>\n",
       "      <td>male</td>\n",
       "      <td>white</td>\n",
       "      <td>Alive</td>\n",
       "      <td>NaN</td>\n",
       "      <td>yes</td>\n",
       "      <td>yes</td>\n",
       "      <td>SARC</td>\n",
       "      <td>4.167123</td>\n",
       "      <td>0</td>\n",
       "      <td>val</td>\n",
       "    </tr>\n",
       "    <tr>\n",
       "      <th>TCGA-3B-A9HJ</th>\n",
       "      <td>NaN</td>\n",
       "      <td>0.726203</td>\n",
       "      <td>No</td>\n",
       "      <td>yes</td>\n",
       "      <td>NaN</td>\n",
       "      <td>1104.0</td>\n",
       "      <td>male</td>\n",
       "      <td>white</td>\n",
       "      <td>Alive</td>\n",
       "      <td>NaN</td>\n",
       "      <td>no</td>\n",
       "      <td>yes</td>\n",
       "      <td>SARC</td>\n",
       "      <td>3.024658</td>\n",
       "      <td>0</td>\n",
       "      <td>train</td>\n",
       "    </tr>\n",
       "    <tr>\n",
       "      <th>TCGA-3B-A9HL</th>\n",
       "      <td>NaN</td>\n",
       "      <td>0.714642</td>\n",
       "      <td>No</td>\n",
       "      <td>no</td>\n",
       "      <td>No</td>\n",
       "      <td>NaN</td>\n",
       "      <td>male</td>\n",
       "      <td>white</td>\n",
       "      <td>Dead</td>\n",
       "      <td>599.0</td>\n",
       "      <td>yes</td>\n",
       "      <td>no</td>\n",
       "      <td>SARC</td>\n",
       "      <td>1.641096</td>\n",
       "      <td>1</td>\n",
       "      <td>train</td>\n",
       "    </tr>\n",
       "    <tr>\n",
       "      <th>TCGA-3B-A9HO</th>\n",
       "      <td>NaN</td>\n",
       "      <td>0.819730</td>\n",
       "      <td>Yes</td>\n",
       "      <td>yes</td>\n",
       "      <td>NaN</td>\n",
       "      <td>959.0</td>\n",
       "      <td>male</td>\n",
       "      <td>white</td>\n",
       "      <td>Alive</td>\n",
       "      <td>NaN</td>\n",
       "      <td>no</td>\n",
       "      <td>no</td>\n",
       "      <td>SARC</td>\n",
       "      <td>2.627397</td>\n",
       "      <td>0</td>\n",
       "      <td>train</td>\n",
       "    </tr>\n",
       "    <tr>\n",
       "      <th>TCGA-3B-A9HP</th>\n",
       "      <td>NaN</td>\n",
       "      <td>0.592316</td>\n",
       "      <td>No</td>\n",
       "      <td>no</td>\n",
       "      <td>No</td>\n",
       "      <td>NaN</td>\n",
       "      <td>female</td>\n",
       "      <td>white</td>\n",
       "      <td>Dead</td>\n",
       "      <td>1627.0</td>\n",
       "      <td>yes</td>\n",
       "      <td>yes</td>\n",
       "      <td>SARC</td>\n",
       "      <td>4.457534</td>\n",
       "      <td>1</td>\n",
       "      <td>val</td>\n",
       "    </tr>\n",
       "  </tbody>\n",
       "</table>\n",
       "</div>"
      ],
      "text/plain": [
       "             tumor_stage  age_at_diagnosis prior_treatment prior_malignancy  \\\n",
       "submitter_id                                                                  \n",
       "TCGA-3B-A9HI         NaN          0.726964              No               no   \n",
       "TCGA-3B-A9HJ         NaN          0.726203              No              yes   \n",
       "TCGA-3B-A9HL         NaN          0.714642              No               no   \n",
       "TCGA-3B-A9HO         NaN          0.819730             Yes              yes   \n",
       "TCGA-3B-A9HP         NaN          0.592316              No               no   \n",
       "\n",
       "             synchronous_malignancy  days_to_last_follow_up  gender   race  \\\n",
       "submitter_id                                                                 \n",
       "TCGA-3B-A9HI                     No                  1521.0    male  white   \n",
       "TCGA-3B-A9HJ                    NaN                  1104.0    male  white   \n",
       "TCGA-3B-A9HL                     No                     NaN    male  white   \n",
       "TCGA-3B-A9HO                    NaN                   959.0    male  white   \n",
       "TCGA-3B-A9HP                     No                     NaN  female  white   \n",
       "\n",
       "             vital_status  days_to_death  \\\n",
       "submitter_id                               \n",
       "TCGA-3B-A9HI        Alive            NaN   \n",
       "TCGA-3B-A9HJ        Alive            NaN   \n",
       "TCGA-3B-A9HL         Dead          599.0   \n",
       "TCGA-3B-A9HO        Alive            NaN   \n",
       "TCGA-3B-A9HP         Dead         1627.0   \n",
       "\n",
       "             treatments_pharmaceutical_treatment_or_therapy  \\\n",
       "submitter_id                                                  \n",
       "TCGA-3B-A9HI                                            yes   \n",
       "TCGA-3B-A9HJ                                             no   \n",
       "TCGA-3B-A9HL                                            yes   \n",
       "TCGA-3B-A9HO                                             no   \n",
       "TCGA-3B-A9HP                                            yes   \n",
       "\n",
       "             treatments_radiation_treatment_or_therapy project_id      time  \\\n",
       "submitter_id                                                                  \n",
       "TCGA-3B-A9HI                                       yes       SARC  4.167123   \n",
       "TCGA-3B-A9HJ                                       yes       SARC  3.024658   \n",
       "TCGA-3B-A9HL                                        no       SARC  1.641096   \n",
       "TCGA-3B-A9HO                                        no       SARC  2.627397   \n",
       "TCGA-3B-A9HP                                       yes       SARC  4.457534   \n",
       "\n",
       "              event  group  \n",
       "submitter_id                \n",
       "TCGA-3B-A9HI      0    val  \n",
       "TCGA-3B-A9HJ      0  train  \n",
       "TCGA-3B-A9HL      1  train  \n",
       "TCGA-3B-A9HO      0  train  \n",
       "TCGA-3B-A9HP      1    val  "
      ]
     },
     "execution_count": 37,
     "metadata": {},
     "output_type": "execute_result"
    }
   ],
   "source": [
    "clinical.head()"
   ]
  },
  {
   "cell_type": "markdown",
   "metadata": {},
   "source": [
    "# Encode categorical variables\n",
    "\n",
    "Encode labels (with a value between 0 and n_classes-1) to use with categorical embeddings."
   ]
  },
  {
   "cell_type": "code",
   "execution_count": 38,
   "metadata": {},
   "outputs": [],
   "source": [
    "# Drop unnecessary columns\n",
    "clinical = clinical.drop(columns=['days_to_death', 'days_to_last_follow_up', 'vital_status'])"
   ]
  },
  {
   "cell_type": "code",
   "execution_count": 39,
   "metadata": {},
   "outputs": [
    {
     "data": {
      "text/plain": [
       "Index(['tumor_stage', 'age_at_diagnosis', 'prior_treatment',\n",
       "       'prior_malignancy', 'synchronous_malignancy', 'gender', 'race',\n",
       "       'treatments_pharmaceutical_treatment_or_therapy',\n",
       "       'treatments_radiation_treatment_or_therapy', 'project_id', 'time',\n",
       "       'event', 'group'],\n",
       "      dtype='object')"
      ]
     },
     "execution_count": 39,
     "metadata": {},
     "output_type": "execute_result"
    }
   ],
   "source": [
    "clinical.columns"
   ]
  },
  {
   "cell_type": "code",
   "execution_count": 40,
   "metadata": {},
   "outputs": [
    {
     "data": {
      "text/plain": [
       "['time', 'event', 'group']"
      ]
     },
     "execution_count": 40,
     "metadata": {},
     "output_type": "execute_result"
    }
   ],
   "source": [
    "skip = ['time', 'event', 'group']\n",
    "skip"
   ]
  },
  {
   "cell_type": "code",
   "execution_count": 41,
   "metadata": {},
   "outputs": [
    {
     "data": {
      "text/plain": [
       "['age_at_diagnosis']"
      ]
     },
     "execution_count": 41,
     "metadata": {},
     "output_type": "execute_result"
    }
   ],
   "source": [
    "continuous"
   ]
  },
  {
   "cell_type": "code",
   "execution_count": 42,
   "metadata": {},
   "outputs": [
    {
     "data": {
      "text/plain": [
       "13"
      ]
     },
     "execution_count": 42,
     "metadata": {},
     "output_type": "execute_result"
    }
   ],
   "source": [
    "len(clinical.columns)"
   ]
  },
  {
   "cell_type": "code",
   "execution_count": 43,
   "metadata": {},
   "outputs": [
    {
     "data": {
      "text/plain": [
       "13"
      ]
     },
     "execution_count": 43,
     "metadata": {},
     "output_type": "execute_result"
    }
   ],
   "source": [
    "categorical = [col for col in clinical.columns if col not in skip + continuous]\n",
    "\n",
    "len(skip) + len(continuous) + len(categorical)"
   ]
  },
  {
   "cell_type": "code",
   "execution_count": 44,
   "metadata": {},
   "outputs": [
    {
     "name": "stdout",
     "output_type": "stream",
     "text": [
      "tumor_stage: 20\n",
      "prior_treatment: 3\n",
      "prior_malignancy: 3\n",
      "synchronous_malignancy: 3\n",
      "gender: 2\n",
      "race: 8\n",
      "treatments_pharmaceutical_treatment_or_therapy: 3\n",
      "treatments_radiation_treatment_or_therapy: 3\n",
      "project_id: 33\n"
     ]
    }
   ],
   "source": [
    "for feat in categorical:\n",
    "    print(f'{feat}: {len(clinical[feat].unique())}')"
   ]
  },
  {
   "cell_type": "code",
   "execution_count": 45,
   "metadata": {},
   "outputs": [
    {
     "data": {
      "text/plain": [
       "13"
      ]
     },
     "execution_count": 45,
     "metadata": {},
     "output_type": "execute_result"
    }
   ],
   "source": [
    "len(clinical.columns)"
   ]
  },
  {
   "cell_type": "code",
   "execution_count": 46,
   "metadata": {},
   "outputs": [],
   "source": [
    "# Reorder columns\n",
    "categorical = ['project_id',  'gender', 'race', 'prior_treatment', 'prior_malignancy', 'synchronous_malignancy',\n",
    "               'treatments_pharmaceutical_treatment_or_therapy',\n",
    "               'treatments_radiation_treatment_or_therapy',\n",
    "               'tumor_stage']\n",
    "\n",
    "clinical = clinical[categorical + continuous + skip]"
   ]
  },
  {
   "cell_type": "code",
   "execution_count": 47,
   "metadata": {},
   "outputs": [
    {
     "data": {
      "text/plain": [
       "13"
      ]
     },
     "execution_count": 47,
     "metadata": {},
     "output_type": "execute_result"
    }
   ],
   "source": [
    "len(clinical.columns)"
   ]
  },
  {
   "cell_type": "code",
   "execution_count": 48,
   "metadata": {},
   "outputs": [],
   "source": [
    "# Save a copy of the table to allow inclusion of unencoded \"project_id\" in the labels table\n",
    "survival = clinical.copy()"
   ]
  },
  {
   "cell_type": "code",
   "execution_count": 49,
   "metadata": {},
   "outputs": [],
   "source": [
    "split_groups = ['train', 'val', 'test']\n",
    "\n",
    "label_encoders = {}\n",
    "for feature in categorical:\n",
    "    clinical[feature] = clinical[feature].astype(str)\n",
    "    label_encoders[feature] = LabelEncoder()\n",
    "    label_encoders[feature].fit(\n",
    "        clinical.loc[clinical['group'] == 'train', feature])\n",
    "\n",
    "for group in split_groups:\n",
    "    for feature in categorical:\n",
    "        clinical.loc[\n",
    "            clinical['group'] == group, feature] = label_encoders[feature].transform(\n",
    "            clinical.loc[clinical['group'] == group, feature])"
   ]
  },
  {
   "cell_type": "markdown",
   "metadata": {},
   "source": [
    "The embedding dimensions (in a list of two-tuples) are calculated in the next cell: number of unique values paired with the embedding dimension for each categorical feature.\n",
    "\n",
    "The embedding size is determined according to the rule-of-thumb from the Fast.ai course."
   ]
  },
  {
   "cell_type": "code",
   "execution_count": 50,
   "metadata": {},
   "outputs": [
    {
     "name": "stdout",
     "output_type": "stream",
     "text": [
      "Feature                                            Levels   Embedding dims\n",
      "-------                                            ------   --------------\n",
      "project_id                                          33       17\n",
      "gender                                              2        1\n",
      "race                                                8        4\n",
      "prior_treatment                                     3        2\n",
      "prior_malignancy                                    3        2\n",
      "synchronous_malignancy                              3        2\n",
      "treatments_pharmaceutical_treatment_or_therapy      3        2\n",
      "treatments_radiation_treatment_or_therapy           3        2\n",
      "tumor_stage                                         20       10\n"
     ]
    }
   ],
   "source": [
    "categorical_dims = [int(clinical[col].nunique()) for col in categorical]\n",
    "embedding_dims = [(x, min(50, (x + 1) // 2)) for x in categorical_dims]\n",
    "\n",
    "embedding_dims\n",
    "\n",
    "print('Feature                                            Levels   Embedding dims')\n",
    "print('-------                                            ------   --------------')\n",
    "for i, feat in enumerate(categorical):\n",
    "    print(feat, ' ' * (50 - len(feat)), embedding_dims[i][0],\n",
    "          ' ' * (7 - len(str(embedding_dims[i][0]))), embedding_dims[i][1])"
   ]
  },
  {
   "cell_type": "markdown",
   "metadata": {},
   "source": [
    "# Save patient data to files"
   ]
  },
  {
   "cell_type": "markdown",
   "metadata": {},
   "source": [
    "## Survival labels"
   ]
  },
  {
   "cell_type": "code",
   "execution_count": 51,
   "metadata": {},
   "outputs": [],
   "source": [
    "survival['submitter_id'] = survival.index\n",
    "survival = survival.reset_index(drop=True)\n",
    "\n",
    "label_columns = ['submitter_id', 'project_id', 'time', 'event', 'group']\n",
    "survival = survival.loc[:, label_columns]"
   ]
  },
  {
   "cell_type": "code",
   "execution_count": 52,
   "metadata": {},
   "outputs": [
    {
     "data": {
      "text/html": [
       "<div>\n",
       "<style scoped>\n",
       "    .dataframe tbody tr th:only-of-type {\n",
       "        vertical-align: middle;\n",
       "    }\n",
       "\n",
       "    .dataframe tbody tr th {\n",
       "        vertical-align: top;\n",
       "    }\n",
       "\n",
       "    .dataframe thead th {\n",
       "        text-align: right;\n",
       "    }\n",
       "</style>\n",
       "<table border=\"1\" class=\"dataframe\">\n",
       "  <thead>\n",
       "    <tr style=\"text-align: right;\">\n",
       "      <th></th>\n",
       "      <th>submitter_id</th>\n",
       "      <th>project_id</th>\n",
       "      <th>time</th>\n",
       "      <th>event</th>\n",
       "      <th>group</th>\n",
       "    </tr>\n",
       "  </thead>\n",
       "  <tbody>\n",
       "    <tr>\n",
       "      <th>0</th>\n",
       "      <td>TCGA-3B-A9HI</td>\n",
       "      <td>SARC</td>\n",
       "      <td>4.167123</td>\n",
       "      <td>0</td>\n",
       "      <td>val</td>\n",
       "    </tr>\n",
       "    <tr>\n",
       "      <th>1</th>\n",
       "      <td>TCGA-3B-A9HJ</td>\n",
       "      <td>SARC</td>\n",
       "      <td>3.024658</td>\n",
       "      <td>0</td>\n",
       "      <td>train</td>\n",
       "    </tr>\n",
       "    <tr>\n",
       "      <th>2</th>\n",
       "      <td>TCGA-3B-A9HL</td>\n",
       "      <td>SARC</td>\n",
       "      <td>1.641096</td>\n",
       "      <td>1</td>\n",
       "      <td>train</td>\n",
       "    </tr>\n",
       "    <tr>\n",
       "      <th>3</th>\n",
       "      <td>TCGA-3B-A9HO</td>\n",
       "      <td>SARC</td>\n",
       "      <td>2.627397</td>\n",
       "      <td>0</td>\n",
       "      <td>train</td>\n",
       "    </tr>\n",
       "    <tr>\n",
       "      <th>4</th>\n",
       "      <td>TCGA-3B-A9HP</td>\n",
       "      <td>SARC</td>\n",
       "      <td>4.457534</td>\n",
       "      <td>1</td>\n",
       "      <td>val</td>\n",
       "    </tr>\n",
       "  </tbody>\n",
       "</table>\n",
       "</div>"
      ],
      "text/plain": [
       "   submitter_id project_id      time  event  group\n",
       "0  TCGA-3B-A9HI       SARC  4.167123      0    val\n",
       "1  TCGA-3B-A9HJ       SARC  3.024658      0  train\n",
       "2  TCGA-3B-A9HL       SARC  1.641096      1  train\n",
       "3  TCGA-3B-A9HO       SARC  2.627397      0  train\n",
       "4  TCGA-3B-A9HP       SARC  4.457534      1    val"
      ]
     },
     "execution_count": 52,
     "metadata": {},
     "output_type": "execute_result"
    }
   ],
   "source": [
    "survival.head()"
   ]
  },
  {
   "cell_type": "raw",
   "metadata": {},
   "source": [
    "survival.to_csv('labels.tsv', sep='\\t', index=False)"
   ]
  },
  {
   "cell_type": "markdown",
   "metadata": {},
   "source": [
    "## Clinical data\n",
    "\n",
    "Save preprocessed clinical data as individual patient files (to use with PyTorch dataset)."
   ]
  },
  {
   "cell_type": "code",
   "execution_count": 53,
   "metadata": {},
   "outputs": [
    {
     "data": {
      "text/plain": [
       "['time', 'event', 'group']"
      ]
     },
     "execution_count": 53,
     "metadata": {},
     "output_type": "execute_result"
    }
   ],
   "source": [
    "skip"
   ]
  },
  {
   "cell_type": "code",
   "execution_count": 54,
   "metadata": {},
   "outputs": [],
   "source": [
    "clinical = clinical[categorical + continuous]"
   ]
  },
  {
   "cell_type": "code",
   "execution_count": 55,
   "metadata": {},
   "outputs": [
    {
     "data": {
      "text/html": [
       "<div>\n",
       "<style scoped>\n",
       "    .dataframe tbody tr th:only-of-type {\n",
       "        vertical-align: middle;\n",
       "    }\n",
       "\n",
       "    .dataframe tbody tr th {\n",
       "        vertical-align: top;\n",
       "    }\n",
       "\n",
       "    .dataframe thead th {\n",
       "        text-align: right;\n",
       "    }\n",
       "</style>\n",
       "<table border=\"1\" class=\"dataframe\">\n",
       "  <thead>\n",
       "    <tr style=\"text-align: right;\">\n",
       "      <th></th>\n",
       "      <th>project_id</th>\n",
       "      <th>gender</th>\n",
       "      <th>race</th>\n",
       "      <th>prior_treatment</th>\n",
       "      <th>prior_malignancy</th>\n",
       "      <th>synchronous_malignancy</th>\n",
       "      <th>treatments_pharmaceutical_treatment_or_therapy</th>\n",
       "      <th>treatments_radiation_treatment_or_therapy</th>\n",
       "      <th>tumor_stage</th>\n",
       "      <th>age_at_diagnosis</th>\n",
       "    </tr>\n",
       "    <tr>\n",
       "      <th>submitter_id</th>\n",
       "      <th></th>\n",
       "      <th></th>\n",
       "      <th></th>\n",
       "      <th></th>\n",
       "      <th></th>\n",
       "      <th></th>\n",
       "      <th></th>\n",
       "      <th></th>\n",
       "      <th></th>\n",
       "      <th></th>\n",
       "    </tr>\n",
       "  </thead>\n",
       "  <tbody>\n",
       "    <tr>\n",
       "      <th>TCGA-3B-A9HI</th>\n",
       "      <td>24</td>\n",
       "      <td>1</td>\n",
       "      <td>7</td>\n",
       "      <td>0</td>\n",
       "      <td>1</td>\n",
       "      <td>0</td>\n",
       "      <td>2</td>\n",
       "      <td>2</td>\n",
       "      <td>2</td>\n",
       "      <td>0.726964</td>\n",
       "    </tr>\n",
       "    <tr>\n",
       "      <th>TCGA-3B-A9HJ</th>\n",
       "      <td>24</td>\n",
       "      <td>1</td>\n",
       "      <td>7</td>\n",
       "      <td>0</td>\n",
       "      <td>2</td>\n",
       "      <td>2</td>\n",
       "      <td>1</td>\n",
       "      <td>2</td>\n",
       "      <td>2</td>\n",
       "      <td>0.726203</td>\n",
       "    </tr>\n",
       "    <tr>\n",
       "      <th>TCGA-3B-A9HL</th>\n",
       "      <td>24</td>\n",
       "      <td>1</td>\n",
       "      <td>7</td>\n",
       "      <td>0</td>\n",
       "      <td>1</td>\n",
       "      <td>0</td>\n",
       "      <td>2</td>\n",
       "      <td>1</td>\n",
       "      <td>2</td>\n",
       "      <td>0.714642</td>\n",
       "    </tr>\n",
       "    <tr>\n",
       "      <th>TCGA-3B-A9HO</th>\n",
       "      <td>24</td>\n",
       "      <td>1</td>\n",
       "      <td>7</td>\n",
       "      <td>1</td>\n",
       "      <td>2</td>\n",
       "      <td>2</td>\n",
       "      <td>1</td>\n",
       "      <td>1</td>\n",
       "      <td>2</td>\n",
       "      <td>0.819730</td>\n",
       "    </tr>\n",
       "    <tr>\n",
       "      <th>TCGA-3B-A9HP</th>\n",
       "      <td>24</td>\n",
       "      <td>0</td>\n",
       "      <td>7</td>\n",
       "      <td>0</td>\n",
       "      <td>1</td>\n",
       "      <td>0</td>\n",
       "      <td>2</td>\n",
       "      <td>2</td>\n",
       "      <td>2</td>\n",
       "      <td>0.592316</td>\n",
       "    </tr>\n",
       "  </tbody>\n",
       "</table>\n",
       "</div>"
      ],
      "text/plain": [
       "             project_id gender race prior_treatment prior_malignancy  \\\n",
       "submitter_id                                                           \n",
       "TCGA-3B-A9HI         24      1    7               0                1   \n",
       "TCGA-3B-A9HJ         24      1    7               0                2   \n",
       "TCGA-3B-A9HL         24      1    7               0                1   \n",
       "TCGA-3B-A9HO         24      1    7               1                2   \n",
       "TCGA-3B-A9HP         24      0    7               0                1   \n",
       "\n",
       "             synchronous_malignancy  \\\n",
       "submitter_id                          \n",
       "TCGA-3B-A9HI                      0   \n",
       "TCGA-3B-A9HJ                      2   \n",
       "TCGA-3B-A9HL                      0   \n",
       "TCGA-3B-A9HO                      2   \n",
       "TCGA-3B-A9HP                      0   \n",
       "\n",
       "             treatments_pharmaceutical_treatment_or_therapy  \\\n",
       "submitter_id                                                  \n",
       "TCGA-3B-A9HI                                              2   \n",
       "TCGA-3B-A9HJ                                              1   \n",
       "TCGA-3B-A9HL                                              2   \n",
       "TCGA-3B-A9HO                                              1   \n",
       "TCGA-3B-A9HP                                              2   \n",
       "\n",
       "             treatments_radiation_treatment_or_therapy tumor_stage  \\\n",
       "submitter_id                                                         \n",
       "TCGA-3B-A9HI                                         2           2   \n",
       "TCGA-3B-A9HJ                                         2           2   \n",
       "TCGA-3B-A9HL                                         1           2   \n",
       "TCGA-3B-A9HO                                         1           2   \n",
       "TCGA-3B-A9HP                                         2           2   \n",
       "\n",
       "              age_at_diagnosis  \n",
       "submitter_id                    \n",
       "TCGA-3B-A9HI          0.726964  \n",
       "TCGA-3B-A9HJ          0.726203  \n",
       "TCGA-3B-A9HL          0.714642  \n",
       "TCGA-3B-A9HO          0.819730  \n",
       "TCGA-3B-A9HP          0.592316  "
      ]
     },
     "execution_count": 55,
     "metadata": {},
     "output_type": "execute_result"
    }
   ],
   "source": [
    "clinical.head()"
   ]
  },
  {
   "cell_type": "code",
   "execution_count": 56,
   "metadata": {},
   "outputs": [],
   "source": [
    "def table_to_patient_files(table, dir_path, round_digits=4):\n",
    "    n = len(table)\n",
    "    \n",
    "    i = 0\n",
    "\n",
    "    for index, row in table.iterrows():\n",
    "        print('\\r' + f'Save data to files: {str(i + 1)}/{n}', end='')\n",
    "        i+= 1\n",
    "\n",
    "        target_file = os.path.join(dir_path, str(index) + '.tsv')\n",
    "        \n",
    "        with open(target_file, 'w') as f:\n",
    "            if round_digits is not None:\n",
    "                f.write('\\n'.join(str(round(value, round_digits)) for value in row.values))\n",
    "            else:\n",
    "                f.write('\\n'.join(str(value) for value in row.values))\n",
    "\n",
    "    print()\n",
    "    print()"
   ]
  },
  {
   "cell_type": "code",
   "execution_count": 57,
   "metadata": {},
   "outputs": [
    {
     "name": "stdout",
     "output_type": "stream",
     "text": [
      "Save data to files: 11081/11081\n",
      "\n",
      "CPU times: user 2.54 s, sys: 596 ms, total: 3.14 s\n",
      "Wall time: 2.9 s\n"
     ]
    }
   ],
   "source": [
    "%%time\n",
    "\n",
    "table_to_patient_files(clinical, dir_path=DATA_LOCATION, round_digits=None)"
   ]
  },
  {
   "cell_type": "markdown",
   "metadata": {},
   "source": [
    "# Watermark <a class='tocSkip'></a>"
   ]
  },
  {
   "cell_type": "code",
   "execution_count": 58,
   "metadata": {},
   "outputs": [
    {
     "name": "stdout",
     "output_type": "stream",
     "text": [
      "pandas 1.0.1\n",
      "\n",
      "CPython 3.6.7\n",
      "IPython 7.11.1\n",
      "\n",
      "last updated: Thu Feb 06 2025\n"
     ]
    }
   ],
   "source": [
    "%watermark --iversions\n",
    "%watermark -v\n",
    "print()\n",
    "%watermark -u -n"
   ]
  },
  {
   "cell_type": "markdown",
   "metadata": {},
   "source": [
    "[Top of the page](#Top)"
   ]
  }
 ],
 "metadata": {
  "kernelspec": {
   "display_name": "multisurv",
   "language": "python",
   "name": "python3"
  },
  "language_info": {
   "codemirror_mode": {
    "name": "ipython",
    "version": 3
   },
   "file_extension": ".py",
   "mimetype": "text/x-python",
   "name": "python",
   "nbconvert_exporter": "python",
   "pygments_lexer": "ipython3",
   "version": "3.6.7"
  },
  "toc": {
   "base_numbering": 1,
   "nav_menu": {
    "height": "197px",
    "width": "372px"
   },
   "number_sections": true,
   "sideBar": true,
   "skip_h1_title": false,
   "title_cell": "Table of Contents",
   "title_sidebar": "Contents",
   "toc_cell": true,
   "toc_position": {
    "height": "calc(100% - 180px)",
    "left": "10px",
    "top": "150px",
    "width": "298px"
   },
   "toc_section_display": true,
   "toc_window_display": false
  }
 },
 "nbformat": 4,
 "nbformat_minor": 2
}

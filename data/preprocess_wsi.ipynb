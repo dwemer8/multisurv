{
 "cells": [
  {
   "cell_type": "markdown",
   "metadata": {},
   "source": [
    "<a id='Top'></a>\n",
    "\n",
    "# Prepare imaging data <a class='tocSkip'></a>\n",
    "\n",
    "Use an offline patching scheme to sample patches from whole-slide images (WSIs) ahead of model training/testing. Generate a file per patient (as for other data modalities), but containing the file names of image patches sampled from that patient's WSI `.svs` files, rather than the data. These are used by the PyTorch dataset to load patient image patches."
   ]
  },
  {
   "cell_type": "code",
   "execution_count": 1,
   "metadata": {
    "code_folding": []
   },
   "outputs": [],
   "source": [
    "%load_ext autoreload\n",
    "%autoreload 2\n",
    "\n",
    "%load_ext watermark\n",
    "\n",
    "import os\n",
    "from io import StringIO\n",
    "import json\n",
    "from collections import Counter\n",
    "\n",
    "import numpy as np\n",
    "import pandas as pd\n",
    "import matplotlib.pyplot as plt\n",
    "import matplotlib.image as mpimg\n",
    "import requests"
   ]
  },
  {
   "cell_type": "code",
   "execution_count": 2,
   "metadata": {},
   "outputs": [],
   "source": [
    "DATA_LOCATION = '/mnt/dataA/TCGA/processed/WSI/'"
   ]
  },
  {
   "cell_type": "markdown",
   "metadata": {
    "toc": true
   },
   "source": [
    "<h1>Table of Contents<span class=\"tocSkip\"></span></h1>\n",
    "<div class=\"toc\"><ul class=\"toc-item\"><li><span><a href=\"#Subset-manifest-file\" data-toc-modified-id=\"Subset-manifest-file-1\"><span class=\"toc-item-num\">1&nbsp;&nbsp;</span>Subset manifest file</a></span></li><li><span><a href=\"#Map-files-to-patients\" data-toc-modified-id=\"Map-files-to-patients-2\"><span class=\"toc-item-num\">2&nbsp;&nbsp;</span>Map files to patients</a></span><ul class=\"toc-item\"><li><span><a href=\"#Drop-unused-patients\" data-toc-modified-id=\"Drop-unused-patients-2.1\"><span class=\"toc-item-num\">2.1&nbsp;&nbsp;</span>Drop unused patients</a></span></li></ul></li><li><span><a href=\"#Slides-with-max-20x-magnification\" data-toc-modified-id=\"Slides-with-max-20x-magnification-3\"><span class=\"toc-item-num\">3&nbsp;&nbsp;</span>Slides with max 20x magnification</a></span><ul class=\"toc-item\"><li><span><a href=\"#Collect-slide-magnifications\" data-toc-modified-id=\"Collect-slide-magnifications-3.1\"><span class=\"toc-item-num\">3.1&nbsp;&nbsp;</span>Collect slide magnifications</a></span></li><li><span><a href=\"#Save-slide-magnifications-to-file\" data-toc-modified-id=\"Save-slide-magnifications-to-file-3.2\"><span class=\"toc-item-num\">3.2&nbsp;&nbsp;</span>Save slide magnifications to file</a></span></li><li><span><a href=\"#Check-unread-slides\" data-toc-modified-id=\"Check-unread-slides-3.3\"><span class=\"toc-item-num\">3.3&nbsp;&nbsp;</span>Check unread slides</a></span></li><li><span><a href=\"#Drop-unusable-slides\" data-toc-modified-id=\"Drop-unusable-slides-3.4\"><span class=\"toc-item-num\">3.4&nbsp;&nbsp;</span>Drop unusable slides</a></span><ul class=\"toc-item\"><li><span><a href=\"#Drop-slides-slides-missing-magnification-or-with-20x-magnification\" data-toc-modified-id=\"Drop-slides-slides-missing-magnification-or-with-20x-magnification-3.4.1\"><span class=\"toc-item-num\">3.4.1&nbsp;&nbsp;</span>Drop slides slides missing magnification or with 20x magnification</a></span></li><li><span><a href=\"#Drop-patients-with-no-remaining-slides\" data-toc-modified-id=\"Drop-patients-with-no-remaining-slides-3.4.2\"><span class=\"toc-item-num\">3.4.2&nbsp;&nbsp;</span>Drop patients with no remaining slides</a></span></li></ul></li></ul></li><li><span><a href=\"#Generate-patient-files\" data-toc-modified-id=\"Generate-patient-files-4\"><span class=\"toc-item-num\">4&nbsp;&nbsp;</span>Generate patient files</a></span></li><li><span><a href=\"#Offline-patching\" data-toc-modified-id=\"Offline-patching-5\"><span class=\"toc-item-num\">5&nbsp;&nbsp;</span>Offline patching</a></span><ul class=\"toc-item\"><li><span><a href=\"#Count-generated-patches-per-slide\" data-toc-modified-id=\"Count-generated-patches-per-slide-5.1\"><span class=\"toc-item-num\">5.1&nbsp;&nbsp;</span>Count generated patches per slide</a></span></li><li><span><a href=\"#Generate-patient-files\" data-toc-modified-id=\"Generate-patient-files-5.2\"><span class=\"toc-item-num\">5.2&nbsp;&nbsp;</span>Generate patient files</a></span></li><li><span><a href=\"#Reorganize-directory\" data-toc-modified-id=\"Reorganize-directory-5.3\"><span class=\"toc-item-num\">5.3&nbsp;&nbsp;</span>Reorganize directory</a></span></li><li><span><a href=\"#Delete-bad-patches\" data-toc-modified-id=\"Delete-bad-patches-5.4\"><span class=\"toc-item-num\">5.4&nbsp;&nbsp;</span>Delete bad patches</a></span><ul class=\"toc-item\"><li><span><a href=\"#Find-outliers\" data-toc-modified-id=\"Find-outliers-5.4.1\"><span class=\"toc-item-num\">5.4.1&nbsp;&nbsp;</span>Find outliers</a></span></li><li><span><a href=\"#Visualize-outlier-examples\" data-toc-modified-id=\"Visualize-outlier-examples-5.4.2\"><span class=\"toc-item-num\">5.4.2&nbsp;&nbsp;</span>Visualize outlier examples</a></span></li><li><span><a href=\"#Delete-outlier-patch-files\" data-toc-modified-id=\"Delete-outlier-patch-files-5.4.3\"><span class=\"toc-item-num\">5.4.3&nbsp;&nbsp;</span>Delete outlier patch files</a></span></li><li><span><a href=\"#Generate-patient-files\" data-toc-modified-id=\"Generate-patient-files-5.4.4\"><span class=\"toc-item-num\">5.4.4&nbsp;&nbsp;</span>Generate patient files</a></span></li></ul></li></ul></li><li><span><a href=\"#Compute-patch-mean-and-std\" data-toc-modified-id=\"Compute-patch-mean-and-std-6\"><span class=\"toc-item-num\">6&nbsp;&nbsp;</span>Compute patch mean and std</a></span></li></ul></div>"
   ]
  },
  {
   "cell_type": "markdown",
   "metadata": {},
   "source": [
    "# Subset manifest file\n",
    "\n",
    "Used only to resume an interrupted download:\n",
    "\n",
    "> Create a new manifest file with the subset of the original rows containing all non-downloaded files. Then repeat `gdc-client download` command."
   ]
  },
  {
   "cell_type": "raw",
   "metadata": {},
   "source": [
    "downloaded_samples = os.listdir('/home/luis/net/Isilon/data.isilon/ag-rohr/bq_lsilva/WSI/')"
   ]
  },
  {
   "cell_type": "raw",
   "metadata": {},
   "source": [
    "len(downloaded_samples)"
   ]
  },
  {
   "cell_type": "raw",
   "metadata": {},
   "source": [
    "# Any \"partial\" file?\n",
    "print([sample for sample in downloaded_samples if 'partial' in sample])"
   ]
  },
  {
   "cell_type": "raw",
   "metadata": {},
   "source": [
    "manifest_file = os.path.join('/home/luis/net/Isilon/data.isilon/ag-rohr/bq_lsilva/',\n",
    "                             'gdc_manifest.2019-09-03_all_but_BRCA.txt')\n",
    "manifest = pd.read_csv(manifest_file, sep='\\t', index_col='id')"
   ]
  },
  {
   "cell_type": "raw",
   "metadata": {},
   "source": [
    "downloaded_samples[:5]"
   ]
  },
  {
   "cell_type": "raw",
   "metadata": {},
   "source": [
    "manifest.shape"
   ]
  },
  {
   "cell_type": "raw",
   "metadata": {},
   "source": [
    "manifest[~manifest.index.isin(downloaded_samples)].shape"
   ]
  },
  {
   "cell_type": "raw",
   "metadata": {},
   "source": [
    "sub_manifest = manifest[~manifest.index.isin(downloaded_samples)]\n",
    "sub_manifest.shape"
   ]
  },
  {
   "cell_type": "raw",
   "metadata": {},
   "source": [
    "sub_manifest.reset_index(level=0, inplace=True)"
   ]
  },
  {
   "cell_type": "raw",
   "metadata": {},
   "source": [
    "sub_manifest.head(3)"
   ]
  },
  {
   "cell_type": "raw",
   "metadata": {},
   "source": [
    "sub_manifest_file = os.path.join('/home/luis/net/Isilon/data.isilon/ag-rohr/bq_lsilva/',\n",
    "                                 'gdc_manifest.2019-09-03_all_but_BRCA_subset.txt')\n",
    "sub_manifest.to_csv(sub_manifest_file, sep='\\t', index=False)"
   ]
  },
  {
   "cell_type": "markdown",
   "metadata": {},
   "source": [
    "# Map files to patients\n",
    "\n",
    "Use the [GDC API](https://docs.gdc.cancer.gov/API/Users_Guide/Python_Examples/#using-python-to-query-the-gdc-api) to retrieve mapping between file names and patient IDs. Collect results as Pandas `DataFrame`."
   ]
  },
  {
   "cell_type": "code",
   "execution_count": 3,
   "metadata": {},
   "outputs": [],
   "source": [
    "def request_file_info(data_type):\n",
    "    fields = [\n",
    "        \"file_name\",\n",
    "        \"cases.submitter_id\",\n",
    "        \"cases.samples.sample_type\",\n",
    "        \"cases.project.project_id\",\n",
    "        \"cases.project.primary_site\",\n",
    "        ]\n",
    "\n",
    "    fields = \",\".join(fields)\n",
    "\n",
    "    files_endpt = \"https://api.gdc.cancer.gov/files\"\n",
    "\n",
    "    filters = {\n",
    "        \"op\": \"and\",\n",
    "        \"content\":[\n",
    "            {\n",
    "            \"op\": \"in\",\n",
    "            \"content\":{\n",
    "                \"field\": \"files.experimental_strategy\",\n",
    "                \"value\": [data_type]\n",
    "                }\n",
    "            }\n",
    "        ]\n",
    "    }\n",
    "\n",
    "    params = {\n",
    "        \"filters\": filters,\n",
    "        \"fields\": fields,\n",
    "        \"format\": \"TSV\",\n",
    "        \"size\": \"200000\"\n",
    "        }\n",
    "\n",
    "    response = requests.post(files_endpt, headers = {\"Content-Type\": \"application/json\"}, json = params)\n",
    "\n",
    "    return pd.read_csv(StringIO(response.content.decode(\"utf-8\")), sep=\"\\t\")"
   ]
  },
  {
   "cell_type": "code",
   "execution_count": 4,
   "metadata": {},
   "outputs": [
    {
     "data": {
      "text/plain": [
       "(11766, 7)"
      ]
     },
     "execution_count": 4,
     "metadata": {},
     "output_type": "execute_result"
    }
   ],
   "source": [
    "wsi_files = request_file_info(data_type='Diagnostic Slide')\n",
    "wsi_files.shape"
   ]
  },
  {
   "cell_type": "code",
   "execution_count": 5,
   "metadata": {},
   "outputs": [
    {
     "data": {
      "text/html": [
       "<div>\n",
       "<style scoped>\n",
       "    .dataframe tbody tr th:only-of-type {\n",
       "        vertical-align: middle;\n",
       "    }\n",
       "\n",
       "    .dataframe tbody tr th {\n",
       "        vertical-align: top;\n",
       "    }\n",
       "\n",
       "    .dataframe thead th {\n",
       "        text-align: right;\n",
       "    }\n",
       "</style>\n",
       "<table border=\"1\" class=\"dataframe\">\n",
       "  <thead>\n",
       "    <tr style=\"text-align: right;\">\n",
       "      <th></th>\n",
       "      <th>cases.0.project.primary_site</th>\n",
       "      <th>cases.0.project.project_id</th>\n",
       "      <th>cases.0.samples.0.sample_type</th>\n",
       "      <th>cases.0.samples.1.sample_type</th>\n",
       "      <th>cases.0.submitter_id</th>\n",
       "      <th>file_name</th>\n",
       "      <th>id</th>\n",
       "    </tr>\n",
       "  </thead>\n",
       "  <tbody>\n",
       "    <tr>\n",
       "      <th>0</th>\n",
       "      <td>Kidney</td>\n",
       "      <td>TCGA-KIRC</td>\n",
       "      <td>Primary Tumor</td>\n",
       "      <td>NaN</td>\n",
       "      <td>TCGA-CZ-5457</td>\n",
       "      <td>TCGA-CZ-5457-01Z-00-DX1.87f21980-bf6b-4da6-ae8...</td>\n",
       "      <td>0fbff110-413c-443d-aa0a-ee40f2cf2aab</td>\n",
       "    </tr>\n",
       "    <tr>\n",
       "      <th>1</th>\n",
       "      <td>Head and Neck</td>\n",
       "      <td>TCGA-HNSC</td>\n",
       "      <td>Primary Tumor</td>\n",
       "      <td>NaN</td>\n",
       "      <td>TCGA-BB-7866</td>\n",
       "      <td>TCGA-BB-7866-01Z-00-DX1.144872E0-8C08-42CC-ACD...</td>\n",
       "      <td>1d5ad259-f5b4-4905-a68e-2c770a19287e</td>\n",
       "    </tr>\n",
       "    <tr>\n",
       "      <th>2</th>\n",
       "      <td>Kidney</td>\n",
       "      <td>TCGA-KIRC</td>\n",
       "      <td>Primary Tumor</td>\n",
       "      <td>NaN</td>\n",
       "      <td>TCGA-BP-4346</td>\n",
       "      <td>TCGA-BP-4346-01Z-00-DX1.e2f7b4ce-fbe8-482e-822...</td>\n",
       "      <td>1f96abc7-4dd7-4672-ba37-463c2d0b6eac</td>\n",
       "    </tr>\n",
       "    <tr>\n",
       "      <th>3</th>\n",
       "      <td>Colorectal</td>\n",
       "      <td>TCGA-COAD</td>\n",
       "      <td>Primary Tumor</td>\n",
       "      <td>NaN</td>\n",
       "      <td>TCGA-AA-A00R</td>\n",
       "      <td>TCGA-AA-A00R-01Z-00-DX1.7520405C-E7DD-46A4-BB6...</td>\n",
       "      <td>397337b9-9f03-4edc-935d-a0d4e15bf006</td>\n",
       "    </tr>\n",
       "    <tr>\n",
       "      <th>4</th>\n",
       "      <td>Colorectal</td>\n",
       "      <td>TCGA-COAD</td>\n",
       "      <td>Primary Tumor</td>\n",
       "      <td>NaN</td>\n",
       "      <td>TCGA-CM-5861</td>\n",
       "      <td>TCGA-CM-5861-01Z-00-DX1.b900abc0-ecca-48e1-98b...</td>\n",
       "      <td>c27f930d-beaf-45f2-9804-89a94f0372b1</td>\n",
       "    </tr>\n",
       "  </tbody>\n",
       "</table>\n",
       "</div>"
      ],
      "text/plain": [
       "  cases.0.project.primary_site cases.0.project.project_id  \\\n",
       "0                       Kidney                  TCGA-KIRC   \n",
       "1                Head and Neck                  TCGA-HNSC   \n",
       "2                       Kidney                  TCGA-KIRC   \n",
       "3                   Colorectal                  TCGA-COAD   \n",
       "4                   Colorectal                  TCGA-COAD   \n",
       "\n",
       "  cases.0.samples.0.sample_type cases.0.samples.1.sample_type  \\\n",
       "0                 Primary Tumor                           NaN   \n",
       "1                 Primary Tumor                           NaN   \n",
       "2                 Primary Tumor                           NaN   \n",
       "3                 Primary Tumor                           NaN   \n",
       "4                 Primary Tumor                           NaN   \n",
       "\n",
       "  cases.0.submitter_id                                          file_name  \\\n",
       "0         TCGA-CZ-5457  TCGA-CZ-5457-01Z-00-DX1.87f21980-bf6b-4da6-ae8...   \n",
       "1         TCGA-BB-7866  TCGA-BB-7866-01Z-00-DX1.144872E0-8C08-42CC-ACD...   \n",
       "2         TCGA-BP-4346  TCGA-BP-4346-01Z-00-DX1.e2f7b4ce-fbe8-482e-822...   \n",
       "3         TCGA-AA-A00R  TCGA-AA-A00R-01Z-00-DX1.7520405C-E7DD-46A4-BB6...   \n",
       "4         TCGA-CM-5861  TCGA-CM-5861-01Z-00-DX1.b900abc0-ecca-48e1-98b...   \n",
       "\n",
       "                                     id  \n",
       "0  0fbff110-413c-443d-aa0a-ee40f2cf2aab  \n",
       "1  1d5ad259-f5b4-4905-a68e-2c770a19287e  \n",
       "2  1f96abc7-4dd7-4672-ba37-463c2d0b6eac  \n",
       "3  397337b9-9f03-4edc-935d-a0d4e15bf006  \n",
       "4  c27f930d-beaf-45f2-9804-89a94f0372b1  "
      ]
     },
     "execution_count": 5,
     "metadata": {},
     "output_type": "execute_result"
    }
   ],
   "source": [
    "wsi_files.head()"
   ]
  },
  {
   "cell_type": "code",
   "execution_count": 6,
   "metadata": {},
   "outputs": [
    {
     "data": {
      "text/plain": [
       "(11551, 7)"
      ]
     },
     "execution_count": 6,
     "metadata": {},
     "output_type": "execute_result"
    }
   ],
   "source": [
    "wsi_files = wsi_files[wsi_files['cases.0.project.project_id'].str.startswith('TCGA')]\n",
    "wsi_files = wsi_files[wsi_files['file_name'].str.endswith('.svs')]\n",
    "wsi_files = wsi_files[wsi_files['cases.0.samples.0.sample_type'] == 'Primary Tumor']\n",
    "wsi_files.shape"
   ]
  },
  {
   "cell_type": "code",
   "execution_count": 7,
   "metadata": {},
   "outputs": [
    {
     "name": "stdout",
     "output_type": "stream",
     "text": [
      "All rows:        11551\n",
      "Unique patients: 9498\n"
     ]
    }
   ],
   "source": [
    "print('All rows:       ', wsi_files.shape[0])\n",
    "print('Unique patients:', wsi_files['cases.0.submitter_id'].unique().shape[0])"
   ]
  },
  {
   "cell_type": "code",
   "execution_count": 8,
   "metadata": {},
   "outputs": [],
   "source": [
    "def make_patient_file_map(df, base_dir):\n",
    "    d = {}\n",
    "    \n",
    "    for _, row in df.iterrows():\n",
    "        patient = row['cases.0.submitter_id']\n",
    "        if patient in d:\n",
    "            if not isinstance(d[patient], tuple):\n",
    "                d[patient] = (\n",
    "                    d[patient],\n",
    "                    os.path.join(base_dir, row.id, row.file_name))\n",
    "            else:\n",
    "                d[patient] += os.path.join(base_dir, row.id, row.file_name),\n",
    "        else:\n",
    "            d[patient] = os.path.join(base_dir, row.id, row.file_name)\n",
    "\n",
    "    return d"
   ]
  },
  {
   "cell_type": "code",
   "execution_count": 9,
   "metadata": {},
   "outputs": [
    {
     "data": {
      "text/plain": [
       "9498"
      ]
     },
     "execution_count": 9,
     "metadata": {},
     "output_type": "execute_result"
    }
   ],
   "source": [
    "file_map = make_patient_file_map(wsi_files, base_dir='')\n",
    "len(file_map)"
   ]
  },
  {
   "cell_type": "code",
   "execution_count": 10,
   "metadata": {},
   "outputs": [
    {
     "data": {
      "text/plain": [
       "'0fbff110-413c-443d-aa0a-ee40f2cf2aab/TCGA-CZ-5457-01Z-00-DX1.87f21980-bf6b-4da6-ae8e-f7fef7396d52.svs'"
      ]
     },
     "execution_count": 10,
     "metadata": {},
     "output_type": "execute_result"
    }
   ],
   "source": [
    "file_map[list(file_map.keys())[0]]"
   ]
  },
  {
   "cell_type": "markdown",
   "metadata": {},
   "source": [
    "## Drop unused patients\n",
    "\n",
    "Keep only patients present in label data."
   ]
  },
  {
   "cell_type": "code",
   "execution_count": 11,
   "metadata": {},
   "outputs": [
    {
     "data": {
      "text/plain": [
       "11081"
      ]
     },
     "execution_count": 11,
     "metadata": {},
     "output_type": "execute_result"
    }
   ],
   "source": [
    "labels = pd.read_csv('labels.tsv', sep='\\t')\n",
    "len(labels['submitter_id'])"
   ]
  },
  {
   "cell_type": "code",
   "execution_count": 12,
   "metadata": {},
   "outputs": [
    {
     "data": {
      "text/html": [
       "<div>\n",
       "<style scoped>\n",
       "    .dataframe tbody tr th:only-of-type {\n",
       "        vertical-align: middle;\n",
       "    }\n",
       "\n",
       "    .dataframe tbody tr th {\n",
       "        vertical-align: top;\n",
       "    }\n",
       "\n",
       "    .dataframe thead th {\n",
       "        text-align: right;\n",
       "    }\n",
       "</style>\n",
       "<table border=\"1\" class=\"dataframe\">\n",
       "  <thead>\n",
       "    <tr style=\"text-align: right;\">\n",
       "      <th></th>\n",
       "      <th>submitter_id</th>\n",
       "      <th>project_id</th>\n",
       "      <th>time</th>\n",
       "      <th>event</th>\n",
       "      <th>group</th>\n",
       "    </tr>\n",
       "  </thead>\n",
       "  <tbody>\n",
       "    <tr>\n",
       "      <th>0</th>\n",
       "      <td>TCGA-3B-A9HI</td>\n",
       "      <td>SARC</td>\n",
       "      <td>4.167123</td>\n",
       "      <td>0</td>\n",
       "      <td>val</td>\n",
       "    </tr>\n",
       "    <tr>\n",
       "      <th>1</th>\n",
       "      <td>TCGA-3B-A9HJ</td>\n",
       "      <td>SARC</td>\n",
       "      <td>3.024658</td>\n",
       "      <td>0</td>\n",
       "      <td>train</td>\n",
       "    </tr>\n",
       "    <tr>\n",
       "      <th>2</th>\n",
       "      <td>TCGA-3B-A9HL</td>\n",
       "      <td>SARC</td>\n",
       "      <td>1.641096</td>\n",
       "      <td>1</td>\n",
       "      <td>train</td>\n",
       "    </tr>\n",
       "    <tr>\n",
       "      <th>3</th>\n",
       "      <td>TCGA-3B-A9HO</td>\n",
       "      <td>SARC</td>\n",
       "      <td>2.627397</td>\n",
       "      <td>0</td>\n",
       "      <td>train</td>\n",
       "    </tr>\n",
       "    <tr>\n",
       "      <th>4</th>\n",
       "      <td>TCGA-3B-A9HP</td>\n",
       "      <td>SARC</td>\n",
       "      <td>4.457534</td>\n",
       "      <td>1</td>\n",
       "      <td>val</td>\n",
       "    </tr>\n",
       "  </tbody>\n",
       "</table>\n",
       "</div>"
      ],
      "text/plain": [
       "   submitter_id project_id      time  event  group\n",
       "0  TCGA-3B-A9HI       SARC  4.167123      0    val\n",
       "1  TCGA-3B-A9HJ       SARC  3.024658      0  train\n",
       "2  TCGA-3B-A9HL       SARC  1.641096      1  train\n",
       "3  TCGA-3B-A9HO       SARC  2.627397      0  train\n",
       "4  TCGA-3B-A9HP       SARC  4.457534      1    val"
      ]
     },
     "execution_count": 12,
     "metadata": {},
     "output_type": "execute_result"
    }
   ],
   "source": [
    "labels.head()"
   ]
  },
  {
   "cell_type": "code",
   "execution_count": 13,
   "metadata": {},
   "outputs": [],
   "source": [
    "file_map = {k: file_map[k] for k in file_map if k in list(labels['submitter_id'])}"
   ]
  },
  {
   "cell_type": "code",
   "execution_count": 14,
   "metadata": {},
   "outputs": [
    {
     "data": {
      "text/plain": [
       "9425"
      ]
     },
     "execution_count": 14,
     "metadata": {},
     "output_type": "execute_result"
    }
   ],
   "source": [
    "len(file_map)"
   ]
  },
  {
   "cell_type": "code",
   "execution_count": 15,
   "metadata": {},
   "outputs": [
    {
     "name": "stdout",
     "output_type": "stream",
     "text": [
      "831 patients with more than one slide\n",
      "(with 3.44 slides per patient)\n"
     ]
    }
   ],
   "source": [
    "slide_counts = {}\n",
    "\n",
    "for patient in file_map:\n",
    "    slides = file_map[patient]\n",
    "    if isinstance(slides, tuple):\n",
    "        slide_counts[patient] = len(slides)\n",
    "\n",
    "print(len(slide_counts), 'patients with more than one slide')\n",
    "print(f'(with {round(np.mean(list(slide_counts.values())), 2)} slides per patient)')"
   ]
  },
  {
   "cell_type": "markdown",
   "metadata": {},
   "source": [
    "# Slides with max 20x magnification\n",
    "\n",
    "There are slides with a maximum magnification of 20x instead of 40x. Drop these slides from the data.\n",
    "\n",
    "> __Note:__ De to the large size of the data, I have sp;it and stored it across four different locations."
   ]
  },
  {
   "cell_type": "markdown",
   "metadata": {},
   "source": [
    "## Collect slide magnifications"
   ]
  },
  {
   "cell_type": "raw",
   "metadata": {},
   "source": [
    "location_paths = {\n",
    "    'isilon': '/home/luis/net/Isilon/data.isilon/ag-rohr/bq_lsilva/WSI/',\n",
    "    'gpu_rig': '/home/luis/net/gpu_rig/bq_lsilva/WSI/',\n",
    "    'dataB': '/mnt/dataB/WSI/',\n",
    "    'ig': '/mnt/dataB/nas_copy/data/Projects/imaging_genomics/TCGA_BRCA/diagnostic_slide/',\n",
    "}"
   ]
  },
  {
   "cell_type": "raw",
   "metadata": {},
   "source": [
    "location_files = {loc: os.listdir(location_paths[loc]) for loc in location_paths}"
   ]
  },
  {
   "cell_type": "raw",
   "metadata": {},
   "source": [
    "location_files['isilon'][:5]"
   ]
  },
  {
   "cell_type": "raw",
   "metadata": {},
   "source": [
    "[len(l) for _, l in location_files.items()]"
   ]
  },
  {
   "cell_type": "raw",
   "metadata": {},
   "source": [
    "def get_slide_mag(slide_file):\n",
    "    try:\n",
    "        wsi = slide.Slide(filename=slide_file)\n",
    "        d = dict(wsi.properties)\n",
    "    except:\n",
    "        return slide_file\n",
    "    if 'aperio.AppMag' in d.keys():\n",
    "        mag = d['aperio.AppMag']\n",
    "        return mag\n",
    "    else:\n",
    "        return slide_file\n",
    "\n",
    "def lookup_full_path(wsi_file, slide_paths, locations):\n",
    "    file_path = None\n",
    "\n",
    "    for location, leaf_dirs in slide_paths.items():\n",
    "        for leaf_dir in leaf_dirs:\n",
    "            if leaf_dir in wsi_file:\n",
    "                file_path = os.path.join(locations[location], wsi_file)\n",
    "\n",
    "    return file_path"
   ]
  },
  {
   "cell_type": "raw",
   "metadata": {
    "code_folding": []
   },
   "source": [
    "%%time\n",
    "\n",
    "slide_mags = {}\n",
    "\n",
    "print('Collecting slide magnifications:')\n",
    "n = len(file_map)\n",
    "        \n",
    "for i, patient in enumerate(file_map):\n",
    "#     if i > 100:\n",
    "#         break\n",
    "    print('\\r' + f'{str((i + 1))}/{n}', end='')\n",
    "    \n",
    "    if isinstance(file_map[patient], tuple):\n",
    "        slide_mags[patient] = tuple()\n",
    "        for f in file_map[patient]:\n",
    "            f = lookup_full_path(f, location_files, location_paths)\n",
    "            if f is not None:\n",
    "                slide_mags[patient] += get_slide_mag(f),\n",
    "    else:\n",
    "        f = lookup_full_path(file_map[patient], location_files, location_paths)\n",
    "        if f is not None:\n",
    "            slide_mags[patient] = get_slide_mag(\n",
    "                lookup_full_path(f, location_files, location_paths))\n",
    "print()"
   ]
  },
  {
   "cell_type": "raw",
   "metadata": {},
   "source": [
    "len(slide_mags)"
   ]
  },
  {
   "cell_type": "markdown",
   "metadata": {},
   "source": [
    "## Save slide magnifications to file"
   ]
  },
  {
   "cell_type": "raw",
   "metadata": {},
   "source": [
    "json.dump(slide_mags, open('../data/wsi_magnifications.json', 'w'))"
   ]
  },
  {
   "cell_type": "markdown",
   "metadata": {},
   "source": [
    "## Check unread slides\n",
    "\n",
    "Function `get_slide_mag()` returns the slide file name when the magnification is not found (no `'aperio.AppMag'` found in `Slide` attributes).\n",
    "\n",
    "Start by checking unreadable slides and manually download the cases where the problem is partial original downloads."
   ]
  },
  {
   "cell_type": "raw",
   "metadata": {},
   "source": [
    "slide_mags = json.load(open('../data/wsi_magnifications.json'))"
   ]
  },
  {
   "cell_type": "raw",
   "metadata": {},
   "source": [
    "patients_with_failed_slides = []\n",
    "\n",
    "for patient in slide_mags:\n",
    "    mags = slide_mags[patient]\n",
    "    if not isinstance(mags, list):\n",
    "        mags = [mags]\n",
    "    for x in mags:\n",
    "        if x.startswith('20') or x.startswith('40'):\n",
    "            next\n",
    "        else:\n",
    "            patients_with_failed_slides += [patient]"
   ]
  },
  {
   "cell_type": "raw",
   "metadata": {},
   "source": [
    "len(patients_with_failed_slides)"
   ]
  },
  {
   "cell_type": "raw",
   "metadata": {},
   "source": [
    "%%time\n",
    "\n",
    "fail_opening = []\n",
    "\n",
    "for patient in patients_with_failed_slides:\n",
    "    files = slide_mags[patient]\n",
    "    if not isinstance(files, list):\n",
    "        files = [files]\n",
    "    for file in files:\n",
    "        try:\n",
    "            slide.Slide(filename=file)\n",
    "        except:\n",
    "            fail_opening += [patient]"
   ]
  },
  {
   "cell_type": "raw",
   "metadata": {},
   "source": [
    "len(set(fail_opening))"
   ]
  },
  {
   "cell_type": "raw",
   "metadata": {},
   "source": [
    "set(fail_opening)"
   ]
  },
  {
   "cell_type": "raw",
   "metadata": {},
   "source": [
    "slide_mags['TCGA-4X-A9F9']"
   ]
  },
  {
   "cell_type": "raw",
   "metadata": {},
   "source": [
    "wsi = slide.Slide(filename='/home/luis/net/gpu_rig/bq_lsilva/WSI/edaf66fc-b471-4af6-9ae1-c17101f38f96/TCGA-4X-A9F9-01Z-00-DXD.ED7DB698-C766-4E84-816A-1DAF551BC67F.svs')\n",
    "d = dict(wsi.properties)\n",
    "d\n",
    "\n",
    "# d['aperio.AppMag']"
   ]
  },
  {
   "cell_type": "markdown",
   "metadata": {},
   "source": [
    "## Drop unusable slides\n",
    "\n",
    "Start by checking magnifications for all flagged slides, in case the repaired files contain magnification values. Then drop both slides missing magnification info or with 20x maximum magnification and any patients with no remaining slides."
   ]
  },
  {
   "cell_type": "code",
   "execution_count": 16,
   "metadata": {},
   "outputs": [],
   "source": [
    "slide_mags = json.load(open('../data/wsi_magnifications.json'))"
   ]
  },
  {
   "cell_type": "code",
   "execution_count": 17,
   "metadata": {},
   "outputs": [],
   "source": [
    "# Any patients with slide paths for which magnification is available?\n",
    "patients_with_failed_slides = []\n",
    "\n",
    "for patient in slide_mags:\n",
    "    mags = slide_mags[patient]\n",
    "    if not isinstance(mags, list):\n",
    "        mags = [mags]\n",
    "    for x in mags:\n",
    "        if x.startswith('20') or x.startswith('40'):\n",
    "            next\n",
    "        else:\n",
    "            patients_with_failed_slides += [patient]"
   ]
  },
  {
   "cell_type": "code",
   "execution_count": 18,
   "metadata": {},
   "outputs": [
    {
     "data": {
      "text/plain": [
       "True"
      ]
     },
     "execution_count": 18,
     "metadata": {},
     "output_type": "execute_result"
    }
   ],
   "source": [
    "len(slide_mags) == len(file_map)"
   ]
  },
  {
   "cell_type": "code",
   "execution_count": 19,
   "metadata": {},
   "outputs": [
    {
     "name": "stdout",
     "output_type": "stream",
     "text": [
      "Could not open file: /home/luis/net/Isilon/data.isilon/ag-rohr/bq_lsilva/WSI/2e405d74-1bf4-4b86-9b69-7f85774e5cad/TCGA-05-5425-01Z-00-DX1.85865B2F-4888-43DD-A501-458BEFCF832B.svs\n",
      "Could not open file: /home/luis/net/Isilon/data.isilon/ag-rohr/bq_lsilva/WSI/bff964c6-145e-448d-8093-b5ee975d7b83/TCGA-05-5420-01Z-00-DX1.8C253A99-44FD-48B6-AF31-D808CCB7DB1E.svs\n",
      "Could not open file: /home/luis/net/Isilon/data.isilon/ag-rohr/bq_lsilva/WSI/d42ec882-899c-4feb-b412-182142f80d7d/TCGA-05-5423-01Z-00-DX1.CCCF5FDB-ACAD-4D9D-80DF-556F0D6284AF.svs\n",
      "Could not open file: /mnt/dataB/WSI/f8ac5923-4633-4606-8aab-bbdc3238ce1e/TCGA-05-4384-01Z-00-DX1.CA68BF29-BBE3-4C8E-B48B-554431A9EE13.svs\n",
      "Could not open file: /mnt/dataB/WSI/c0b9dad4-1ec8-4541-afe3-27bfd087e348/TCGA-05-5429-01Z-00-DX1.20729065-FADA-4E43-98D7-AFA5FB4A0447.svs\n",
      "Could not open file: /mnt/dataB/WSI/d236577c-da29-4d5c-ba46-d0079795d5d5/TCGA-05-4425-01Z-00-DX1.82B093EE-49BC-4FD9-91AC-4CC89944309D.svs\n",
      "Could not open file: /home/luis/net/Isilon/data.isilon/ag-rohr/bq_lsilva/WSI/eb2b99a0-c071-47b6-8e96-3a87114f84ac/TCGA-05-4410-01Z-00-DX1.E5B66334-4949-4F45-9200-296B1A2F1AD5.svs\n",
      "Could not open file: /home/luis/net/Isilon/data.isilon/ag-rohr/bq_lsilva/WSI/77cbfa8e-6ef8-477c-8cce-e2b4a2aa873b/TCGA-05-4390-01Z-00-DX1.858E64DF-DD3E-4F43-B7C1-CE35B33F1C90.svs\n",
      "Could not open file: /mnt/dataB/WSI/80e22a07-56c7-4a02-8858-77233358b789/TCGA-05-5715-01Z-00-DX1.D3F0A1FA-2507-45FF-823F-F9981E62BB4C.svs\n",
      "Could not open file: /mnt/dataB/nas_copy/data/Projects/imaging_genomics/TCGA_BRCA/diagnostic_slide/6eca5a11-0405-4619-88dd-04a12780e2bb/TCGA-OL-A5RX-01Z-00-DX1.15A0D4F4-2744-4D44-8883-27FF83D9C824.svs\n",
      "Could not open file: /mnt/dataB/nas_copy/data/Projects/imaging_genomics/TCGA_BRCA/diagnostic_slide/de82fb8e-9914-491f-9d6a-3bd23bfe92fa/TCGA-OL-A5RU-01Z-00-DX1.A48CAF2D-9310-4611-B27D-400F3A324607.svs\n",
      "Could not open file: /mnt/dataB/nas_copy/data/Projects/imaging_genomics/TCGA_BRCA/diagnostic_slide/739cd23e-8d2b-43bf-9a97-88bddc7eff40/TCGA-OL-A5RV-01Z-00-DX1.920AC243-1DAC-4854-BEB6-1CBCC950F26B.svs\n",
      "Could not open file: /mnt/dataB/nas_copy/data/Projects/imaging_genomics/TCGA_BRCA/diagnostic_slide/1c55f0d8-b0af-4a1e-84ef-f30aab5d749b/TCGA-OL-A5RY-01Z-00-DX1.AE4E9D74-FC1C-4C1E-AE6D-5DF38899BBA6.svs\n",
      "Could not open file: /home/luis/net/Isilon/data.isilon/ag-rohr/bq_lsilva/WSI/5d1ddc4b-4425-4b20-881a-fe2c4374c9cb/TCGA-05-5428-01Z-00-DX1.8018AD62-F1CE-4BFF-8EFD-3F2D4513FC11.svs\n",
      "Could not open file: /mnt/dataB/nas_copy/data/Projects/imaging_genomics/TCGA_BRCA/diagnostic_slide/e6d36213-3e51-4a1d-89d3-87cdeed2a832/TCGA-OL-A5RW-01Z-00-DX1.E16DE8EE-31AF-4EAF-A85F-DB3E3E2C3BFF.svs\n",
      "Could not open file: /mnt/dataB/nas_copy/data/Projects/imaging_genomics/TCGA_BRCA/diagnostic_slide/f33a4a17-6628-482c-8c70-b8893d56802f/TCGA-OL-A5S0-01Z-00-DX1.49A7AC9D-C186-406C-BA67-2D73DE82E13B.svs\n",
      "Could not open file: /home/luis/net/Isilon/data.isilon/ag-rohr/bq_lsilva/WSI/3ab78155-65b4-4345-b7d0-94cb7d5e0074/TCGA-AA-3506-01Z-00-DX1.08CFD143-1A4C-4262-831E-79D9C4BBF453.svs\n",
      "Could not open file: /home/luis/net/Isilon/data.isilon/ag-rohr/bq_lsilva/WSI/694ebf4b-83ae-4770-97bf-af706ff9cbba/TCGA-AA-3713-01Z-00-DX1.8148ACEB-7C1E-4D29-B908-F3729657EA4F.svs\n",
      "Could not open file: /home/luis/net/Isilon/data.isilon/ag-rohr/bq_lsilva/WSI/51bfacf2-08e3-416f-8900-62138cb22d91/TCGA-AA-3495-01Z-00-DX1.67DEE36B-724E-4B4F-B3A9-B4E8CCCEFA80.svs\n",
      "Could not open file: /home/luis/net/Isilon/data.isilon/ag-rohr/bq_lsilva/WSI/6c3d33e5-3c2e-4f86-8570-19d6921c8ef1/TCGA-AA-3697-01Z-00-DX1.AAB8DB74-F76D-4D0A-A50E-E7F97504A3C4.svs\n",
      "Could not open file: /home/luis/net/Isilon/data.isilon/ag-rohr/bq_lsilva/WSI/dd22f884-7785-4812-8a50-a4b4478f9769/TCGA-AA-3492-01Z-00-DX1.32D79909-71D5-4843-847E-AECA5DBC963D.svs\n",
      "Could not open file: /home/luis/net/gpu_rig/bq_lsilva/WSI/5d08e663-cee8-4f60-85a1-6b3f739008cb/TCGA-AA-3511-01Z-00-DX1.F66F89C7-147D-4EE9-A482-61C3033EF443.svs\n",
      "Could not open file: /home/luis/net/gpu_rig/bq_lsilva/WSI/9cf6fa09-ba5a-47eb-b946-0606092ada7a/TCGA-AA-3663-01Z-00-DX1.9AEDC003-2062-4876-8993-A5CEE4DDE1A9.svs\n",
      "Could not open file: /home/luis/net/Isilon/data.isilon/ag-rohr/bq_lsilva/WSI/5d8daafe-38a9-41ac-bcb0-551739fcfe7f/TCGA-AA-3489-01Z-00-DX1.AE299B70-B14C-4FFE-B1F9-38B2EB267FA9.svs\n",
      "Could not open file: /home/luis/net/gpu_rig/bq_lsilva/WSI/cbe96f6a-8c88-4895-9df0-7611239c8f9d/TCGA-AA-3655-01Z-00-DX1.D78D8DBE-E74F-491D-AC9C-10E4C4E7BB02.svs\n",
      "Could not open file: /home/luis/net/Isilon/data.isilon/ag-rohr/bq_lsilva/WSI/9a575ecb-25b9-407b-89e9-ee6846339c37/TCGA-AA-3712-01Z-00-DX1.00E0ACE2-8CC5-4063-9C65-3CDD7F21B189.svs\n",
      "Could not open file: /home/luis/net/gpu_rig/bq_lsilva/WSI/2ef47bea-4348-4c78-9ad3-219423eecc65/TCGA-AA-3660-01Z-00-DX1.CCD0F50D-9991-4CC2-AC77-AD1F78D8CFEB.svs\n",
      "Could not open file: /home/luis/net/gpu_rig/bq_lsilva/WSI/e3d20ce7-1611-485c-95ce-db9d00783e0f/TCGA-AA-3494-01Z-00-DX1.E275AF20-3AA7-4191-BD1F-FFE744CA6A2F.svs\n",
      "Could not open file: /home/luis/net/gpu_rig/bq_lsilva/WSI/492601c0-12c6-4c60-9d1d-b81c3a43f234/TCGA-AA-3496-01Z-00-DX1.B109A6F3-02E0-4181-B69A-00CBA758C074.svs\n",
      "Could not open file: /home/luis/net/gpu_rig/bq_lsilva/WSI/c3d4a801-b3c3-41e5-8819-6438e0e857db/TCGA-AA-3510-01Z-00-DX1.B4FCE76A-3B60-4D7D-9F3E-973AE17EA8E2.svs\n",
      "Could not open file: /home/luis/net/gpu_rig/bq_lsilva/WSI/d7854359-bc69-4707-825f-951e1f9bbc03/TCGA-AA-3509-01Z-00-DX1.EAE46823-3132-486F-8C2A-C0F548A08335.svs\n",
      "Could not open file: /home/luis/net/Isilon/data.isilon/ag-rohr/bq_lsilva/WSI/430dc536-5441-443d-a3e0-159ecaf8fde2/TCGA-G9-A9S4-01Z-00-DX1.847AD7EA-278E-4E78-9465-1CA8229017AA.svs\n",
      "Could not open file: /home/luis/net/gpu_rig/bq_lsilva/WSI/883e8f0c-b8d6-4669-9e36-d2db34657932/TCGA-AA-3488-01Z-00-DX1.EDF60198-F7AB-45BB-9A1B-C2E2FA141989.svs\n",
      "Could not open file: /mnt/dataB/nas_copy/data/Projects/imaging_genomics/TCGA_BRCA/diagnostic_slide/69254fba-c85c-4bbb-8a4c-b2e14c8e5a2a/TCGA-OL-A5RZ-01Z-00-DX1.6394C05E-1C34-4F4B-8859-F5E961E7EFF9.svs\n",
      "Could not open file: /home/luis/net/Isilon/data.isilon/ag-rohr/bq_lsilva/WSI/2d760ad4-01c6-48a0-9846-164119ac3f39/TCGA-AA-3662-01Z-00-DX1.625F1BCC-5E59-411E-AE23-6F43CE6122B2.svs\n",
      "Could not open file: /home/luis/net/gpu_rig/bq_lsilva/WSI/17b9a90a-bfe1-46b6-8f8e-7885eb856275/TCGA-AG-3891-01Z-00-DX1.82E8836A-91E7-48CA-A7C1-501A00F20298.svs\n",
      "Could not open file: /home/luis/net/gpu_rig/bq_lsilva/WSI/1ac02670-8391-4cb8-959d-d446317e3986/TCGA-AG-3725-01Z-00-DX1.86CF8220-F410-49E4-A840-E42AE8C5D8B2.svs\n",
      "Could not open file: /home/luis/net/Isilon/data.isilon/ag-rohr/bq_lsilva/WSI/c7572d79-8904-4e20-93fb-58a830b68a42/TCGA-AG-3742-01Z-00-DX1.E662D7A7-1022-4120-BCB8-845732E07D63.svs\n",
      "Could not open file: /home/luis/net/Isilon/data.isilon/ag-rohr/bq_lsilva/WSI/b35fa258-838c-461c-85ec-3cb63e90dc96/TCGA-AG-3591-01Z-00-DX1.C06D77F2-D55E-433E-A84D-41E6273C8C61.svs\n",
      "Could not open file: /home/luis/net/gpu_rig/bq_lsilva/WSI/3be29854-daa8-49ab-97bd-162747eea603/TCGA-AG-3732-01Z-00-DX1.5EC57511-2B19-4005-BCA0-333C387C66E6.svs\n",
      "Could not open file: /home/luis/net/Isilon/data.isilon/ag-rohr/bq_lsilva/WSI/5f6c2a1c-1d87-44b2-bed6-487403d3e9c9/TCGA-ZU-A8S4-01Z-00-DX1.90E3AC43-66E2-41E6-8253-487B95B4D7C9.svs\n",
      "Could not open file: /home/luis/net/gpu_rig/bq_lsilva/WSI/3f7887bf-9322-4a70-a793-2b8994c5eedb/TCGA-AG-4009-01Z-00-DX1.A66BDD56-216C-4424-8168-9295A307F98F.svs\n",
      "Could not open file: /home/luis/net/gpu_rig/bq_lsilva/WSI/edaf66fc-b471-4af6-9ae1-c17101f38f96/TCGA-4X-A9F9-01Z-00-DXD.ED7DB698-C766-4E84-816A-1DAF551BC67F.svs\n",
      "Could not open file: /home/luis/net/Isilon/data.isilon/ag-rohr/bq_lsilva/WSI/e0e8e108-0d1c-40ef-8618-1b4ccb0c14f9/TCGA-AG-3731-01Z-00-DX1.9C30A84C-DD47-47C4-8899-3A1EF5153E1A.svs\n",
      "Could not open file: /home/luis/net/Isilon/data.isilon/ag-rohr/bq_lsilva/WSI/4757bcc7-04ea-4883-80e0-f0f54885ec45/TCGA-AG-3592-01Z-00-DX1.61880D0C-B777-482B-9543-FCA685731B9B.svs\n",
      "Could not open file: /home/luis/net/Isilon/data.isilon/ag-rohr/bq_lsilva/WSI/a7a607ab-7b7a-469d-bffb-6003cce2d6ae/TCGA-UZ-A9PQ-01Z-00-DX1.C2CB0E94-2548-4399-BCAB-E4D556D533EF.svs\n",
      "Could not open file: /home/luis/net/Isilon/data.isilon/ag-rohr/bq_lsilva/WSI/37e9c31f-ea56-482e-a1eb-d1a09bdae491/TCGA-2J-AAB6-01Z-00-DX1.2FC4D66F-BFBB-48FA-AFCB-ABBC12F37E14.svs\n",
      "Could not open file: /home/luis/net/Isilon/data.isilon/ag-rohr/bq_lsilva/WSI/deccdef7-8e74-4e4e-bd31-d10266700dc5/TCGA-BR-4366-01Z-00-DX1.1b5b7fce-bfbb-461d-9381-30eb37698b9e.svs\n",
      "Could not open file: /home/luis/net/Isilon/data.isilon/ag-rohr/bq_lsilva/WSI/a21467ab-2cbc-49b5-9cb0-cc82ce7c728b/TCGA-BR-4371-01Z-00-DX1.b45af289-5e56-40dd-80ba-7b8752d0344e.svs\n",
      "Could not open file: /home/luis/net/gpu_rig/bq_lsilva/WSI/a7ba3493-634c-4b7c-b9df-70f6c1c9156f/TCGA-CG-5718-01Z-00-DX1.4BA9B20E-9555-4993-9B55-9E5A9C5C3905.svs\n",
      "Could not open file: /home/luis/net/gpu_rig/bq_lsilva/WSI/4dad0232-e085-422b-a425-2954723c10fd/TCGA-CG-5725-01Z-00-DX1.2FDB162B-9080-434D-AEE0-B867BE8D3786.svs\n",
      "Could not open file: /home/luis/net/Isilon/data.isilon/ag-rohr/bq_lsilva/WSI/a57a2881-1f6f-4dd4-bb52-186da794bbe6/TCGA-BR-4367-01Z-00-DX1.1f8d0290-2ea8-447c-a8a9-4d83be6f242f.svs\n",
      "Could not open file: /home/luis/net/gpu_rig/bq_lsilva/WSI/0124d91f-e33b-440f-9587-f93ce368e2a6/TCGA-CG-5717-01Z-00-DX1.6E375046-B9C3-49DD-A934-9AE4BE2895E0.svs\n",
      "Could not open file: /home/luis/net/Isilon/data.isilon/ag-rohr/bq_lsilva/WSI/4ecf8840-d45e-4be3-9d2a-459a8081d62c/TCGA-BR-4369-01Z-00-DX1.69000607-7c5c-4a97-bdc1-f5a4fdfdd39c.svs\n",
      "Could not open file: /home/luis/net/Isilon/data.isilon/ag-rohr/bq_lsilva/WSI/fcd5cf82-90de-41c8-8088-c4494c86990e/TCGA-BR-4183-01Z-00-DX1.25a55001-19e6-4f2a-ad84-f8a3a990cc2f.svs\n",
      "Could not open file: /home/luis/net/gpu_rig/bq_lsilva/WSI/e47f2136-6321-4ea6-94e5-a63918cdab1c/TCGA-CG-5724-01Z-00-DX1.89B75EBF-BF6E-418F-8FA7-F564055EE6DA.svs\n",
      "Could not open file: /home/luis/net/Isilon/data.isilon/ag-rohr/bq_lsilva/WSI/4223bd71-e3b1-4b59-a235-4ff0cc614b62/TCGA-BR-4257-01Z-00-DX1.fd97fe9a-2e87-455d-9555-38b6621433d1.svs\n",
      "Could not open file: /home/luis/net/gpu_rig/bq_lsilva/WSI/9fbcca24-18f8-4a44-b14a-31eab661ec49/TCGA-CG-5730-01Z-00-DX1.FA6F1EEE-3581-4824-AFC2-A5FFC04DF5A2.svs\n",
      "Could not open file: /home/luis/net/Isilon/data.isilon/ag-rohr/bq_lsilva/WSI/ef351cab-c611-423e-83fd-fc7b568f4878/TCGA-BR-4368-01Z-00-DX1.ecfc8a41-c65e-4ac4-9b2e-c403ba184f02.svs\n",
      "Could not open file: /home/luis/net/Isilon/data.isilon/ag-rohr/bq_lsilva/WSI/a38d0678-f332-4f34-bfef-72617784c7ed/TCGA-BR-4201-01Z-00-DX1.7e3cbcf2-eb0e-4582-b5e1-f31c8a9ee5b7.svs\n",
      "Could not open file: /home/luis/net/Isilon/data.isilon/ag-rohr/bq_lsilva/WSI/c827abad-f52a-45f2-9384-ddfecdb99ff1/TCGA-CG-4437-01Z-00-DX1.3FB7BF81-9E9A-4864-9627-0865486C07A0.svs\n",
      "Could not open file: /home/luis/net/Isilon/data.isilon/ag-rohr/bq_lsilva/WSI/6224e3bd-ec7b-44be-80be-7e5360c7d364/TCGA-BR-4188-01Z-00-DX1.34ff2bf8-cd91-4f50-a38a-8e3c3693537f.svs\n",
      "Could not open file: /home/luis/net/Isilon/data.isilon/ag-rohr/bq_lsilva/WSI/7fe8b51c-cca9-41c1-83d1-2ef52d343ee7/TCGA-BR-4361-01Z-00-DX1.427c9a42-7772-41d2-814e-3da7d9fffe34.svs\n",
      "Could not open file: /home/luis/net/Isilon/data.isilon/ag-rohr/bq_lsilva/WSI/6f531333-5f32-4f7e-945a-04a5cd6c59a5/TCGA-CG-5719-01Z-00-DX1.8E669F41-406C-4AB4-8B73-A079D6690537.svs\n",
      "Could not open file: /home/luis/net/Isilon/data.isilon/ag-rohr/bq_lsilva/WSI/a776ea24-5660-4f8e-9e3a-a76b46ea5bda/TCGA-CG-5722-01Z-00-DX2.2A4EC4AE-A520-4E86-8E48-E6FFBFC3F340.svs\n",
      "Could not open file: /home/luis/net/Isilon/data.isilon/ag-rohr/bq_lsilva/WSI/5f7b6bca-3343-4176-93fd-12cf92d46899/TCGA-CG-5722-01Z-00-DX1.C1B50B01-0328-4DAF-8EDA-024D2A7EC07F.svs\n",
      "Could not open file: /home/luis/net/Isilon/data.isilon/ag-rohr/bq_lsilva/WSI/a776ea24-5660-4f8e-9e3a-a76b46ea5bda/TCGA-CG-5722-01Z-00-DX2.2A4EC4AE-A520-4E86-8E48-E6FFBFC3F340.svs\n",
      "Could not open file: /home/luis/net/Isilon/data.isilon/ag-rohr/bq_lsilva/WSI/5f7b6bca-3343-4176-93fd-12cf92d46899/TCGA-CG-5722-01Z-00-DX1.C1B50B01-0328-4DAF-8EDA-024D2A7EC07F.svs\n",
      "Could not open file: /home/luis/net/Isilon/data.isilon/ag-rohr/bq_lsilva/WSI/bb68e5ff-bcbd-42e3-b615-2b0e05c88ace/TCGA-BR-4294-01Z-00-DX1.247c5447-23e3-4620-a981-19d5f572235a.svs\n",
      "Could not open file: /home/luis/net/Isilon/data.isilon/ag-rohr/bq_lsilva/WSI/61f682da-001a-4b57-8bb7-6f498aa32ac5/TCGA-CG-5728-01Z-00-DX1.F370843C-2958-463F-90F9-DB3F08B8554B.svs\n",
      "Could not open file: /home/luis/net/Isilon/data.isilon/ag-rohr/bq_lsilva/WSI/bd7ce09a-036c-4cce-afa8-3d2f6bfa512d/TCGA-CG-5721-01Z-00-DX1.F4E6AF45-0B1D-499E-AE95-6AFC9344F731.svs\n",
      "Could not open file: /home/luis/net/Isilon/data.isilon/ag-rohr/bq_lsilva/WSI/3e872593-f884-46e1-8148-f7b80bbb09b9/TCGA-BR-4256-01Z-00-DX1.682c72f4-e392-4941-bf24-63dd7a4afecc.svs\n",
      "Could not open file: /home/luis/net/Isilon/data.isilon/ag-rohr/bq_lsilva/WSI/275f49a4-0aea-4986-b1e1-735935c44614/TCGA-BR-4184-01Z-00-DX1.aa0818ba-92ea-4337-b9d3-c891161f5f9a.svs\n",
      "Could not open file: /home/luis/net/Isilon/data.isilon/ag-rohr/bq_lsilva/WSI/8d1f0721-9810-48f6-9e57-373df93f31be/TCGA-BR-4362-01Z-00-DX1.f12e9fd5-4d05-408b-8462-a2cc9a75edae.svs\n",
      "Could not open file: /mnt/dataB/WSI/09e3b0b4-3be4-476c-a6a3-b98a748653e7/TCGA-CG-5732-01Z-00-DX1.56EE8B97-4D88-4EA1-9EC9-B1A9F79C35D5.svs\n",
      "Could not open file: /mnt/dataB/WSI/1fc0a070-1eee-4a40-9fa7-feff9ef99558/TCGA-BR-4191-01Z-00-DX1.6f25e7af-44be-41bc-85c4-22729d6ec585.svs\n",
      "Could not open file: /home/luis/net/Isilon/data.isilon/ag-rohr/bq_lsilva/WSI/24055a03-821f-4a57-b72d-fe5b8ca88e15/TCGA-CG-5716-01Z-00-DX1.971C2889-E3D7-48BC-8148-F03A7FEFE982.svs\n",
      "Could not open file: /home/luis/net/Isilon/data.isilon/ag-rohr/bq_lsilva/WSI/c31dd9b9-4b2d-4ffb-8b48-7b1d6ba2cffa/TCGA-BR-4357-01Z-00-DX1.63cd361b-d8a7-4a99-aed7-4355b32397f6.svs\n",
      "Could not open file: /home/luis/net/Isilon/data.isilon/ag-rohr/bq_lsilva/WSI/7345935b-4ee0-4f36-b65c-6daf72aad2b2/TCGA-BR-4363-01Z-00-DX1.d2121987-481e-4f39-8cb3-724a9fc18036.svs\n",
      "Could not open file: /home/luis/net/Isilon/data.isilon/ag-rohr/bq_lsilva/WSI/cd8d6c89-eaa8-4b3c-8130-c9542f832406/TCGA-CG-5727-01Z-00-DX1.2B805B2B-6D29-4F6F-B22E-944091C53127.svs\n",
      "Could not open file: /home/luis/net/Isilon/data.isilon/ag-rohr/bq_lsilva/WSI/6c7fb46c-6310-46ef-a6d1-44bdec9b43a1/TCGA-BR-4187-01Z-00-DX1.5358ef4f-c9af-40d4-b366-48876a8503cc.svs\n",
      "Could not open file: /home/luis/net/Isilon/data.isilon/ag-rohr/bq_lsilva/WSI/4c4e9e59-83f6-419e-a695-e43717e9728b/TCGA-CG-5733-01Z-00-DX1.E284A707-2D4B-438A-8B62-FCFD4510FAD3.svs\n",
      "Could not open file: /home/luis/net/Isilon/data.isilon/ag-rohr/bq_lsilva/WSI/bdd043d6-9f7b-491f-b919-42e0c9a5e8e9/TCGA-CG-5726-01Z-00-DX1.AF4BAEE4-45CE-453F-B4B9-8373A5909315.svs\n",
      "Could not open file: /mnt/dataB/WSI/19bda795-be41-4103-b892-344b67849e0e/TCGA-BR-4255-01Z-00-DX1.7c99233e-2bf3-4130-9852-7e7b34784366.svs\n",
      "Could not open file: /home/luis/net/Isilon/data.isilon/ag-rohr/bq_lsilva/WSI/cd2c51f9-b0f2-42b6-a5f4-58cb7f5686df/TCGA-CG-5734-01Z-00-DX1.52E92249-B566-48B3-8D54-71B945A8C0AB.svs\n",
      "Could not open file: /home/luis/net/Isilon/data.isilon/ag-rohr/bq_lsilva/WSI/e4e08050-868e-40a6-a197-19b274bcb7c1/TCGA-BR-4253-01Z-00-DX1.1541e883-de6a-4cd3-a6f5-6866fd5f3439.svs\n",
      "Could not open file: /home/luis/net/Isilon/data.isilon/ag-rohr/bq_lsilva/WSI/8eb97d84-4260-4c63-bc7f-aa3a15bd3d15/TCGA-BR-4279-01Z-00-DX1.3d749e63-3614-4475-b840-5401640f13d8.svs\n",
      "Could not open file: /home/luis/net/Isilon/data.isilon/ag-rohr/bq_lsilva/WSI/53507819-e29d-46fe-9fdc-fddc6d67a912/TCGA-BR-4267-01Z-00-DX1.74687868-fdfb-4b11-8c72-a42703b5d06d.svs\n",
      "Could not open file: /home/luis/net/Isilon/data.isilon/ag-rohr/bq_lsilva/WSI/4b6ff8ae-3569-492e-9128-b54a6e74a8a1/TCGA-CG-5723-01Z-00-DX1.A0FB6EFA-304F-4267-8C6E-D9E750F67FDC.svs\n",
      "Could not open file: /home/luis/net/Isilon/data.isilon/ag-rohr/bq_lsilva/WSI/e6aa69ed-ce5a-4614-890c-77ca37e41dda/TCGA-BR-4370-01Z-00-DX1.a221ca0e-5055-41c3-97a5-d8b9ff847e45.svs\n",
      "Could not open file: /home/luis/net/Isilon/data.isilon/ag-rohr/bq_lsilva/WSI/94386c33-dfe1-4036-a58a-0badd58751d7/TCGA-CG-5720-01Z-00-DX1.934A284B-B33A-4C76-B423-2110012B7178.svs\n"
     ]
    }
   ],
   "source": [
    "def any_slide_mag(slide_file):\n",
    "    try:\n",
    "        wsi = slide.Slide(filename=slide_file)\n",
    "        d = dict(wsi.properties)\n",
    "        if 'aperio.AppMag' in d.keys():\n",
    "            print(slide_file, d['aperio.AppMag'])\n",
    "    except:\n",
    "        print('Could not open file:', slide_file)\n",
    "\n",
    "for patient in patients_with_failed_slides:\n",
    "    mags = slide_mags[patient]\n",
    "    if not isinstance(mags, list):\n",
    "        mags = [mags]\n",
    "    for mag in mags:\n",
    "        if mag.startswith('20') or mag.startswith('40'):\n",
    "            next\n",
    "        else:\n",
    "            any_slide_mag(mag)"
   ]
  },
  {
   "cell_type": "code",
   "execution_count": 20,
   "metadata": {},
   "outputs": [
    {
     "name": "stdout",
     "output_type": "stream",
     "text": [
      "TCGA-G9-A9S4\n",
      "TCGA-ZU-A8S4\n",
      "TCGA-2J-AAB6\n"
     ]
    }
   ],
   "source": [
    "slides_with_mags = ['/home/luis/net/Isilon/data.isilon/ag-rohr/bq_lsilva/WSI/430dc536-5441-443d-a3e0-159ecaf8fde2/TCGA-G9-A9S4-01Z-00-DX1.847AD7EA-278E-4E78-9465-1CA8229017AA.svs',\n",
    "                    '/home/luis/net/Isilon/data.isilon/ag-rohr/bq_lsilva/WSI/5f6c2a1c-1d87-44b2-bed6-487403d3e9c9/TCGA-ZU-A8S4-01Z-00-DX1.90E3AC43-66E2-41E6-8253-487B95B4D7C9.svs',\n",
    "                    '/home/luis/net/Isilon/data.isilon/ag-rohr/bq_lsilva/WSI/37e9c31f-ea56-482e-a1eb-d1a09bdae491/TCGA-2J-AAB6-01Z-00-DX1.2FC4D66F-BFBB-48FA-AFCB-ABBC12F37E14.svs']\n",
    "\n",
    "\n",
    "for patient, mags in slide_mags.items():\n",
    "    if mags in slides_with_mags:\n",
    "        print(patient)"
   ]
  },
  {
   "cell_type": "code",
   "execution_count": 21,
   "metadata": {},
   "outputs": [],
   "source": [
    "slide_mags['TCGA-G9-A9S4'] = '40'\n",
    "slide_mags['TCGA-ZU-A8S4'] = '40'\n",
    "slide_mags['TCGA-2J-AAB6'] = '40'"
   ]
  },
  {
   "cell_type": "markdown",
   "metadata": {},
   "source": [
    "### Drop slides slides missing magnification or with 20x magnification"
   ]
  },
  {
   "cell_type": "code",
   "execution_count": 22,
   "metadata": {},
   "outputs": [],
   "source": [
    "# Convert all values to list\n",
    "for patient in slide_mags:\n",
    "    if not isinstance(slide_mags[patient], list):\n",
    "        slide_mags[patient] = [slide_mags[patient]]\n",
    "\n",
    "# Drop 20x values\n",
    "for patient in slide_mags:\n",
    "    slide_mags[patient] = [x for x in slide_mags[patient]\n",
    "                           if not x.startswith('20')]\n",
    "    \n",
    "# Drop file values\n",
    "for patient in slide_mags:\n",
    "    slide_mags[patient] = [x for x in slide_mags[patient]\n",
    "                           if x.startswith('40')]"
   ]
  },
  {
   "cell_type": "markdown",
   "metadata": {},
   "source": [
    "### Drop patients with no remaining slides"
   ]
  },
  {
   "cell_type": "code",
   "execution_count": 23,
   "metadata": {},
   "outputs": [
    {
     "data": {
      "text/plain": [
       "9425"
      ]
     },
     "execution_count": 23,
     "metadata": {},
     "output_type": "execute_result"
    }
   ],
   "source": [
    "len(slide_mags)"
   ]
  },
  {
   "cell_type": "code",
   "execution_count": 24,
   "metadata": {},
   "outputs": [],
   "source": [
    "patients_with_no_slides = []\n",
    "\n",
    "for patient in slide_mags:\n",
    "    if not slide_mags[patient]:\n",
    "        patients_with_no_slides += [patient]"
   ]
  },
  {
   "cell_type": "code",
   "execution_count": 25,
   "metadata": {},
   "outputs": [
    {
     "data": {
      "text/plain": [
       "1040"
      ]
     },
     "execution_count": 25,
     "metadata": {},
     "output_type": "execute_result"
    }
   ],
   "source": [
    "len(patients_with_no_slides)"
   ]
  },
  {
   "cell_type": "code",
   "execution_count": 26,
   "metadata": {},
   "outputs": [],
   "source": [
    "slide_mags = {patient: v for patient, v in slide_mags.items()\n",
    "              if patient not in patients_with_no_slides}"
   ]
  },
  {
   "cell_type": "code",
   "execution_count": 27,
   "metadata": {},
   "outputs": [
    {
     "data": {
      "text/plain": [
       "8385"
      ]
     },
     "execution_count": 27,
     "metadata": {},
     "output_type": "execute_result"
    }
   ],
   "source": [
    "len(slide_mags)"
   ]
  },
  {
   "cell_type": "code",
   "execution_count": 28,
   "metadata": {},
   "outputs": [
    {
     "data": {
      "text/plain": [
       "9425"
      ]
     },
     "execution_count": 28,
     "metadata": {},
     "output_type": "execute_result"
    }
   ],
   "source": [
    "len(file_map)"
   ]
  },
  {
   "cell_type": "code",
   "execution_count": 29,
   "metadata": {},
   "outputs": [],
   "source": [
    "file_map = {patient: v for patient, v in file_map.items()\n",
    "            if patient in slide_mags}"
   ]
  },
  {
   "cell_type": "code",
   "execution_count": 30,
   "metadata": {},
   "outputs": [
    {
     "data": {
      "text/plain": [
       "8385"
      ]
     },
     "execution_count": 30,
     "metadata": {},
     "output_type": "execute_result"
    }
   ],
   "source": [
    "len(file_map)"
   ]
  },
  {
   "cell_type": "markdown",
   "metadata": {},
   "source": [
    "# Generate patient files"
   ]
  },
  {
   "cell_type": "raw",
   "metadata": {},
   "source": [
    "eg_file = list(file_map.values())[0]\n",
    "\n",
    "lookup_full_path(eg_file, location_files, location_paths)"
   ]
  },
  {
   "cell_type": "raw",
   "metadata": {},
   "source": [
    "location_paths"
   ]
  },
  {
   "cell_type": "raw",
   "metadata": {},
   "source": [
    "def get_target_dir(patient, base_dirs, id_groups):\n",
    "    if patient in id_groups['train']:\n",
    "        target_dir = os.path.join(base_dir, 'train')\n",
    "    elif patient in id_groups['val']:\n",
    "        target_dir = os.path.join(base_dir, 'val')\n",
    "    elif patient in id_groups['test']:\n",
    "        target_dir = os.path.join(base_dir, 'test')\n",
    "    else:\n",
    "        raise ValueError(f'Patient id {patient} not found in \"id_groups\"!')\n",
    "    \n",
    "    return target_dir"
   ]
  },
  {
   "cell_type": "raw",
   "metadata": {},
   "source": [
    "print('Write patient files:')\n",
    "n = len(file_map)\n",
    "\n",
    "base_dir = '/mnt/dataA/TCGA/processed/WSI/'\n",
    "\n",
    "for i, patient in enumerate(file_map):\n",
    "    print('\\r' + f'{str((i + 1))}/{n}', end='')\n",
    "    \n",
    "    patient_files = file_map[patient]\n",
    "    if not isinstance(patient_files, (tuple, list)):\n",
    "        file_paths = [patient_files]\n",
    "\n",
    "    target_dir = get_target_dir(patient, base_dir, id_groups)\n",
    "    target_file = os.path.join(target_dir, str(patient) + '.txt')\n",
    "\n",
    "    file_paths = [lookup_full_path(file_path, location_files, location_paths)\n",
    "                  for file_path in file_paths if file_path is not None]\n",
    "    \n",
    "    # Remove None (file not yet downloaded...)\n",
    "    file_paths = [f for f in file_paths if f is not None]\n",
    "\n",
    "    with open(target_file, 'w') as f:\n",
    "        f.write('\\n'.join(file_paths))"
   ]
  },
  {
   "cell_type": "raw",
   "metadata": {},
   "source": [
    "print('Write patient files:')\n",
    "n = len(file_map)\n",
    "\n",
    "base_dir = '/mnt/dataA/TCGA/processed/WSI/'\n",
    "\n",
    "for i, patient in enumerate(file_map):\n",
    "    print('\\r' + f'{str((i + 1))}/{n}', end='')\n",
    "    \n",
    "    patient_files = file_map[patient]\n",
    "    if not isinstance(patient_files, (tuple, list)):\n",
    "        file_paths = [patient_files]\n",
    "\n",
    "    target_dir = get_target_dir(patient, base_dir)\n",
    "    target_file = os.path.join(target_dir, str(patient) + '.txt')\n",
    "\n",
    "    file_paths = [lookup_full_path(file_path, location_files, location_paths)\n",
    "                  for file_path in file_paths if file_path is not None]\n",
    "    \n",
    "    # Remove None (file not yet downloaded...)\n",
    "    file_paths = [f for f in file_paths if f is not None]\n",
    "\n",
    "    with open(target_file, 'w') as f:\n",
    "        f.write('\\n'.join(file_paths))"
   ]
  },
  {
   "cell_type": "markdown",
   "metadata": {},
   "source": [
    "# Offline patching\n",
    "\n",
    "Run dedicated script (found in `src/scripts` directory) with a selected input directory at a time.\n",
    "\n",
    "Slide directories:\n",
    "* `/home/luis/net/Isilon/data.isilon/ag-rohr/bq_lsilva/WSI/`\n",
    "* `/home/luis/net/gpu_rig/bq_lsilva/WSI/`\n",
    "* `/mnt/dataB/WSI/`\n",
    "* `/mnt/dataB/nas_copy/data/Projects/imaging_genomics/TCGA_BRCA/diagnostic_slide/`\n",
    "\n",
    "Generate a good number of patches per WSI. For example, 50 patches per slide will yield the following total numbers of patches:\n",
    "* 302'450 for Isilon\n",
    "* 134'600 for GPU rig\n",
    "* 94'600 for `dataB`\n",
    "* 56'650 for BRCA\n",
    "\n",
    "Example command:\n",
    "\n",
    "```bash\n",
    "$ conda activate ig\n",
    "$ python ./wsi_patcher.py \\\n",
    "   -i /home/luis/net/gpu_rig/bq_lsilva/WSI/ \\\n",
    "   -l ../../data/labels.tsv \\\n",
    "   -o /mnt/dataA/TCGA/processed/WSI/tissue_patches/ \\\n",
    "   -n 50\n",
    "```"
   ]
  },
  {
   "cell_type": "markdown",
   "metadata": {},
   "source": [
    "## Count generated patches per slide\n",
    "\n",
    "Sanity check to make sure there is a balanced number of patches per each slide."
   ]
  },
  {
   "cell_type": "code",
   "execution_count": 31,
   "metadata": {},
   "outputs": [],
   "source": [
    "base_dir = DATA_LOCATION "
   ]
  },
  {
   "cell_type": "code",
   "execution_count": 32,
   "metadata": {},
   "outputs": [],
   "source": [
    "from collections import Counter\n",
    "\n",
    "patches_named_as_slides = ['-'.join(os.path.basename(patch).split('-')[:3])\n",
    "                           for patch in os.listdir(base_dir)]\n",
    "    \n",
    "c = Counter(patches_named_as_slides)"
   ]
  },
  {
   "cell_type": "code",
   "execution_count": 33,
   "metadata": {},
   "outputs": [
    {
     "data": {
      "text/plain": [
       "8381"
      ]
     },
     "execution_count": 33,
     "metadata": {},
     "output_type": "execute_result"
    }
   ],
   "source": [
    "len([x for x in c if c[x] > 0])"
   ]
  },
  {
   "cell_type": "code",
   "execution_count": 34,
   "metadata": {},
   "outputs": [],
   "source": [
    "def how_many_patches_per_patient(patch_dir):\n",
    "    patches_named_as_patients = ['-'.join(patch.split('-')[:3])\n",
    "                                 for patch in os.listdir(patch_dir)]\n",
    "    \n",
    "    c = Counter(patches_named_as_patients)\n",
    "\n",
    "    print(f'# patches: {len(patches_named_as_patients)}')\n",
    "    print(f'# Represented patients: {len(c)}')\n",
    "    unique_counts = set(c.values())\n",
    "    print(f'Unique #s patches per patient: {unique_counts}')"
   ]
  },
  {
   "cell_type": "code",
   "execution_count": 35,
   "metadata": {},
   "outputs": [],
   "source": [
    "location_paths = {\n",
    "    'isilon': '/home/luis/net/Isilon/data.isilon/ag-rohr/bq_lsilva/WSI/',\n",
    "    'gpu_rig': '/home/luis/net/gpu_rig/bq_lsilva/WSI/',\n",
    "    'dataB': '/mnt/dataB/WSI/',\n",
    "    'ig': '/mnt/dataB/nas_copy/data/Projects/imaging_genomics/TCGA_BRCA/diagnostic_slide/',\n",
    "}"
   ]
  },
  {
   "cell_type": "code",
   "execution_count": null,
   "metadata": {},
   "outputs": [],
   "source": [
    "%%time\n",
    "\n",
    "location_files = {loc: os.listdir(location_paths[loc]) for loc in location_paths}"
   ]
  },
  {
   "cell_type": "code",
   "execution_count": 52,
   "metadata": {},
   "outputs": [
    {
     "data": {
      "text/plain": [
       "{'isilon': 6046, 'gpu_rig': 2692, 'dataB': 1892, 'ig': 1133}"
      ]
     },
     "execution_count": 52,
     "metadata": {},
     "output_type": "execute_result"
    }
   ],
   "source": [
    "n_files = {loc: len(location_files[loc]) for loc in location_files}\n",
    "n_files"
   ]
  },
  {
   "cell_type": "code",
   "execution_count": 53,
   "metadata": {},
   "outputs": [
    {
     "name": "stdout",
     "output_type": "stream",
     "text": [
      "Total # of WSI files: 11763\n"
     ]
    }
   ],
   "source": [
    "print('Total # of WSI files:', sum(n_files.values()))"
   ]
  },
  {
   "cell_type": "code",
   "execution_count": 37,
   "metadata": {},
   "outputs": [
    {
     "name": "stdout",
     "output_type": "stream",
     "text": [
      "# patches: 1072921\n",
      "# Represented patients: 9557\n",
      "Unique #s patches per patient: {650, 1550, 400, 21, 150, 800, 550, 299, 300, 700, 450, 199, 200, 599, 600, 350, 99, 100, 749, 750, 499, 500, 250, 1150}\n"
     ]
    }
   ],
   "source": [
    "base_dir = os.path.join(DATA_LOCATION, 'tissue_patches')\n",
    "\n",
    "how_many_patches_per_patient(patch_dir=base_dir)"
   ]
  },
  {
   "cell_type": "markdown",
   "metadata": {},
   "source": [
    "## Generate patient files"
   ]
  },
  {
   "cell_type": "code",
   "execution_count": 36,
   "metadata": {},
   "outputs": [],
   "source": [
    "def lookup_full_path(wsi_file, slide_paths, locations):\n",
    "    file_path = None\n",
    "\n",
    "    for location, leaf_dirs in slide_paths.items():\n",
    "        for leaf_dir in leaf_dirs:\n",
    "            if leaf_dir in wsi_file:\n",
    "                file_path = os.path.join(locations[location], wsi_file)\n",
    "\n",
    "    return file_path"
   ]
  },
  {
   "cell_type": "code",
   "execution_count": 39,
   "metadata": {},
   "outputs": [],
   "source": [
    "base_dir = os.path.join(DATA_LOCATION, 'tissue_patches')"
   ]
  },
  {
   "cell_type": "code",
   "execution_count": 40,
   "metadata": {},
   "outputs": [
    {
     "data": {
      "text/plain": [
       "'722cf465-1d93-4f8e-98c0-a6c8be64b05f/TCGA-D1-A3DA-01Z-00-DX1.1A3346E9-8E0D-4BA2-A270-3FB8BA688490.svs'"
      ]
     },
     "execution_count": 40,
     "metadata": {},
     "output_type": "execute_result"
    }
   ],
   "source": [
    "list(file_map.values())[0]"
   ]
  },
  {
   "cell_type": "code",
   "execution_count": 41,
   "metadata": {},
   "outputs": [],
   "source": [
    "def get_patientid_from(file):\n",
    "    return '-'.join(str.split(file, '-')[:3])\n",
    "\n",
    "def list_patch_files(patient_id, patch_dir):    \n",
    "    patches = []\n",
    "    \n",
    "    for patch_file in os.listdir(patch_dir):\n",
    "        if get_patientid_from(patch_file) == patient:\n",
    "            patches.append(patch_file)\n",
    "    \n",
    "    if not patches:\n",
    "        return None\n",
    "    \n",
    "    return patches"
   ]
  },
  {
   "cell_type": "markdown",
   "metadata": {},
   "source": [
    "Check a couple of example patients."
   ]
  },
  {
   "cell_type": "code",
   "execution_count": 42,
   "metadata": {},
   "outputs": [
    {
     "name": "stdout",
     "output_type": "stream",
     "text": [
      "Found 100 patches for patient TCGA-D1-A3DA.\n"
     ]
    },
    {
     "data": {
      "text/plain": [
       "['TCGA-CG-5720-01Z-00-DX1_86708.png',\n",
       " 'TCGA-CG-5720-01Z-00-DX1_e5e9f.png',\n",
       " 'TCGA-CG-5720-01Z-00-DX1_969a7.png',\n",
       " 'TCGA-CG-5720-01Z-00-DX1_c8978.png',\n",
       " 'TCGA-CG-5720-01Z-00-DX1_95266.png']"
      ]
     },
     "execution_count": 42,
     "metadata": {},
     "output_type": "execute_result"
    }
   ],
   "source": [
    "eg_patient = list(file_map.keys())[0]\n",
    "\n",
    "patient_patches = list_patch_files(eg_patient, base_dir)\n",
    "print(f'Found {len(patient_patches)} patches for patient {eg_patient}.')\n",
    "patient_patches[:5]"
   ]
  },
  {
   "cell_type": "code",
   "execution_count": 43,
   "metadata": {},
   "outputs": [
    {
     "name": "stdout",
     "output_type": "stream",
     "text": [
      "Found 100 patches for patient TCGA-CJ-4870.\n"
     ]
    },
    {
     "data": {
      "text/plain": [
       "['TCGA-CG-5720-01Z-00-DX1_86708.png',\n",
       " 'TCGA-CG-5720-01Z-00-DX1_e5e9f.png',\n",
       " 'TCGA-CG-5720-01Z-00-DX1_969a7.png',\n",
       " 'TCGA-CG-5720-01Z-00-DX1_c8978.png',\n",
       " 'TCGA-CG-5720-01Z-00-DX1_95266.png']"
      ]
     },
     "execution_count": 43,
     "metadata": {},
     "output_type": "execute_result"
    }
   ],
   "source": [
    "eg_patient = 'TCGA-CJ-4870'\n",
    "\n",
    "patient_patches = list_patch_files(eg_patient, base_dir)\n",
    "print(f'Found {len(patient_patches)} patches for patient {eg_patient}.')\n",
    "patient_patches[:5]"
   ]
  },
  {
   "cell_type": "code",
   "execution_count": 55,
   "metadata": {},
   "outputs": [
    {
     "name": "stdout",
     "output_type": "stream",
     "text": [
      "Write patient files:\n",
      "8385/8385\n",
      "CPU times: user 1h 18min 28s, sys: 44min, total: 2h 2min 28s\n",
      "Wall time: 2h 2min 26s\n"
     ]
    }
   ],
   "source": [
    "%%time\n",
    "\n",
    "print('Write patient files:')\n",
    "n = len(file_map)\n",
    "\n",
    "unrepresented_patients = []\n",
    "\n",
    "for i, patient in enumerate(file_map):\n",
    "    print('\\r' + f'{str((i + 1))}/{n}', end='')\n",
    "    \n",
    "    patch_dir = os.path.join(DATA_LOCATION, 'tissue_patches')\n",
    "    patches = list_patch_files(patient, patch_dir)\n",
    "    if patches is None:\n",
    "        unrepresented_patients.append(patient)\n",
    "        continue\n",
    "    \n",
    "    file_paths = [os.path.join(patch_dir, p)\n",
    "                  for p in patches]\n",
    "    \n",
    "    target_file = os.path.join(base_dir, str(patient) + '.tsv')\n",
    "   \n",
    "    with open(target_file, 'w') as f:\n",
    "        f.write('\\n'.join(file_paths))\n",
    "print()"
   ]
  },
  {
   "cell_type": "code",
   "execution_count": null,
   "metadata": {},
   "outputs": [],
   "source": [
    "print('# patients with no patches:')\n",
    "print(len(unrepresented_patients))"
   ]
  },
  {
   "cell_type": "code",
   "execution_count": 57,
   "metadata": {},
   "outputs": [
    {
     "data": {
      "text/plain": [
       "['TCGA-5P-A9KC',\n",
       " 'TCGA-EM-A3AI',\n",
       " 'TCGA-R5-A7ZR',\n",
       " 'TCGA-5P-A9KA',\n",
       " 'TCGA-19-1385']"
      ]
     },
     "execution_count": 57,
     "metadata": {},
     "output_type": "execute_result"
    }
   ],
   "source": [
    "unrepresented_patients"
   ]
  },
  {
   "cell_type": "code",
   "execution_count": 44,
   "metadata": {},
   "outputs": [
    {
     "data": {
      "text/plain": [
       "[False, False, False, False, False]"
      ]
     },
     "execution_count": 44,
     "metadata": {},
     "output_type": "execute_result"
    }
   ],
   "source": [
    "# Not in selected patients!\n",
    "unrepresented_patients = ['TCGA-5P-A9KC',\n",
    "                          'TCGA-EM-A3AI',\n",
    "                          'TCGA-5P-A9KA',\n",
    "                          'TCGA-R5-A7ZR',\n",
    "                          'TCGA-19-1385']\n",
    "\n",
    "[x in labels.submitter_id for x in unrepresented_patients]"
   ]
  },
  {
   "cell_type": "markdown",
   "metadata": {},
   "source": [
    "## Reorganize directory\n",
    "\n",
    "Create a folder for each represented patient, move respective WSI patches into it, and, finally, update patch paths in patient files containing the list of patches for each patient."
   ]
  },
  {
   "cell_type": "code",
   "execution_count": 44,
   "metadata": {},
   "outputs": [
    {
     "data": {
      "text/plain": [
       "8381"
      ]
     },
     "execution_count": 44,
     "metadata": {},
     "output_type": "execute_result"
    }
   ],
   "source": [
    "len(os.listdir(DATA_LOCATION))"
   ]
  },
  {
   "cell_type": "code",
   "execution_count": 45,
   "metadata": {},
   "outputs": [
    {
     "data": {
      "text/plain": [
       "['TCGA-92-8064.tsv',\n",
       " 'TCGA-FT-A3EE.tsv',\n",
       " 'TCGA-IZ-A6M8.tsv',\n",
       " 'TCGA-02-0058.tsv',\n",
       " 'TCGA-22-4613.tsv']"
      ]
     },
     "execution_count": 45,
     "metadata": {},
     "output_type": "execute_result"
    }
   ],
   "source": [
    "os.listdir(DATA_LOCATION)[:5]"
   ]
  },
  {
   "cell_type": "code",
   "execution_count": 53,
   "metadata": {},
   "outputs": [
    {
     "name": "stdout",
     "output_type": "stream",
     "text": [
      "Create patient directories: 8380/8380CPU times: user 44min 49s, sys: 22min 40s, total: 1h 7min 30s\n",
      "Wall time: 1h 7min 49s\n"
     ]
    }
   ],
   "source": [
    "%%time\n",
    "\n",
    "patch_dir = os.path.join(DATA_LOCATION, 'tissue_patches')\n",
    "\n",
    "patient_files = [x for x in os.listdir(DATA_LOCATION)\n",
    "                 if x != 'tissue_patches']  # Avoid patch directory\n",
    "\n",
    "for i, patient_file in enumerate(patient_files):\n",
    "    print(f'\\r' + f'Create patient directories:' +\n",
    "          f' {str((i + 1))}/{len(patient_files)}', end='')\n",
    "    patient = patient_file.split('.')[0]\n",
    "    \n",
    "    # Create patient dir\n",
    "    patient_dir = os.path.join(patch_dir, patient)\n",
    "    os.mkdir(patient_dir)\n",
    "    \n",
    "    # Move patient patches into directory\n",
    "    patient_patches = list_patch_files(patient, patch_dir)\n",
    "    patient_patches = [x for x in patient_patches if '.png' in x]  # Not the dir\n",
    "    \n",
    "    for patch in patient_patches:\n",
    "        os.rename(os.path.join(patch_dir, patch),\n",
    "                  os.path.join(patient_dir, patch))\n",
    "print()\n",
    "print()"
   ]
  },
  {
   "cell_type": "code",
   "execution_count": null,
   "metadata": {},
   "outputs": [],
   "source": [
    "%%time\n",
    "\n",
    "# Update patient files\n",
    "# (add patient directory to paths to patches)\n",
    "patient_files = [x for x in os.listdir(DATA_LOCATION)\n",
    "                 if x != 'tissue_patches']  # Avoid patch directory\n",
    "\n",
    "for i, patient_file in enumerate(patient_files):\n",
    "    print(f'\\r' + f'Update paths in patient files:' +\n",
    "          f' {str((i + 1))}/{len(patient_files)}', end='')\n",
    "    \n",
    "    patient = patient_file.split('.')[0]\n",
    "    \n",
    "    # Collect paths from file\n",
    "    patient_file = os.path.join(DATA_LOCATION, patient_file)\n",
    "    file_paths = [line.rstrip('\\n') for line in open(patient_file)]\n",
    "    \n",
    "    # Add new dir name to path\n",
    "    updated_paths = []\n",
    "    \n",
    "    for path in file_paths:\n",
    "        path, file = path.split('tissue_patches')\n",
    "        updated_path = os.path.join(path, '/tissue_patches/', patient, file)\n",
    "        updated_paths.append(updated_path)\n",
    "    \n",
    "    # Write to patient file    \n",
    "    with open(patient_file, 'w') as f:\n",
    "        f.write('\\n'.join(updated_paths))\n",
    "print()\n",
    "print()"
   ]
  },
  {
   "cell_type": "markdown",
   "metadata": {},
   "source": [
    "Many patches remain that were not moved into specific patient directories. These will not be used by the PyTorch dataset, as they are not listed in specific patient files, so I will just delete them."
   ]
  },
  {
   "cell_type": "code",
   "execution_count": 119,
   "metadata": {},
   "outputs": [
    {
     "name": "stdout",
     "output_type": "stream",
     "text": [
      "Number .png patch files: 144394\n",
      "Number of patch directories: 8380\n"
     ]
    }
   ],
   "source": [
    "patch_dir = os.path.join(DATA_LOCATION, 'tissue_patches')\n",
    "\n",
    "print('Number .png patch files:',\n",
    "      len([x for x in os.listdir(patch_dir) if '.png' in x]))\n",
    "print('Number of patch directories:',\n",
    "      len([x for x in os.listdir(patch_dir) if not '.png' in x]))"
   ]
  },
  {
   "cell_type": "code",
   "execution_count": 120,
   "metadata": {},
   "outputs": [],
   "source": [
    "for f in os.listdir(patch_dir):\n",
    "    if '.png' in f:\n",
    "        os.remove(os.path.join(patch_dir, f))"
   ]
  },
  {
   "cell_type": "code",
   "execution_count": 122,
   "metadata": {},
   "outputs": [
    {
     "name": "stdout",
     "output_type": "stream",
     "text": [
      "Number .png patch files: 0\n",
      "Number of patch directories: 8380\n"
     ]
    }
   ],
   "source": [
    "patch_dir = os.path.join(DATA_LOCATION, 'tissue_patches')\n",
    "\n",
    "print('Number .png patch files:',\n",
    "      len([x for x in os.listdir(patch_dir) if '.png' in x]))\n",
    "print('Number of patch directories:',\n",
    "      len([x for x in os.listdir(patch_dir) if not '.png' in x]))"
   ]
  },
  {
   "cell_type": "markdown",
   "metadata": {},
   "source": [
    "## Delete bad patches\n",
    "\n",
    "Quick visual inspection shows that many patches are not suitable (contain mostly background, ink markings, ...).\n",
    "\n",
    "Use a simple mean intensity filter to remove bad patches."
   ]
  },
  {
   "cell_type": "code",
   "execution_count": 40,
   "metadata": {},
   "outputs": [],
   "source": [
    "represented_patients = os.listdir(os.path.join(DATA_LOCATION, 'tissue_patches'))"
   ]
  },
  {
   "cell_type": "code",
   "execution_count": 154,
   "metadata": {},
   "outputs": [
    {
     "data": {
      "text/plain": [
       "8380"
      ]
     },
     "execution_count": 154,
     "metadata": {},
     "output_type": "execute_result"
    }
   ],
   "source": [
    "len(represented_patients)"
   ]
  },
  {
   "cell_type": "code",
   "execution_count": 155,
   "metadata": {},
   "outputs": [
    {
     "name": "stdout",
     "output_type": "stream",
     "text": [
      "8380\n"
     ]
    }
   ],
   "source": [
    "patient_files = os.listdir(DATA_LOCATION)\n",
    "patient_files = [f for f in patient_files if f != 'tissue_patches']\n",
    "print(len(patient_files))"
   ]
  },
  {
   "cell_type": "code",
   "execution_count": 71,
   "metadata": {},
   "outputs": [],
   "source": [
    "def list_patient_patches(patient_id):\n",
    "    path = os.path.join(DATA_LOCATION, 'tissue_patches', patient_id)\n",
    "    files = os.listdir(path)\n",
    "    paths = [os.path.join(DATA_LOCATION, 'tissue_patches', patient_id, f)\n",
    "             for f in files]\n",
    "    \n",
    "    return paths\n",
    "\n",
    "def load_patch(path):\n",
    "    return mpimg.imread(path)\n",
    "\n",
    "# from PIL import Image\n",
    "# def load_patch(path):\n",
    "#     return np.array(Image.open(path))\n",
    "\n",
    "def compute_intensity_mean(patch, print_result=False):\n",
    "    means = []\n",
    "\n",
    "    for ch in range(3):\n",
    "        means.append(patch[:, :, ch].mean())\n",
    "        \n",
    "    if print_result:\n",
    "        print('Channel     Mean')\n",
    "        for i, ch in enumerate('RGB'):\n",
    "            print(f'  {ch}       {means[i]:2f}')\n",
    "\n",
    "    return means"
   ]
  },
  {
   "cell_type": "code",
   "execution_count": 72,
   "metadata": {},
   "outputs": [
    {
     "data": {
      "text/plain": [
       "['/mnt/dataA/TCGA/processed/WSI/tissue_patches/TCGA-RW-A68A/TCGA-RW-A68A-01Z-00-DX1_a01eb.png',\n",
       " '/mnt/dataA/TCGA/processed/WSI/tissue_patches/TCGA-RW-A68A/TCGA-RW-A68A-01Z-00-DX1_a2300.png',\n",
       " '/mnt/dataA/TCGA/processed/WSI/tissue_patches/TCGA-RW-A68A/TCGA-RW-A68A-01Z-00-DX1_d94f0.png',\n",
       " '/mnt/dataA/TCGA/processed/WSI/tissue_patches/TCGA-RW-A68A/TCGA-RW-A68A-01Z-00-DX1_47d9f.png',\n",
       " '/mnt/dataA/TCGA/processed/WSI/tissue_patches/TCGA-RW-A68A/TCGA-RW-A68A-01Z-00-DX1_66efb.png']"
      ]
     },
     "execution_count": 72,
     "metadata": {},
     "output_type": "execute_result"
    }
   ],
   "source": [
    "list_patient_patches(patient_id=represented_patients[0])[:5]"
   ]
  },
  {
   "cell_type": "code",
   "execution_count": 73,
   "metadata": {},
   "outputs": [
    {
     "name": "stdout",
     "output_type": "stream",
     "text": [
      "Channel     Mean\n",
      "  R       0.001814\n",
      "  G       0.000762\n",
      "  B       0.001741\n"
     ]
    }
   ],
   "source": [
    "patch = load_patch(list_patient_patches(patient_id=represented_patients[1])[0])\n",
    "means = compute_intensity_mean(patch / 255., print_result=True)"
   ]
  },
  {
   "cell_type": "code",
   "execution_count": 74,
   "metadata": {},
   "outputs": [
    {
     "data": {
      "image/png": "[encoded data removed]",
      "text/plain": [
       "<Figure size 432x288 with 1 Axes>"
      ]
     },
     "metadata": {
      "needs_background": "light"
     },
     "output_type": "display_data"
    }
   ],
   "source": [
    "imgplot = plt.imshow(patch)"
   ]
  },
  {
   "cell_type": "markdown",
   "metadata": {},
   "source": [
    "### Find outliers"
   ]
  },
  {
   "cell_type": "code",
   "execution_count": 75,
   "metadata": {},
   "outputs": [],
   "source": [
    "def count_patches(patients):\n",
    "    n = 0\n",
    "\n",
    "    for patient in patients:\n",
    "        n += len(list_patient_patches(patient))\n",
    "    \n",
    "    return n"
   ]
  },
  {
   "cell_type": "code",
   "execution_count": 87,
   "metadata": {},
   "outputs": [
    {
     "name": "stdout",
     "output_type": "stream",
     "text": [
      "Total number of patches: 928606\n"
     ]
    }
   ],
   "source": [
    "patch_count = count_patches(patients=represented_patients)\n",
    "print('Total number of patches:', patch_count)"
   ]
  },
  {
   "cell_type": "raw",
   "metadata": {},
   "source": [
    "def list_outliers(threshold=(0, 1)):\n",
    "    low, high = threshold\n",
    "\n",
    "    outlier_paths = []\n",
    "\n",
    "    for i, patient in enumerate(represented_patients):\n",
    "        print(f'\\r', f'Check all patients: {i}/{len(represented_patients)}',\n",
    "              end='')\n",
    "        patch_files = list_patient_patches(patient)\n",
    "\n",
    "        for patch_file in patch_files:\n",
    "            patch = load_patch(patch_file)\n",
    "            means = compute_intensity_mean(patch, print_result=False)\n",
    "            if not low < means[0] < high:\n",
    "                outlier_paths.append(\n",
    "                    os.path.join(DATA_LOCATION, 'tissue_patches', patient, patch_file))\n",
    "\n",
    "    return outlier_paths"
   ]
  },
  {
   "cell_type": "code",
   "execution_count": 76,
   "metadata": {},
   "outputs": [
    {
     "name": "stdout",
     "output_type": "stream",
     "text": [
      " Check all patients: 8379/8380CPU times: user 2h 50min 49s, sys: 3min 17s, total: 2h 54min 6s\n",
      "Wall time: 5h 28min 17s\n"
     ]
    }
   ],
   "source": [
    "%%time\n",
    "\n",
    "# Set thresholds by running some patients and looking at results\n",
    "low = 0.35\n",
    "high = 0.9\n",
    "\n",
    "outlier_paths = []\n",
    "\n",
    "for i, patient in enumerate(represented_patients):\n",
    "    print(f'\\r', f'Check all patients: {i}/{len(represented_patients)}',\n",
    "          end='')\n",
    "    patch_files = list_patient_patches(patient)\n",
    "\n",
    "    for patch_file in patch_files:\n",
    "        patch = load_patch(patch_file)\n",
    "        means = compute_intensity_mean(patch, print_result=False)\n",
    "        if not low < means[0] < high:\n",
    "            outlier_paths.append(\n",
    "                os.path.join(DATA_LOCATION, 'tissue_patches', patient, patch_file))"
   ]
  },
  {
   "cell_type": "code",
   "execution_count": 90,
   "metadata": {},
   "outputs": [
    {
     "name": "stdout",
     "output_type": "stream",
     "text": [
      "33279 outlier patches out of 928606 (3.6%)\n",
      "from 5141 patients out of 8380 (61.3%)\n"
     ]
    }
   ],
   "source": [
    "percent_patches = round(len(outlier_paths) * 100 / patch_count, 1)\n",
    "patients = set([x.split('/')[-2] for x in outlier_paths])\n",
    "percent_patients = round(len(patients) * 100 / len(represented_patients), 1)\n",
    "\n",
    "print(f'{len(outlier_paths)} outlier patches out of {patch_count} ({percent_patches}%)')\n",
    "print(f'from {len(patients)} patients out of {len(represented_patients)} ({percent_patients}%)')"
   ]
  },
  {
   "cell_type": "markdown",
   "metadata": {},
   "source": [
    "### Visualize outlier examples"
   ]
  },
  {
   "cell_type": "code",
   "execution_count": 114,
   "metadata": {},
   "outputs": [
    {
     "name": "stdout",
     "output_type": "stream",
     "text": [
      "Channel     Mean\n",
      "  R       0.332040\n",
      "  G       0.679982\n",
      "  B       0.610262\n"
     ]
    },
    {
     "data": {
      "image/png": "[encoded data removed]",
      "text/plain": [
       "<Figure size 432x288 with 1 Axes>"
      ]
     },
     "metadata": {
      "needs_background": "light"
     },
     "output_type": "display_data"
    }
   ],
   "source": [
    "import random\n",
    "\n",
    "i = random.randint(0, len(outlier_paths) - 1)\n",
    "outlier_patch = load_patch(outlier_paths[i])\n",
    "means = compute_intensity_mean(outlier_patch, print_result=True)\n",
    "imgplot = plt.imshow(outlier_patch)"
   ]
  },
  {
   "cell_type": "markdown",
   "metadata": {},
   "source": [
    "### Delete outlier patch files"
   ]
  },
  {
   "cell_type": "code",
   "execution_count": 123,
   "metadata": {},
   "outputs": [],
   "source": [
    "all_patches = []\n",
    "for pid in represented_patients:\n",
    "    all_patches += list_patient_patches(patient_id=pid)"
   ]
  },
  {
   "cell_type": "code",
   "execution_count": 124,
   "metadata": {},
   "outputs": [
    {
     "data": {
      "text/plain": [
       "928606"
      ]
     },
     "execution_count": 124,
     "metadata": {},
     "output_type": "execute_result"
    }
   ],
   "source": [
    "len(all_patches)"
   ]
  },
  {
   "cell_type": "code",
   "execution_count": 132,
   "metadata": {},
   "outputs": [],
   "source": [
    "def how_many_patches_per_patient(patches):\n",
    "    patches_named_as_patients = ['-'.join(os.path.basename(patch).split('-')[:3])\n",
    "                                 for patch in patches]\n",
    "    \n",
    "    c = Counter(patches_named_as_patients)\n",
    "\n",
    "    print(f'# patches: {len(patches_named_as_patients)}')\n",
    "    print(f'# Represented patients: {len(c)}')\n",
    "    unique_counts = set(c.values())\n",
    "    print(f'Unique #s patches per patient: {unique_counts}')"
   ]
  },
  {
   "cell_type": "code",
   "execution_count": 133,
   "metadata": {},
   "outputs": [
    {
     "name": "stdout",
     "output_type": "stream",
     "text": [
      "# patches: 928606\n",
      "# Represented patients: 8380\n",
      "Unique #s patches per patient: {650, 1550, 400, 150, 800, 550, 299, 300, 700, 450, 199, 200, 599, 600, 350, 99, 100, 749, 750, 499, 500, 250, 1150}\n"
     ]
    }
   ],
   "source": [
    "how_many_patches_per_patient(all_patches)"
   ]
  },
  {
   "cell_type": "code",
   "execution_count": 134,
   "metadata": {},
   "outputs": [
    {
     "data": {
      "text/plain": [
       "['/mnt/dataA/TCGA/processed/WSI/tissue_patches/TCGA-RW-A68A/TCGA-RW-A68A-01Z-00-DX1_47d26.png',\n",
       " '/mnt/dataA/TCGA/processed/WSI/tissue_patches/TCGA-RW-A68A/TCGA-RW-A68A-01Z-00-DX1_79a8e.png',\n",
       " '/mnt/dataA/TCGA/processed/WSI/tissue_patches/TCGA-CV-7421/TCGA-CV-7421-01Z-00-DX1_05f81.png',\n",
       " '/mnt/dataA/TCGA/processed/WSI/tissue_patches/TCGA-CV-7421/TCGA-CV-7421-01Z-00-DX1_5e7bc.png',\n",
       " '/mnt/dataA/TCGA/processed/WSI/tissue_patches/TCGA-CV-7421/TCGA-CV-7421-01Z-00-DX1_4bdba.png']"
      ]
     },
     "execution_count": 134,
     "metadata": {},
     "output_type": "execute_result"
    }
   ],
   "source": [
    "outlier_paths[:5]"
   ]
  },
  {
   "cell_type": "code",
   "execution_count": null,
   "metadata": {},
   "outputs": [],
   "source": [
    "for f in outlier_paths:\n",
    "    os.remove(f)"
   ]
  },
  {
   "cell_type": "code",
   "execution_count": 137,
   "metadata": {},
   "outputs": [
    {
     "data": {
      "text/plain": [
       "895327"
      ]
     },
     "execution_count": 137,
     "metadata": {},
     "output_type": "execute_result"
    }
   ],
   "source": [
    "count_patches(patients=represented_patients)"
   ]
  },
  {
   "cell_type": "code",
   "execution_count": 138,
   "metadata": {},
   "outputs": [
    {
     "data": {
      "text/plain": [
       "895327"
      ]
     },
     "execution_count": 138,
     "metadata": {},
     "output_type": "execute_result"
    }
   ],
   "source": [
    "len(all_patches) - len(outlier_paths)"
   ]
  },
  {
   "cell_type": "markdown",
   "metadata": {},
   "source": [
    "### Generate patient files\n",
    "\n",
    "Update patient files to account for deleted patches."
   ]
  },
  {
   "cell_type": "code",
   "execution_count": 143,
   "metadata": {},
   "outputs": [],
   "source": [
    "all_patches = []\n",
    "for pid in represented_patients:\n",
    "    all_patches += list_patient_patches(patient_id=pid)"
   ]
  },
  {
   "cell_type": "code",
   "execution_count": 156,
   "metadata": {},
   "outputs": [
    {
     "name": "stdout",
     "output_type": "stream",
     "text": [
      "TCGA-IB-7645 no longer among represented patients\n",
      "TCGA-19-0957 no longer among represented patients\n",
      "TCGA-S9-A6UA no longer among represented patients\n",
      "TCGA-CH-5741 no longer among represented patients\n"
     ]
    }
   ],
   "source": [
    "all_patches_ids = list(set(['-'.join(os.path.basename(patch).split('-')[:3])\n",
    "                            for patch in all_patches]))\n",
    "\n",
    "for pid in represented_patients:\n",
    "    if not pid in all_patches_ids:\n",
    "        print(pid, 'no longer among represented patients')"
   ]
  },
  {
   "cell_type": "code",
   "execution_count": 157,
   "metadata": {},
   "outputs": [
    {
     "data": {
      "text/plain": [
       "895327"
      ]
     },
     "execution_count": 157,
     "metadata": {},
     "output_type": "execute_result"
    }
   ],
   "source": [
    "len(all_patches)"
   ]
  },
  {
   "cell_type": "code",
   "execution_count": 161,
   "metadata": {},
   "outputs": [],
   "source": [
    "# Remove previous patient files\n",
    "for f in os.listdir(DATA_LOCATION):\n",
    "    if f != 'tissue_patches':\n",
    "        os.remove(os.path.join(DATA_LOCATION, f))"
   ]
  },
  {
   "cell_type": "code",
   "execution_count": 162,
   "metadata": {},
   "outputs": [
    {
     "data": {
      "text/plain": [
       "['tissue_patches']"
      ]
     },
     "execution_count": 162,
     "metadata": {},
     "output_type": "execute_result"
    }
   ],
   "source": [
    "os.listdir(DATA_LOCATION)"
   ]
  },
  {
   "cell_type": "code",
   "execution_count": 163,
   "metadata": {},
   "outputs": [],
   "source": [
    "patient_patch_map = {}\n",
    "\n",
    "previous_id = None\n",
    "\n",
    "for patch_path in all_patches:\n",
    "    pid = '-'.join(os.path.basename(patch_path).split('-')[:3])\n",
    "    \n",
    "    if not pid in patient_patch_map.keys():\n",
    "        patient_patch_map[pid] = [patch_path]\n",
    "    else:\n",
    "        patient_patch_map[pid].append(patch_path)"
   ]
  },
  {
   "cell_type": "code",
   "execution_count": 164,
   "metadata": {},
   "outputs": [
    {
     "data": {
      "text/plain": [
       "8376"
      ]
     },
     "execution_count": 164,
     "metadata": {},
     "output_type": "execute_result"
    }
   ],
   "source": [
    "len(patient_patch_map)"
   ]
  },
  {
   "cell_type": "code",
   "execution_count": 171,
   "metadata": {},
   "outputs": [
    {
     "name": "stdout",
     "output_type": "stream",
     "text": [
      "Write patient files:\n",
      "8376/8376\n",
      "CPU times: user 656 ms, sys: 293 ms, total: 949 ms\n",
      "Wall time: 747 ms\n"
     ]
    }
   ],
   "source": [
    "%%time\n",
    "\n",
    "print('Write patient files:')\n",
    "\n",
    "base_dir = '/mnt/dataA/TCGA/processed/WSI/'\n",
    "n = len(patient_patch_map)\n",
    "\n",
    "for i, (patient, files) in enumerate(patient_patch_map.items()):\n",
    "    print('\\r' + f'{str((i + 1))}/{n}', end='')\n",
    "    \n",
    "    target_file = os.path.join(DATA_LOCATION, str(patient) + '.txt')\n",
    "\n",
    "    with open(target_file, 'w') as f:\n",
    "        f.write('\\n'.join(patient_files))\n",
    "print()"
   ]
  },
  {
   "cell_type": "code",
   "execution_count": 173,
   "metadata": {},
   "outputs": [
    {
     "data": {
      "text/plain": [
       "8376"
      ]
     },
     "execution_count": 173,
     "metadata": {},
     "output_type": "execute_result"
    }
   ],
   "source": [
    "len([x for x in os.listdir(DATA_LOCATION) if x != 'tissue_patches'])"
   ]
  },
  {
   "cell_type": "markdown",
   "metadata": {},
   "source": [
    "# Compute patch mean and std\n",
    "\n",
    "Since the mean and standard deviation values of the WSI patches may differ from the ImageNet values provided by PyTorch, compute here sensible overall values from the dataset.\n",
    "\n",
    "The dataloader samples random examples from each patient's available patches, so run through full dataloader a couple of times to check variability."
   ]
  },
  {
   "cell_type": "code",
   "execution_count": 5,
   "metadata": {},
   "outputs": [],
   "source": [
    "import sys\n",
    "\n",
    "# Make modules in \"src\" dir visible\n",
    "if os.getcwd() not in sys.path:\n",
    "    sys.path.append(os.path.join(os.getcwd(), os.pardir, 'src'))\n",
    "\n",
    "import utils"
   ]
  },
  {
   "cell_type": "code",
   "execution_count": 9,
   "metadata": {},
   "outputs": [
    {
     "data": {
      "text/plain": [
       "'/mnt/dataA/TCGA/processed/WSI/..'"
      ]
     },
     "execution_count": 9,
     "metadata": {},
     "output_type": "execute_result"
    }
   ],
   "source": [
    "os.path.join(DATA_LOCATION, os.pardir)"
   ]
  },
  {
   "cell_type": "code",
   "execution_count": 10,
   "metadata": {},
   "outputs": [
    {
     "name": "stdout",
     "output_type": "stream",
     "text": [
      "Excluding 2192 patient(s) missing all data.\n",
      "Excluding 279 patient(s) missing all data.\n",
      "Excluding 234 patient(s) missing all data.\n",
      "Data modalities:\n",
      "   wsi\n",
      "\n",
      "Dataset sizes (# patients):\n",
      "   train: 6688\n",
      "   val: 830\n",
      "   test: 858\n",
      "\n",
      "Batch size: 32\n"
     ]
    }
   ],
   "source": [
    "dataloaders = utils.get_dataloaders(data_location=os.path.join(DATA_LOCATION, os.pardir),\n",
    "                                    labels_file='labels.tsv',\n",
    "                                    modalities=['wsi'],\n",
    "                                    wsi_patch_size=299,\n",
    "                                    n_wsi_patches=1,\n",
    "                                    batch_size=32,\n",
    "#                                     exclude_patients=exclude_cancers\n",
    "                                   )"
   ]
  },
  {
   "cell_type": "code",
   "execution_count": 11,
   "metadata": {},
   "outputs": [
    {
     "name": "stdout",
     "output_type": "stream",
     "text": [
      "torch.Size([32, 1, 3, 299, 299])\n"
     ]
    }
   ],
   "source": [
    "for x in dataloaders['train']:\n",
    "    print(x[0]['wsi'].shape)\n",
    "    break"
   ]
  },
  {
   "cell_type": "code",
   "execution_count": 12,
   "metadata": {},
   "outputs": [
    {
     "data": {
      "text/plain": [
       "tensor(0.6077)"
      ]
     },
     "execution_count": 12,
     "metadata": {},
     "output_type": "execute_result"
    }
   ],
   "source": [
    "x[0]['wsi'][:, :, 0, :, :].mean()"
   ]
  },
  {
   "cell_type": "code",
   "execution_count": 13,
   "metadata": {},
   "outputs": [
    {
     "data": {
      "text/plain": [
       "tensor(0.3855)"
      ]
     },
     "execution_count": 13,
     "metadata": {},
     "output_type": "execute_result"
    }
   ],
   "source": [
    "x[0]['wsi'][:, :, 1, :, :].mean()"
   ]
  },
  {
   "cell_type": "code",
   "execution_count": 14,
   "metadata": {},
   "outputs": [
    {
     "data": {
      "text/plain": [
       "tensor(0.5002)"
      ]
     },
     "execution_count": 14,
     "metadata": {},
     "output_type": "execute_result"
    }
   ],
   "source": [
    "x[0]['wsi'][:, :, 2, :, :].mean()"
   ]
  },
  {
   "cell_type": "code",
   "execution_count": 15,
   "metadata": {},
   "outputs": [
    {
     "data": {
      "text/plain": [
       "32"
      ]
     },
     "execution_count": 15,
     "metadata": {},
     "output_type": "execute_result"
    }
   ],
   "source": [
    "x[0]['wsi'].shape[0]"
   ]
  },
  {
   "cell_type": "code",
   "execution_count": 16,
   "metadata": {},
   "outputs": [],
   "source": [
    "import torch\n",
    "from tqdm.notebook import tqdm\n",
    "\n",
    "def compute_wsi_patch_stats(data_loader=dataloaders['train']):\n",
    "    n_channels = 3\n",
    "    n = len(data_loader.dataset)\n",
    "\n",
    "    mean = torch.zeros(n_channels)\n",
    "    std = torch.zeros(n_channels)\n",
    "\n",
    "    print('Computing mean and std..')\n",
    "    for minibatch in tqdm(data_loader):\n",
    "        for j in range(minibatch[0]['wsi'].shape[0]):  # each individual patch\n",
    "            for i in range(n_channels):\n",
    "                mean_value = minibatch[0]['wsi'][:, :, i, :, :].mean()\n",
    "                if mean_value > 0.1:  # avoid all-zero patches (missing data)\n",
    "                    mean[i] += mean_value\n",
    "                    std[i] += minibatch[0]['wsi'][:, :, i, :, :].std()\n",
    "    mean.div_(n)\n",
    "    std.div_(n)\n",
    "    print(mean, std)\n",
    "    \n",
    "    return mean, std"
   ]
  },
  {
   "cell_type": "code",
   "execution_count": 17,
   "metadata": {},
   "outputs": [],
   "source": [
    "multiple_run_means = []\n",
    "multiple_run_stds = []"
   ]
  },
  {
   "cell_type": "code",
   "execution_count": 212,
   "metadata": {},
   "outputs": [
    {
     "data": {
      "application/vnd.jupyter.widget-view+json": {
       "model_id": "f06f27b85533424798184c9cd2019448",
       "version_major": 2,
       "version_minor": 0
      },
      "text/plain": [
       "HBox(children=(FloatProgress(value=0.0, max=5.0), HTML(value='')))"
      ]
     },
     "metadata": {},
     "output_type": "display_data"
    },
    {
     "name": "stdout",
     "output_type": "stream",
     "text": [
      "Computing mean and std..\n"
     ]
    },
    {
     "data": {
      "application/vnd.jupyter.widget-view+json": {
       "model_id": "1ba822fb66d04da9bfe92bec2f7b79b8",
       "version_major": 2,
       "version_minor": 0
      },
      "text/plain": [
       "HBox(children=(FloatProgress(value=0.0, max=209.0), HTML(value='')))"
      ]
     },
     "metadata": {},
     "output_type": "display_data"
    },
    {
     "name": "stdout",
     "output_type": "stream",
     "text": [
      "\n",
      "tensor([0.6439, 0.3901, 0.5068]) tensor([0.1971, 0.2203, 0.2035])\n",
      "Computing mean and std..\n"
     ]
    },
    {
     "data": {
      "application/vnd.jupyter.widget-view+json": {
       "model_id": "9c0172d9d8bf452caf925a432345cd9f",
       "version_major": 2,
       "version_minor": 0
      },
      "text/plain": [
       "HBox(children=(FloatProgress(value=0.0, max=209.0), HTML(value='')))"
      ]
     },
     "metadata": {},
     "output_type": "display_data"
    },
    {
     "name": "stdout",
     "output_type": "stream",
     "text": [
      "\n",
      "tensor([0.6429, 0.3903, 0.5060]) tensor([0.1962, 0.2196, 0.2027])\n",
      "Computing mean and std..\n"
     ]
    },
    {
     "data": {
      "application/vnd.jupyter.widget-view+json": {
       "model_id": "d1342c3cc3db4ed7be624ad72e67aa67",
       "version_major": 2,
       "version_minor": 0
      },
      "text/plain": [
       "HBox(children=(FloatProgress(value=0.0, max=209.0), HTML(value='')))"
      ]
     },
     "metadata": {},
     "output_type": "display_data"
    },
    {
     "name": "stdout",
     "output_type": "stream",
     "text": [
      "\n",
      "tensor([0.6412, 0.3884, 0.5048]) tensor([0.1959, 0.2179, 0.2013])\n",
      "Computing mean and std..\n"
     ]
    },
    {
     "data": {
      "application/vnd.jupyter.widget-view+json": {
       "model_id": "17bd8e9648fb44ba983b034f51e3e587",
       "version_major": 2,
       "version_minor": 0
      },
      "text/plain": [
       "HBox(children=(FloatProgress(value=0.0, max=209.0), HTML(value='')))"
      ]
     },
     "metadata": {},
     "output_type": "display_data"
    },
    {
     "name": "stdout",
     "output_type": "stream",
     "text": [
      "\n",
      "tensor([0.6424, 0.3887, 0.5049]) tensor([0.1954, 0.2186, 0.2014])\n",
      "Computing mean and std..\n"
     ]
    },
    {
     "data": {
      "application/vnd.jupyter.widget-view+json": {
       "model_id": "c0c942b450f84ed69551bf0a0e955659",
       "version_major": 2,
       "version_minor": 0
      },
      "text/plain": [
       "HBox(children=(FloatProgress(value=0.0, max=209.0), HTML(value='')))"
      ]
     },
     "metadata": {},
     "output_type": "display_data"
    },
    {
     "name": "stdout",
     "output_type": "stream",
     "text": [
      "\n",
      "tensor([0.6425, 0.3882, 0.5049]) tensor([0.1965, 0.2196, 0.2028])\n",
      "\n",
      "\n",
      "CPU times: user 52min 55s, sys: 42.9 s, total: 53min 38s\n",
      "Wall time: 8min 59s\n"
     ]
    }
   ],
   "source": [
    "%%time\n",
    "\n",
    "n_runs = 5\n",
    "\n",
    "for _ in tqdm(range(n_runs)):\n",
    "    mean, std = compute_wsi_patch_stats(data_loader=dataloaders['train'])\n",
    "    \n",
    "    multiple_run_means.append(mean)\n",
    "    multiple_run_stds.append(std)\n",
    "print()"
   ]
  },
  {
   "cell_type": "code",
   "execution_count": 213,
   "metadata": {},
   "outputs": [
    {
     "name": "stdout",
     "output_type": "stream",
     "text": [
      "          -- Means --                        -- STDs --\n",
      "tensor([0.6439, 0.3901, 0.5068])   tensor([0.1971, 0.2203, 0.2035])\n",
      "tensor([0.6429, 0.3903, 0.5060])   tensor([0.1962, 0.2196, 0.2027])\n",
      "tensor([0.6412, 0.3884, 0.5048])   tensor([0.1959, 0.2179, 0.2013])\n",
      "tensor([0.6424, 0.3887, 0.5049])   tensor([0.1954, 0.2186, 0.2014])\n",
      "tensor([0.6425, 0.3882, 0.5049])   tensor([0.1965, 0.2196, 0.2028])\n"
     ]
    }
   ],
   "source": [
    "print('          -- Means --' + ' ' * 24 + '-- STDs --')\n",
    "for i in range(len(multiple_run_means)):\n",
    "    print(multiple_run_means[i], ' ', multiple_run_stds[i])"
   ]
  },
  {
   "cell_type": "markdown",
   "metadata": {},
   "source": [
    "# Watermark <a class='tocSkip'></a>"
   ]
  },
  {
   "cell_type": "code",
   "execution_count": 214,
   "metadata": {},
   "outputs": [
    {
     "name": "stdout",
     "output_type": "stream",
     "text": [
      "numpy     1.18.1\n",
      "torch     1.4.0\n",
      "pandas    1.0.1\n",
      "PIL.Image 7.0.0\n",
      "requests  2.22.0\n",
      "json      2.0.9\n",
      "\n",
      "CPython 3.6.7\n",
      "IPython 7.11.1\n",
      "\n",
      "last updated: Thu Apr 30 2020\n"
     ]
    }
   ],
   "source": [
    "%watermark --iversions\n",
    "%watermark -v\n",
    "print()\n",
    "%watermark -u -n"
   ]
  },
  {
   "cell_type": "markdown",
   "metadata": {},
   "source": [
    "[Top of the page](#Top)"
   ]
  }
 ],
 "metadata": {
  "kernelspec": {
   "display_name": "Python 3",
   "language": "python",
   "name": "python3"
  },
  "language_info": {
   "codemirror_mode": {
    "name": "ipython",
    "version": 3
   },
   "file_extension": ".py",
   "mimetype": "text/x-python",
   "name": "python",
   "nbconvert_exporter": "python",
   "pygments_lexer": "ipython3",
   "version": "3.6.7"
  },
  "toc": {
   "base_numbering": 1,
   "nav_menu": {
    "height": "197px",
    "width": "372px"
   },
   "number_sections": true,
   "sideBar": true,
   "skip_h1_title": false,
   "title_cell": "Table of Contents",
   "title_sidebar": "Contents",
   "toc_cell": true,
   "toc_position": {
    "height": "calc(100% - 180px)",
    "left": "10px",
    "top": "150px",
    "width": "298px"
   },
   "toc_section_display": true,
   "toc_window_display": true
  }
 },
 "nbformat": 4,
 "nbformat_minor": 2
}
